{
 "cells": [
  {
   "cell_type": "markdown",
   "id": "0a3a8151",
   "metadata": {},
   "source": [
    "<h2 align = center>Chat Bots</h2>\n",
    "\n",
    "<p>Simulations that can understand human language, process, and return output. This is a concept that is 100 years old.</p></brk>\n",
    "<p>The Turing test was using to measure if a machine could mimik a human being</p>\n",
    "</brk>\n",
    "<p>Types of Chatbots: Text and Voice-based chatbots:</p>\n",
    "<p>Rule-based Chatbot: It has rules it has to follow that were defined by the user.</p>\n",
    "<p>Self-learning: capability to learn and assess the situation.</p>\n",
    "</brk>\n",
    "<p>Types: Helpdesk assistant, email distributor, Home assistant</p>\n",
    "<p></p></brk>\n",
    "<p>Chatbot architecture:</p>\n",
    "<p>Cht window -> interface -> NLP model - corpus/application db</p>\n"
   ]
  },
  {
   "cell_type": "code",
   "execution_count": null,
   "id": "c58555f7",
   "metadata": {},
   "outputs": [],
   "source": [
    "import numpy as np\n",
    "import nltk\n",
    "import string\n",
    "import random\n",
    "from sklearn.feature_extraction.text import TfidfVectorizer\n",
    "from sklearn.metrics.pairwise import cosine_similarity\n",
    "from nltk.stem import WordNetLemmatizer\n",
    "\n",
    "# Pretraining tokenizer\n",
    "nltk.download('punkt')\n",
    "nltk.download('wordnet')"
   ]
  },
  {
   "cell_type": "code",
   "execution_count": 34,
   "id": "42436487",
   "metadata": {},
   "outputs": [],
   "source": [
    "#Importing and Reading the Corpus\n",
    "f = open('rawData/chatbot.txt', 'r', errors = 'ignore')\n",
    "rawDoc = f.read()\n",
    "rawDoc = rawDoc.lower()\n",
    "\n",
    "sent_tokens = nltk.sent_tokenize(rawDoc)\n",
    "word_tokens = nltk.word_tokenize(rawDoc)"
   ]
  },
  {
   "cell_type": "code",
   "execution_count": 35,
   "id": "dce188fc",
   "metadata": {},
   "outputs": [
    {
     "data": {
      "text/plain": [
       "['data', 'science']"
      ]
     },
     "execution_count": 35,
     "metadata": {},
     "output_type": "execute_result"
    }
   ],
   "source": [
    "# Tokenize the text into words\n",
    "word_tokens[:2]"
   ]
  },
  {
   "cell_type": "code",
   "execution_count": 36,
   "id": "4895b73d",
   "metadata": {},
   "outputs": [
    {
     "data": {
      "text/plain": [
       "['data science is an interdisciplinary academic field[1] that uses statistics, scientific computing, scientific methods, processing, scientific visualization, algorithms and systems to extract or extrapolate knowledge and insights from potentially noisy, structured, or unstructured data.',\n",
       " '[2]\\n\\ndata science also integrates domain knowledge from the underlying application domain (e.g., natural sciences, information technology, and medicine).']"
      ]
     },
     "execution_count": 36,
     "metadata": {},
     "output_type": "execute_result"
    }
   ],
   "source": [
    "# Tokenie tex into sentences\n",
    "sent_tokens[:2] \n",
    "#4:55"
   ]
  },
  {
   "cell_type": "code",
   "execution_count": 37,
   "id": "f2af25d1",
   "metadata": {},
   "outputs": [],
   "source": [
    "# Instantiate Lemmer object for word normalization\n",
    "lemmer = nltk.stem.WordNetLemmatizer()\n",
    "\n",
    "# Function to lemmatize each token\n",
    "def LemTokens(tokens):\n",
    "    return [lemmer.lemmatize(token) for token in tokens]\n",
    "\n",
    "# Create a dictionary reference of punctuations\n",
    "remove_punct_dict = dict((ord(punct), None) for punct in string.punctuation)\n",
    "\n",
    "# Function to Tokenize the text, lower the text, remove punctuation, and then lemmatize the word.\n",
    "def LemNormalize(text):\n",
    "    return LemTokens(nltk.word_tokenize(text.lower().translate(remove_punct_dict)))"
   ]
  },
  {
   "cell_type": "markdown",
   "id": "a6d83e54",
   "metadata": {},
   "source": [
    "<b>Define the Greeting</b>"
   ]
  },
  {
   "cell_type": "code",
   "execution_count": 38,
   "id": "004ef930",
   "metadata": {},
   "outputs": [],
   "source": [
    "# list of possible inputs\n",
    "Greetings_Inputs = ['hello', 'hey', 'hi', \"what's up\"]\n",
    "\n",
    "Greet_Responses = ['hi', 'hello you', 'I am happy!', 'You talking to me']\n",
    "\n",
    "# Function to generate a greeting based on user input\n",
    "def greeting(sentence):\n",
    "    for word in sentence.split():\n",
    "        if word.lower() in Greetings_Inputs:\n",
    "            return random.choice(Greet_Responses)\n"
   ]
  },
  {
   "cell_type": "markdown",
   "id": "5180b9e7",
   "metadata": {},
   "source": [
    "<b>Define the Response</b>"
   ]
  },
  {
   "cell_type": "code",
   "execution_count": 39,
   "id": "240599a2",
   "metadata": {},
   "outputs": [],
   "source": [
    "# Function to create model (TFIDF) and input processed data\n",
    "def response(user_response):\n",
    "    botResponse = ''\n",
    "    # frequency of each word in the document. And the frequency of the word accross the document.\n",
    "    tfidfVec = TfidfVectorizer(tokenizer = LemNormalize, stop_words = 'english')\n",
    "    tfidf = tfidfVec.fit_transform(sent_tokens)\n",
    "    \n",
    "    # Once we have our bags of words, we need a normal vectors so our machine can understand\n",
    "    values = cosine_similarity(tfidf[-1], tfidf)\n",
    "    idx = values.argsort()[0][-2]\n",
    "    flat = values.flatten()\n",
    "    flat.sort()\n",
    "    req_tfidf = flat[-2]\n",
    "    \n",
    "    # Exception handling we bot does not understand\n",
    "    if (req_tfidf == 0):\n",
    "        botResponse = botResponse + \"Bruh, I don't understand.\"\n",
    "        return botResponse\n",
    "    \n",
    "    \n",
    "    botResponse = botResponse + sent_tokens[idx]\n",
    "    return botResponse"
   ]
  },
  {
   "cell_type": "markdown",
   "id": "420d7509",
   "metadata": {},
   "source": [
    "<b>Defining start and end protocols</b>"
   ]
  },
  {
   "cell_type": "code",
   "execution_count": 40,
   "id": "24a3e498",
   "metadata": {},
   "outputs": [
    {
     "name": "stdout",
     "output_type": "stream",
     "text": [
      "Assistant: My Name is Quark. Would you like to talk. If not, type Bye at any time.\n",
      "hello\n",
      "Quark: I am happy!\n",
      "hi\n",
      "Quark: hi\n",
      "foundations\n",
      "Quark: both fields require a solid foundation in statistics, programming, and data visualization, as well as the ability to communicate findings effectively to both technical and non-technical audiences.\n",
      "bye\n",
      "Quark: Good Bye and Be Safe!!\n"
     ]
    }
   ],
   "source": [
    "flag = True\n",
    "print('Assistant: My Name is Quark. Would you like to talk. If not, type Bye at any time.')\n",
    "while (flag):\n",
    "    userResponse = input()\n",
    "    userResponse = userResponse.lower()\n",
    "    if userResponse != 'bye':\n",
    "        if userResponse in ('thanks', 'thank you'):\n",
    "            print('Quark: you are welcome')\n",
    "            flag = false\n",
    "        else:\n",
    "            if (greeting(userResponse) != None):\n",
    "                print('Quark: ' + greeting(userResponse))\n",
    "            else:\n",
    "                sent_tokens.append(userResponse)\n",
    "                word_tokens = word_tokens + nltk.word_tokenize(userResponse)\n",
    "                final_words = list(set(word_tokens))\n",
    "                print(\"Quark: \", end=\"\")\n",
    "                print(response(userResponse))\n",
    "                sent_tokens.remove(userResponse)\n",
    "    else:\n",
    "        print(\"Quark: Good Bye and Be Safe!!\")\n",
    "        flag = False"
   ]
  },
  {
   "cell_type": "code",
   "execution_count": null,
   "id": "d33f7066",
   "metadata": {},
   "outputs": [],
   "source": []
  }
 ],
 "metadata": {
  "kernelspec": {
   "display_name": "Python 3 (ipykernel)",
   "language": "python",
   "name": "python3"
  },
  "language_info": {
   "codemirror_mode": {
    "name": "ipython",
    "version": 3
   },
   "file_extension": ".py",
   "mimetype": "text/x-python",
   "name": "python",
   "nbconvert_exporter": "python",
   "pygments_lexer": "ipython3",
   "version": "3.12.4"
  }
 },
 "nbformat": 4,
 "nbformat_minor": 5
}
