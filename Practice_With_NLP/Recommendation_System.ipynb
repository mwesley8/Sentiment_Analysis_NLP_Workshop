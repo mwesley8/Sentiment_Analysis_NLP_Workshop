{
 "cells": [
  {
   "cell_type": "markdown",
   "id": "7a9daa3e",
   "metadata": {},
   "source": [
    "<h2>Recommendation System</h2>\n",
    "<p>https://www.kaggle.com/datasets/parasharmanas/movie-recommendation-system?resource=download</p>"
   ]
  },
  {
   "cell_type": "code",
   "execution_count": 256,
   "id": "2ec4e58d",
   "metadata": {},
   "outputs": [],
   "source": [
    "import pandas as pd\n",
    "\n",
    "ratingsDetails = pd.read_csv('recSysData/ratings.csv')\n"
   ]
  },
  {
   "cell_type": "code",
   "execution_count": 257,
   "id": "546a5087",
   "metadata": {},
   "outputs": [
    {
     "name": "stdout",
     "output_type": "stream",
     "text": [
      "   userId  movieId  rating   timestamp\n",
      "0       1      296     5.0  1147880044\n",
      "1       1      306     3.5  1147868817\n",
      "2       1      307     5.0  1147868828\n",
      "3       1      665     5.0  1147878820\n",
      "4       1      899     3.5  1147868510\n"
     ]
    }
   ],
   "source": [
    "print(ratingsDetails.head())"
   ]
  },
  {
   "cell_type": "code",
   "execution_count": 258,
   "id": "0c036f51",
   "metadata": {},
   "outputs": [
    {
     "name": "stdout",
     "output_type": "stream",
     "text": [
      "          userId  movieId  rating   timestamp\n",
      "25000090  162541    50872     4.5  1240953372\n",
      "25000091  162541    55768     2.5  1240951998\n",
      "25000092  162541    56176     2.0  1240950697\n",
      "25000093  162541    58559     4.0  1240953434\n",
      "25000094  162541    63876     5.0  1240952515\n"
     ]
    }
   ],
   "source": [
    "print(ratingsDetails.tail())"
   ]
  },
  {
   "cell_type": "code",
   "execution_count": 259,
   "id": "69cf7873",
   "metadata": {},
   "outputs": [],
   "source": [
    "ratings_Details = ratingsDetails.sample(n = 500000)"
   ]
  },
  {
   "cell_type": "code",
   "execution_count": 260,
   "id": "d89f07f1",
   "metadata": {},
   "outputs": [
    {
     "data": {
      "text/html": [
       "<div>\n",
       "<style scoped>\n",
       "    .dataframe tbody tr th:only-of-type {\n",
       "        vertical-align: middle;\n",
       "    }\n",
       "\n",
       "    .dataframe tbody tr th {\n",
       "        vertical-align: top;\n",
       "    }\n",
       "\n",
       "    .dataframe thead th {\n",
       "        text-align: right;\n",
       "    }\n",
       "</style>\n",
       "<table border=\"1\" class=\"dataframe\">\n",
       "  <thead>\n",
       "    <tr style=\"text-align: right;\">\n",
       "      <th></th>\n",
       "      <th>userId</th>\n",
       "      <th>movieId</th>\n",
       "      <th>rating</th>\n",
       "      <th>timestamp</th>\n",
       "    </tr>\n",
       "  </thead>\n",
       "  <tbody>\n",
       "    <tr>\n",
       "      <th>14589411</th>\n",
       "      <td>94417</td>\n",
       "      <td>1991</td>\n",
       "      <td>3.0</td>\n",
       "      <td>939232314</td>\n",
       "    </tr>\n",
       "    <tr>\n",
       "      <th>9675043</th>\n",
       "      <td>62808</td>\n",
       "      <td>293</td>\n",
       "      <td>5.0</td>\n",
       "      <td>848385977</td>\n",
       "    </tr>\n",
       "    <tr>\n",
       "      <th>1830538</th>\n",
       "      <td>12171</td>\n",
       "      <td>597</td>\n",
       "      <td>3.0</td>\n",
       "      <td>833268836</td>\n",
       "    </tr>\n",
       "    <tr>\n",
       "      <th>15671363</th>\n",
       "      <td>101489</td>\n",
       "      <td>71264</td>\n",
       "      <td>4.0</td>\n",
       "      <td>1560261686</td>\n",
       "    </tr>\n",
       "    <tr>\n",
       "      <th>4343696</th>\n",
       "      <td>28592</td>\n",
       "      <td>1912</td>\n",
       "      <td>4.0</td>\n",
       "      <td>971107771</td>\n",
       "    </tr>\n",
       "  </tbody>\n",
       "</table>\n",
       "</div>"
      ],
      "text/plain": [
       "          userId  movieId  rating   timestamp\n",
       "14589411   94417     1991     3.0   939232314\n",
       "9675043    62808      293     5.0   848385977\n",
       "1830538    12171      597     3.0   833268836\n",
       "15671363  101489    71264     4.0  1560261686\n",
       "4343696    28592     1912     4.0   971107771"
      ]
     },
     "execution_count": 260,
     "metadata": {},
     "output_type": "execute_result"
    }
   ],
   "source": [
    "ratings_Details.head()"
   ]
  },
  {
   "cell_type": "code",
   "execution_count": 261,
   "id": "ef66fe9e",
   "metadata": {},
   "outputs": [],
   "source": [
    "moviesDetails = pd.read_csv('recSysData/movies.csv')"
   ]
  },
  {
   "cell_type": "code",
   "execution_count": 262,
   "id": "0f10bf68",
   "metadata": {},
   "outputs": [
    {
     "data": {
      "text/html": [
       "<div>\n",
       "<style scoped>\n",
       "    .dataframe tbody tr th:only-of-type {\n",
       "        vertical-align: middle;\n",
       "    }\n",
       "\n",
       "    .dataframe tbody tr th {\n",
       "        vertical-align: top;\n",
       "    }\n",
       "\n",
       "    .dataframe thead th {\n",
       "        text-align: right;\n",
       "    }\n",
       "</style>\n",
       "<table border=\"1\" class=\"dataframe\">\n",
       "  <thead>\n",
       "    <tr style=\"text-align: right;\">\n",
       "      <th></th>\n",
       "      <th>movieId</th>\n",
       "      <th>title</th>\n",
       "      <th>genres</th>\n",
       "    </tr>\n",
       "  </thead>\n",
       "  <tbody>\n",
       "    <tr>\n",
       "      <th>0</th>\n",
       "      <td>1</td>\n",
       "      <td>Toy Story (1995)</td>\n",
       "      <td>Adventure|Animation|Children|Comedy|Fantasy</td>\n",
       "    </tr>\n",
       "    <tr>\n",
       "      <th>1</th>\n",
       "      <td>2</td>\n",
       "      <td>Jumanji (1995)</td>\n",
       "      <td>Adventure|Children|Fantasy</td>\n",
       "    </tr>\n",
       "    <tr>\n",
       "      <th>2</th>\n",
       "      <td>3</td>\n",
       "      <td>Grumpier Old Men (1995)</td>\n",
       "      <td>Comedy|Romance</td>\n",
       "    </tr>\n",
       "    <tr>\n",
       "      <th>3</th>\n",
       "      <td>4</td>\n",
       "      <td>Waiting to Exhale (1995)</td>\n",
       "      <td>Comedy|Drama|Romance</td>\n",
       "    </tr>\n",
       "    <tr>\n",
       "      <th>4</th>\n",
       "      <td>5</td>\n",
       "      <td>Father of the Bride Part II (1995)</td>\n",
       "      <td>Comedy</td>\n",
       "    </tr>\n",
       "  </tbody>\n",
       "</table>\n",
       "</div>"
      ],
      "text/plain": [
       "   movieId                               title  \\\n",
       "0        1                    Toy Story (1995)   \n",
       "1        2                      Jumanji (1995)   \n",
       "2        3             Grumpier Old Men (1995)   \n",
       "3        4            Waiting to Exhale (1995)   \n",
       "4        5  Father of the Bride Part II (1995)   \n",
       "\n",
       "                                        genres  \n",
       "0  Adventure|Animation|Children|Comedy|Fantasy  \n",
       "1                   Adventure|Children|Fantasy  \n",
       "2                               Comedy|Romance  \n",
       "3                         Comedy|Drama|Romance  \n",
       "4                                       Comedy  "
      ]
     },
     "execution_count": 262,
     "metadata": {},
     "output_type": "execute_result"
    }
   ],
   "source": [
    "moviesDetails.head()"
   ]
  },
  {
   "cell_type": "code",
   "execution_count": 263,
   "id": "827af576",
   "metadata": {},
   "outputs": [
    {
     "data": {
      "text/plain": [
       "(25000095, 4)"
      ]
     },
     "execution_count": 263,
     "metadata": {},
     "output_type": "execute_result"
    }
   ],
   "source": [
    "ratingsDetails.shape"
   ]
  },
  {
   "cell_type": "code",
   "execution_count": 264,
   "id": "940bcd07",
   "metadata": {},
   "outputs": [
    {
     "data": {
      "text/plain": [
       "(62423, 3)"
      ]
     },
     "execution_count": 264,
     "metadata": {},
     "output_type": "execute_result"
    }
   ],
   "source": [
    "moviesDetails.shape"
   ]
  },
  {
   "cell_type": "code",
   "execution_count": 265,
   "id": "f02e85d0",
   "metadata": {},
   "outputs": [],
   "source": [
    "dataset = pd.merge(ratingsDetails, moviesDetails, on = \"movieId\")"
   ]
  },
  {
   "cell_type": "code",
   "execution_count": 266,
   "id": "ac91c842",
   "metadata": {},
   "outputs": [
    {
     "data": {
      "text/html": [
       "<div>\n",
       "<style scoped>\n",
       "    .dataframe tbody tr th:only-of-type {\n",
       "        vertical-align: middle;\n",
       "    }\n",
       "\n",
       "    .dataframe tbody tr th {\n",
       "        vertical-align: top;\n",
       "    }\n",
       "\n",
       "    .dataframe thead th {\n",
       "        text-align: right;\n",
       "    }\n",
       "</style>\n",
       "<table border=\"1\" class=\"dataframe\">\n",
       "  <thead>\n",
       "    <tr style=\"text-align: right;\">\n",
       "      <th></th>\n",
       "      <th>userId</th>\n",
       "      <th>movieId</th>\n",
       "      <th>rating</th>\n",
       "      <th>timestamp</th>\n",
       "    </tr>\n",
       "  </thead>\n",
       "  <tbody>\n",
       "    <tr>\n",
       "      <th>count</th>\n",
       "      <td>2.500010e+07</td>\n",
       "      <td>2.500010e+07</td>\n",
       "      <td>2.500010e+07</td>\n",
       "      <td>2.500010e+07</td>\n",
       "    </tr>\n",
       "    <tr>\n",
       "      <th>mean</th>\n",
       "      <td>8.118928e+04</td>\n",
       "      <td>2.138798e+04</td>\n",
       "      <td>3.533854e+00</td>\n",
       "      <td>1.215601e+09</td>\n",
       "    </tr>\n",
       "    <tr>\n",
       "      <th>std</th>\n",
       "      <td>4.679172e+04</td>\n",
       "      <td>3.919886e+04</td>\n",
       "      <td>1.060744e+00</td>\n",
       "      <td>2.268758e+08</td>\n",
       "    </tr>\n",
       "    <tr>\n",
       "      <th>min</th>\n",
       "      <td>1.000000e+00</td>\n",
       "      <td>1.000000e+00</td>\n",
       "      <td>5.000000e-01</td>\n",
       "      <td>7.896520e+08</td>\n",
       "    </tr>\n",
       "    <tr>\n",
       "      <th>25%</th>\n",
       "      <td>4.051000e+04</td>\n",
       "      <td>1.196000e+03</td>\n",
       "      <td>3.000000e+00</td>\n",
       "      <td>1.011747e+09</td>\n",
       "    </tr>\n",
       "    <tr>\n",
       "      <th>50%</th>\n",
       "      <td>8.091400e+04</td>\n",
       "      <td>2.947000e+03</td>\n",
       "      <td>3.500000e+00</td>\n",
       "      <td>1.198868e+09</td>\n",
       "    </tr>\n",
       "    <tr>\n",
       "      <th>75%</th>\n",
       "      <td>1.215570e+05</td>\n",
       "      <td>8.623000e+03</td>\n",
       "      <td>4.000000e+00</td>\n",
       "      <td>1.447205e+09</td>\n",
       "    </tr>\n",
       "    <tr>\n",
       "      <th>max</th>\n",
       "      <td>1.625410e+05</td>\n",
       "      <td>2.091710e+05</td>\n",
       "      <td>5.000000e+00</td>\n",
       "      <td>1.574328e+09</td>\n",
       "    </tr>\n",
       "  </tbody>\n",
       "</table>\n",
       "</div>"
      ],
      "text/plain": [
       "             userId       movieId        rating     timestamp\n",
       "count  2.500010e+07  2.500010e+07  2.500010e+07  2.500010e+07\n",
       "mean   8.118928e+04  2.138798e+04  3.533854e+00  1.215601e+09\n",
       "std    4.679172e+04  3.919886e+04  1.060744e+00  2.268758e+08\n",
       "min    1.000000e+00  1.000000e+00  5.000000e-01  7.896520e+08\n",
       "25%    4.051000e+04  1.196000e+03  3.000000e+00  1.011747e+09\n",
       "50%    8.091400e+04  2.947000e+03  3.500000e+00  1.198868e+09\n",
       "75%    1.215570e+05  8.623000e+03  4.000000e+00  1.447205e+09\n",
       "max    1.625410e+05  2.091710e+05  5.000000e+00  1.574328e+09"
      ]
     },
     "execution_count": 266,
     "metadata": {},
     "output_type": "execute_result"
    }
   ],
   "source": [
    "# The basic statistical data\n",
    "dataset.describe()"
   ]
  },
  {
   "cell_type": "code",
   "execution_count": 267,
   "id": "987f57ac",
   "metadata": {},
   "outputs": [
    {
     "data": {
      "text/html": [
       "<div>\n",
       "<style scoped>\n",
       "    .dataframe tbody tr th:only-of-type {\n",
       "        vertical-align: middle;\n",
       "    }\n",
       "\n",
       "    .dataframe tbody tr th {\n",
       "        vertical-align: top;\n",
       "    }\n",
       "\n",
       "    .dataframe thead th {\n",
       "        text-align: right;\n",
       "    }\n",
       "</style>\n",
       "<table border=\"1\" class=\"dataframe\">\n",
       "  <thead>\n",
       "    <tr style=\"text-align: right;\">\n",
       "      <th></th>\n",
       "      <th>userId</th>\n",
       "      <th>movieId</th>\n",
       "      <th>rating</th>\n",
       "      <th>timestamp</th>\n",
       "      <th>title</th>\n",
       "      <th>genres</th>\n",
       "    </tr>\n",
       "  </thead>\n",
       "  <tbody>\n",
       "    <tr>\n",
       "      <th>25000090</th>\n",
       "      <td>162358</td>\n",
       "      <td>200192</td>\n",
       "      <td>2.0</td>\n",
       "      <td>1553453039</td>\n",
       "      <td>Den frusna leoparden (1986)</td>\n",
       "      <td>(no genres listed)</td>\n",
       "    </tr>\n",
       "    <tr>\n",
       "      <th>25000091</th>\n",
       "      <td>162358</td>\n",
       "      <td>200194</td>\n",
       "      <td>2.0</td>\n",
       "      <td>1553453843</td>\n",
       "      <td>Tough Luck (2004)</td>\n",
       "      <td>Action|Adventure|Thriller</td>\n",
       "    </tr>\n",
       "    <tr>\n",
       "      <th>25000092</th>\n",
       "      <td>162386</td>\n",
       "      <td>139970</td>\n",
       "      <td>3.5</td>\n",
       "      <td>1549215965</td>\n",
       "      <td>I Don't Speak English (1995)</td>\n",
       "      <td>Comedy</td>\n",
       "    </tr>\n",
       "    <tr>\n",
       "      <th>25000093</th>\n",
       "      <td>162386</td>\n",
       "      <td>200726</td>\n",
       "      <td>4.0</td>\n",
       "      <td>1554651417</td>\n",
       "      <td>The Graduates (1995)</td>\n",
       "      <td>Children|Drama</td>\n",
       "    </tr>\n",
       "    <tr>\n",
       "      <th>25000094</th>\n",
       "      <td>162386</td>\n",
       "      <td>200728</td>\n",
       "      <td>4.0</td>\n",
       "      <td>1554651472</td>\n",
       "      <td>Il pesce innamorato (1999)</td>\n",
       "      <td>(no genres listed)</td>\n",
       "    </tr>\n",
       "  </tbody>\n",
       "</table>\n",
       "</div>"
      ],
      "text/plain": [
       "          userId  movieId  rating   timestamp                         title  \\\n",
       "25000090  162358   200192     2.0  1553453039   Den frusna leoparden (1986)   \n",
       "25000091  162358   200194     2.0  1553453843             Tough Luck (2004)   \n",
       "25000092  162386   139970     3.5  1549215965  I Don't Speak English (1995)   \n",
       "25000093  162386   200726     4.0  1554651417          The Graduates (1995)   \n",
       "25000094  162386   200728     4.0  1554651472    Il pesce innamorato (1999)   \n",
       "\n",
       "                             genres  \n",
       "25000090         (no genres listed)  \n",
       "25000091  Action|Adventure|Thriller  \n",
       "25000092                     Comedy  \n",
       "25000093             Children|Drama  \n",
       "25000094         (no genres listed)  "
      ]
     },
     "execution_count": 267,
     "metadata": {},
     "output_type": "execute_result"
    }
   ],
   "source": [
    "dataset.tail()"
   ]
  },
  {
   "cell_type": "code",
   "execution_count": 268,
   "id": "3e38853c",
   "metadata": {},
   "outputs": [
    {
     "data": {
      "text/plain": [
       "(25000095, 7)"
      ]
     },
     "execution_count": 268,
     "metadata": {},
     "output_type": "execute_result"
    }
   ],
   "source": [
    "import datetime\n",
    "from datetime import datetime, date\n",
    "# Change the time stamp to a date and time\n",
    "dataset['datetime'] = pd.to_datetime(dataset['timestamp'])\n",
    "# Output the shape to the user\n",
    "dataset.shape"
   ]
  },
  {
   "cell_type": "code",
   "execution_count": 269,
   "id": "4e5cbb4a",
   "metadata": {},
   "outputs": [
    {
     "data": {
      "text/plain": [
       "userId         162541\n",
       "movieId         59047\n",
       "rating             10\n",
       "timestamp    20115267\n",
       "title           58958\n",
       "genres           1621\n",
       "datetime     20115267\n",
       "dtype: int64"
      ]
     },
     "execution_count": 269,
     "metadata": {},
     "output_type": "execute_result"
    }
   ],
   "source": [
    "# Return how many unique data set\n",
    "dataset.nunique()"
   ]
  },
  {
   "cell_type": "markdown",
   "id": "004887c4",
   "metadata": {},
   "source": [
    "<h3 align = center>Data Manipulation</h3>"
   ]
  },
  {
   "cell_type": "code",
   "execution_count": 270,
   "id": "3789298d",
   "metadata": {},
   "outputs": [
    {
     "data": {
      "text/plain": [
       "title\n",
       "\"BLOW THE NIGHT!\" Let's Spend the Night Together (1983)    3.000000\n",
       "\"Great Performances\" Cats (1998)                           2.896648\n",
       "#1 Cheerleader Camp (2010)                                 2.111111\n",
       "#Captured (2017)                                           3.750000\n",
       "#Female Pleasure (2018)                                    3.666667\n",
       "                                                             ...   \n",
       "…And the Fifth Horseman Is Fear (1965)                     3.250000\n",
       "キサラギ (2007)                                                3.250000\n",
       "チェブラーシカ (2010)                                             3.166667\n",
       "貞子3D (2012)                                                2.375000\n",
       "줄탁동시 (2012)                                                4.000000\n",
       "Name: rating, Length: 58958, dtype: float64"
      ]
     },
     "execution_count": 270,
     "metadata": {},
     "output_type": "execute_result"
    }
   ],
   "source": [
    "# Average Rating\n",
    "myData = dataset\n",
    "\n",
    "avgRating = myData.groupby('title')['rating'].mean()\n",
    "\n",
    "avgRating"
   ]
  },
  {
   "cell_type": "code",
   "execution_count": 271,
   "id": "98939c00",
   "metadata": {},
   "outputs": [],
   "source": [
    "# Sort the rating in descending order\n",
    "sortedRating = avgRating.sort_values(ascending = False)"
   ]
  },
  {
   "cell_type": "code",
   "execution_count": 272,
   "id": "cafd7b4a",
   "metadata": {},
   "outputs": [
    {
     "data": {
      "text/plain": [
       "title\n",
       "Full of Grace (2015)            5.0\n",
       "Geordie (1955)                  5.0\n",
       "Garfield In Paradise (1986)     5.0\n",
       "Lost Woods (2012)               5.0\n",
       "Garfield in the Rough (1984)    5.0\n",
       "                               ... \n",
       "Caro Gorbaciov (1988)           0.5\n",
       "Don't Let Go (2019)             0.5\n",
       "Ice Queen (2005)                0.5\n",
       "The Lodge (2019)                0.5\n",
       "Robot Wars (1993)               0.5\n",
       "Name: rating, Length: 58958, dtype: float64"
      ]
     },
     "execution_count": 272,
     "metadata": {},
     "output_type": "execute_result"
    }
   ],
   "source": [
    "sortedRating"
   ]
  },
  {
   "cell_type": "markdown",
   "id": "ff448d14",
   "metadata": {},
   "source": [
    "<b>Total number of ratings for a particular movie</b>"
   ]
  },
  {
   "cell_type": "code",
   "execution_count": 273,
   "id": "a8c71c16",
   "metadata": {},
   "outputs": [],
   "source": [
    "numRatings = myData.groupby('title')['rating'].count()"
   ]
  },
  {
   "cell_type": "code",
   "execution_count": 274,
   "id": "263c1624",
   "metadata": {},
   "outputs": [
    {
     "data": {
      "text/plain": [
       "title\n",
       "\"BLOW THE NIGHT!\" Let's Spend the Night Together (1983)      1\n",
       "\"Great Performances\" Cats (1998)                           179\n",
       "#1 Cheerleader Camp (2010)                                   9\n",
       "#Captured (2017)                                             2\n",
       "#Female Pleasure (2018)                                      3\n",
       "Name: rating, dtype: int64"
      ]
     },
     "execution_count": 274,
     "metadata": {},
     "output_type": "execute_result"
    }
   ],
   "source": [
    "numRatings.head()"
   ]
  },
  {
   "cell_type": "code",
   "execution_count": 275,
   "id": "fc4241ed",
   "metadata": {},
   "outputs": [],
   "source": [
    "# Instantiate a new dataframe instance\n",
    "newRecord = pd.DataFrame()\n",
    "# Create columns in dataframe\n",
    "newRecord['Average Ratings'] = avgRating\n",
    "newRecord['Count Of Total Ratings'] = numRatings"
   ]
  },
  {
   "cell_type": "code",
   "execution_count": 276,
   "id": "b7ab1e3a",
   "metadata": {},
   "outputs": [
    {
     "data": {
      "text/html": [
       "<div>\n",
       "<style scoped>\n",
       "    .dataframe tbody tr th:only-of-type {\n",
       "        vertical-align: middle;\n",
       "    }\n",
       "\n",
       "    .dataframe tbody tr th {\n",
       "        vertical-align: top;\n",
       "    }\n",
       "\n",
       "    .dataframe thead th {\n",
       "        text-align: right;\n",
       "    }\n",
       "</style>\n",
       "<table border=\"1\" class=\"dataframe\">\n",
       "  <thead>\n",
       "    <tr style=\"text-align: right;\">\n",
       "      <th></th>\n",
       "      <th>Average Ratings</th>\n",
       "      <th>Count Of Total Ratings</th>\n",
       "    </tr>\n",
       "    <tr>\n",
       "      <th>title</th>\n",
       "      <th></th>\n",
       "      <th></th>\n",
       "    </tr>\n",
       "  </thead>\n",
       "  <tbody>\n",
       "    <tr>\n",
       "      <th>\"BLOW THE NIGHT!\" Let's Spend the Night Together (1983)</th>\n",
       "      <td>3.000000</td>\n",
       "      <td>1</td>\n",
       "    </tr>\n",
       "    <tr>\n",
       "      <th>\"Great Performances\" Cats (1998)</th>\n",
       "      <td>2.896648</td>\n",
       "      <td>179</td>\n",
       "    </tr>\n",
       "    <tr>\n",
       "      <th>#1 Cheerleader Camp (2010)</th>\n",
       "      <td>2.111111</td>\n",
       "      <td>9</td>\n",
       "    </tr>\n",
       "    <tr>\n",
       "      <th>#Captured (2017)</th>\n",
       "      <td>3.750000</td>\n",
       "      <td>2</td>\n",
       "    </tr>\n",
       "    <tr>\n",
       "      <th>#Female Pleasure (2018)</th>\n",
       "      <td>3.666667</td>\n",
       "      <td>3</td>\n",
       "    </tr>\n",
       "  </tbody>\n",
       "</table>\n",
       "</div>"
      ],
      "text/plain": [
       "                                                    Average Ratings  \\\n",
       "title                                                                 \n",
       "\"BLOW THE NIGHT!\" Let's Spend the Night Togethe...         3.000000   \n",
       "\"Great Performances\" Cats (1998)                           2.896648   \n",
       "#1 Cheerleader Camp (2010)                                 2.111111   \n",
       "#Captured (2017)                                           3.750000   \n",
       "#Female Pleasure (2018)                                    3.666667   \n",
       "\n",
       "                                                    Count Of Total Ratings  \n",
       "title                                                                       \n",
       "\"BLOW THE NIGHT!\" Let's Spend the Night Togethe...                       1  \n",
       "\"Great Performances\" Cats (1998)                                       179  \n",
       "#1 Cheerleader Camp (2010)                                               9  \n",
       "#Captured (2017)                                                         2  \n",
       "#Female Pleasure (2018)                                                  3  "
      ]
     },
     "execution_count": 276,
     "metadata": {},
     "output_type": "execute_result"
    }
   ],
   "source": [
    "# The two columns are inner joined on the title\n",
    "newRecord.head()"
   ]
  },
  {
   "cell_type": "code",
   "execution_count": 277,
   "id": "ba41f004",
   "metadata": {},
   "outputs": [],
   "source": [
    "# Data Visulization Libraries\n",
    "import matplotlib.pyplot as plt\n",
    "import seaborn as sns\n",
    "\n",
    "sns.set_style('white')\n",
    "%matplotlib inline"
   ]
  },
  {
   "cell_type": "code",
   "execution_count": 278,
   "id": "5a453619",
   "metadata": {},
   "outputs": [
    {
     "data": {
      "text/plain": [
       "<AxesSubplot:>"
      ]
     },
     "execution_count": 278,
     "metadata": {},
     "output_type": "execute_result"
    },
    {
     "data": {
      "image/png": "[encoded data removed]",
      "text/plain": [
       "<Figure size 720x648 with 1 Axes>"
      ]
     },
     "metadata": {
      "needs_background": "light"
     },
     "output_type": "display_data"
    }
   ],
   "source": [
    "# Where did the title go? It is the index used to mearge the data frame\n",
    "newRecord.columns\n",
    "# Determine figure size\n",
    "plt.figure(figsize = (10, 9))\n",
    "# Create histogram with bins\n",
    "newRecord['Count Of Total Ratings'].hist(bins = 100)"
   ]
  },
  {
   "cell_type": "markdown",
   "id": "ab29b04a",
   "metadata": {},
   "source": [
    "<p>The majority of the movies have received less than 50 ratings. The number of movies having more than\n",
    "100 ratings is significantly low.</p>"
   ]
  },
  {
   "cell_type": "code",
   "execution_count": 279,
   "id": "668c73ed",
   "metadata": {},
   "outputs": [
    {
     "data": {
      "text/plain": [
       "<AxesSubplot:>"
      ]
     },
     "execution_count": 279,
     "metadata": {},
     "output_type": "execute_result"
    },
    {
     "data": {
      "image/png": "[encoded data removed]",
      "text/plain": [
       "<Figure size 432x288 with 1 Axes>"
      ]
     },
     "metadata": {
      "needs_background": "light"
     },
     "output_type": "display_data"
    }
   ],
   "source": [
    "newRecord['Average Ratings'].hist(bins = 70)"
   ]
  },
  {
   "cell_type": "markdown",
   "id": "1cfc521b",
   "metadata": {},
   "source": [
    "<p>The integer values are more prominant than the float values. People have a natural tendancy\n",
    "to input whole number number instead of decimals. The data appears to be skewed to the right\n",
    "with a weak normal distribution. A movie with a higher number of ratings generally will have a higher\n",
    "average rating. Removing outliers make your models work better.</p>"
   ]
  },
  {
   "cell_type": "code",
   "execution_count": 280,
   "id": "eb54e585",
   "metadata": {},
   "outputs": [
    {
     "data": {
      "text/plain": [
       "<seaborn.axisgrid.JointGrid at 0x186c0fe9e80>"
      ]
     },
     "execution_count": 280,
     "metadata": {},
     "output_type": "execute_result"
    },
    {
     "data": {
      "text/plain": [
       "<Figure size 576x432 with 0 Axes>"
      ]
     },
     "metadata": {},
     "output_type": "display_data"
    },
    {
     "data": {
      "image/png": "[encoded data removed]",
      "text/plain": [
       "<Figure size 432x432 with 3 Axes>"
      ]
     },
     "metadata": {
      "needs_background": "light"
     },
     "output_type": "display_data"
    }
   ],
   "source": [
    "plt.figure(figsize = (8, 6))\n",
    "sns.jointplot(x = 'Average Ratings', y = 'Count Of Total Ratings', data = newRecord, alpha = 0.4)\n"
   ]
  },
  {
   "cell_type": "markdown",
   "id": "7c165241",
   "metadata": {},
   "source": [
    "<p>From the above, we can see that movies with a higher average rating have a higher number\n",
    "of ratings</p>"
   ]
  },
  {
   "cell_type": "code",
   "execution_count": 281,
   "id": "52df3b67",
   "metadata": {},
   "outputs": [
    {
     "data": {
      "text/html": [
       "<div>\n",
       "<style scoped>\n",
       "    .dataframe tbody tr th:only-of-type {\n",
       "        vertical-align: middle;\n",
       "    }\n",
       "\n",
       "    .dataframe tbody tr th {\n",
       "        vertical-align: top;\n",
       "    }\n",
       "\n",
       "    .dataframe thead th {\n",
       "        text-align: right;\n",
       "    }\n",
       "</style>\n",
       "<table border=\"1\" class=\"dataframe\">\n",
       "  <thead>\n",
       "    <tr style=\"text-align: right;\">\n",
       "      <th></th>\n",
       "      <th>userId</th>\n",
       "      <th>title</th>\n",
       "      <th>rating</th>\n",
       "    </tr>\n",
       "  </thead>\n",
       "  <tbody>\n",
       "    <tr>\n",
       "      <th>12041016</th>\n",
       "      <td>121262</td>\n",
       "      <td>Wedding Singer, The (1998)</td>\n",
       "      <td>3.5</td>\n",
       "    </tr>\n",
       "    <tr>\n",
       "      <th>265584</th>\n",
       "      <td>157711</td>\n",
       "      <td>Good Morning, Vietnam (1987)</td>\n",
       "      <td>3.5</td>\n",
       "    </tr>\n",
       "    <tr>\n",
       "      <th>15892202</th>\n",
       "      <td>89723</td>\n",
       "      <td>Garden State (2004)</td>\n",
       "      <td>3.5</td>\n",
       "    </tr>\n",
       "    <tr>\n",
       "      <th>14785641</th>\n",
       "      <td>156918</td>\n",
       "      <td>Easy Rider (1969)</td>\n",
       "      <td>4.5</td>\n",
       "    </tr>\n",
       "    <tr>\n",
       "      <th>16242670</th>\n",
       "      <td>1776</td>\n",
       "      <td>One Flew Over the Cuckoo's Nest (1975)</td>\n",
       "      <td>5.0</td>\n",
       "    </tr>\n",
       "  </tbody>\n",
       "</table>\n",
       "</div>"
      ],
      "text/plain": [
       "          userId                                   title  rating\n",
       "12041016  121262              Wedding Singer, The (1998)     3.5\n",
       "265584    157711            Good Morning, Vietnam (1987)     3.5\n",
       "15892202   89723                     Garden State (2004)     3.5\n",
       "14785641  156918                       Easy Rider (1969)     4.5\n",
       "16242670    1776  One Flew Over the Cuckoo's Nest (1975)     5.0"
      ]
     },
     "execution_count": 281,
     "metadata": {},
     "output_type": "execute_result"
    }
   ],
   "source": [
    "# Sorting values by a ['Number of Rating column']\n",
    "# Had a list index out of range problem. Decided to sample users from the data\n",
    "# Created a new table of containing userIds for a specific size\n",
    "# Create new data frame\n",
    "newFrame2 = pd.DataFrame()\n",
    "newFrame2['userId'] = myData['userId'].sample(n = 200000)\n",
    "# Assign the new columns of the data frame to the specified targets\n",
    "newFrame2['title'] = myData['title']\n",
    "newFrame2['rating'] = myData['rating']\n",
    "# Output to use\n",
    "newFrame2.head()"
   ]
  },
  {
   "cell_type": "code",
   "execution_count": 282,
   "id": "b2a27c4a",
   "metadata": {},
   "outputs": [
    {
     "data": {
      "text/plain": [
       "(200000, 3)"
      ]
     },
     "execution_count": 282,
     "metadata": {},
     "output_type": "execute_result"
    }
   ],
   "source": [
    "newFrame2.shape"
   ]
  },
  {
   "cell_type": "code",
   "execution_count": 283,
   "id": "a75a716d",
   "metadata": {},
   "outputs": [],
   "source": [
    "movieMatrix = newFrame2.pivot_table(index = 'userId', columns = 'title', values = 'rating')\n"
   ]
  },
  {
   "cell_type": "code",
   "execution_count": 284,
   "id": "912423ce",
   "metadata": {},
   "outputs": [
    {
     "data": {
      "text/html": [
       "<div>\n",
       "<style scoped>\n",
       "    .dataframe tbody tr th:only-of-type {\n",
       "        vertical-align: middle;\n",
       "    }\n",
       "\n",
       "    .dataframe tbody tr th {\n",
       "        vertical-align: top;\n",
       "    }\n",
       "\n",
       "    .dataframe thead th {\n",
       "        text-align: right;\n",
       "    }\n",
       "</style>\n",
       "<table border=\"1\" class=\"dataframe\">\n",
       "  <thead>\n",
       "    <tr style=\"text-align: right;\">\n",
       "      <th>title</th>\n",
       "      <th>\"Great Performances\" Cats (1998)</th>\n",
       "      <th>'71 (2014)</th>\n",
       "      <th>'Round Midnight (1986)</th>\n",
       "      <th>'Salem's Lot (2004)</th>\n",
       "      <th>'Til There Was You (1997)</th>\n",
       "      <th>'burbs, The (1989)</th>\n",
       "      <th>'night Mother (1986)</th>\n",
       "      <th>(500) Days of Summer (2009)</th>\n",
       "      <th>(Dis)Honesty: The Truth About Lies (2015)</th>\n",
       "      <th>*batteries not included (1987)</th>\n",
       "      <th>...</th>\n",
       "      <th>xXx: State of the Union (2005)</th>\n",
       "      <th>¡Three Amigos! (1986)</th>\n",
       "      <th>À nos amours (1983)</th>\n",
       "      <th>À nous la liberté (Freedom for Us) (1931)</th>\n",
       "      <th>À propos de Nice (1930)</th>\n",
       "      <th>Ó Paí, Ó (2007)</th>\n",
       "      <th>Газгольдер: Фильм (2014)</th>\n",
       "      <th>Мартынко (1987)</th>\n",
       "      <th>Пес Барбос и необычный кросс (1961)</th>\n",
       "      <th>貞子3D (2012)</th>\n",
       "    </tr>\n",
       "    <tr>\n",
       "      <th>userId</th>\n",
       "      <th></th>\n",
       "      <th></th>\n",
       "      <th></th>\n",
       "      <th></th>\n",
       "      <th></th>\n",
       "      <th></th>\n",
       "      <th></th>\n",
       "      <th></th>\n",
       "      <th></th>\n",
       "      <th></th>\n",
       "      <th></th>\n",
       "      <th></th>\n",
       "      <th></th>\n",
       "      <th></th>\n",
       "      <th></th>\n",
       "      <th></th>\n",
       "      <th></th>\n",
       "      <th></th>\n",
       "      <th></th>\n",
       "      <th></th>\n",
       "      <th></th>\n",
       "    </tr>\n",
       "  </thead>\n",
       "  <tbody>\n",
       "    <tr>\n",
       "      <th>1</th>\n",
       "      <td>NaN</td>\n",
       "      <td>NaN</td>\n",
       "      <td>NaN</td>\n",
       "      <td>NaN</td>\n",
       "      <td>NaN</td>\n",
       "      <td>NaN</td>\n",
       "      <td>NaN</td>\n",
       "      <td>NaN</td>\n",
       "      <td>NaN</td>\n",
       "      <td>NaN</td>\n",
       "      <td>...</td>\n",
       "      <td>NaN</td>\n",
       "      <td>NaN</td>\n",
       "      <td>NaN</td>\n",
       "      <td>NaN</td>\n",
       "      <td>NaN</td>\n",
       "      <td>NaN</td>\n",
       "      <td>NaN</td>\n",
       "      <td>NaN</td>\n",
       "      <td>NaN</td>\n",
       "      <td>NaN</td>\n",
       "    </tr>\n",
       "    <tr>\n",
       "      <th>3</th>\n",
       "      <td>NaN</td>\n",
       "      <td>NaN</td>\n",
       "      <td>NaN</td>\n",
       "      <td>NaN</td>\n",
       "      <td>NaN</td>\n",
       "      <td>NaN</td>\n",
       "      <td>NaN</td>\n",
       "      <td>NaN</td>\n",
       "      <td>NaN</td>\n",
       "      <td>NaN</td>\n",
       "      <td>...</td>\n",
       "      <td>NaN</td>\n",
       "      <td>NaN</td>\n",
       "      <td>NaN</td>\n",
       "      <td>NaN</td>\n",
       "      <td>NaN</td>\n",
       "      <td>NaN</td>\n",
       "      <td>NaN</td>\n",
       "      <td>NaN</td>\n",
       "      <td>NaN</td>\n",
       "      <td>NaN</td>\n",
       "    </tr>\n",
       "    <tr>\n",
       "      <th>4</th>\n",
       "      <td>NaN</td>\n",
       "      <td>NaN</td>\n",
       "      <td>NaN</td>\n",
       "      <td>NaN</td>\n",
       "      <td>NaN</td>\n",
       "      <td>NaN</td>\n",
       "      <td>NaN</td>\n",
       "      <td>NaN</td>\n",
       "      <td>NaN</td>\n",
       "      <td>NaN</td>\n",
       "      <td>...</td>\n",
       "      <td>NaN</td>\n",
       "      <td>NaN</td>\n",
       "      <td>NaN</td>\n",
       "      <td>NaN</td>\n",
       "      <td>NaN</td>\n",
       "      <td>NaN</td>\n",
       "      <td>NaN</td>\n",
       "      <td>NaN</td>\n",
       "      <td>NaN</td>\n",
       "      <td>NaN</td>\n",
       "    </tr>\n",
       "    <tr>\n",
       "      <th>5</th>\n",
       "      <td>NaN</td>\n",
       "      <td>NaN</td>\n",
       "      <td>NaN</td>\n",
       "      <td>NaN</td>\n",
       "      <td>NaN</td>\n",
       "      <td>NaN</td>\n",
       "      <td>NaN</td>\n",
       "      <td>NaN</td>\n",
       "      <td>NaN</td>\n",
       "      <td>NaN</td>\n",
       "      <td>...</td>\n",
       "      <td>NaN</td>\n",
       "      <td>NaN</td>\n",
       "      <td>NaN</td>\n",
       "      <td>NaN</td>\n",
       "      <td>NaN</td>\n",
       "      <td>NaN</td>\n",
       "      <td>NaN</td>\n",
       "      <td>NaN</td>\n",
       "      <td>NaN</td>\n",
       "      <td>NaN</td>\n",
       "    </tr>\n",
       "    <tr>\n",
       "      <th>8</th>\n",
       "      <td>NaN</td>\n",
       "      <td>NaN</td>\n",
       "      <td>NaN</td>\n",
       "      <td>NaN</td>\n",
       "      <td>NaN</td>\n",
       "      <td>NaN</td>\n",
       "      <td>NaN</td>\n",
       "      <td>NaN</td>\n",
       "      <td>NaN</td>\n",
       "      <td>NaN</td>\n",
       "      <td>...</td>\n",
       "      <td>NaN</td>\n",
       "      <td>NaN</td>\n",
       "      <td>NaN</td>\n",
       "      <td>NaN</td>\n",
       "      <td>NaN</td>\n",
       "      <td>NaN</td>\n",
       "      <td>NaN</td>\n",
       "      <td>NaN</td>\n",
       "      <td>NaN</td>\n",
       "      <td>NaN</td>\n",
       "    </tr>\n",
       "  </tbody>\n",
       "</table>\n",
       "<p>5 rows × 13186 columns</p>\n",
       "</div>"
      ],
      "text/plain": [
       "title   \"Great Performances\" Cats (1998)  '71 (2014)  'Round Midnight (1986)  \\\n",
       "userId                                                                         \n",
       "1                                    NaN         NaN                     NaN   \n",
       "3                                    NaN         NaN                     NaN   \n",
       "4                                    NaN         NaN                     NaN   \n",
       "5                                    NaN         NaN                     NaN   \n",
       "8                                    NaN         NaN                     NaN   \n",
       "\n",
       "title   'Salem's Lot (2004)  'Til There Was You (1997)  'burbs, The (1989)  \\\n",
       "userId                                                                       \n",
       "1                       NaN                        NaN                 NaN   \n",
       "3                       NaN                        NaN                 NaN   \n",
       "4                       NaN                        NaN                 NaN   \n",
       "5                       NaN                        NaN                 NaN   \n",
       "8                       NaN                        NaN                 NaN   \n",
       "\n",
       "title   'night Mother (1986)  (500) Days of Summer (2009)  \\\n",
       "userId                                                      \n",
       "1                        NaN                          NaN   \n",
       "3                        NaN                          NaN   \n",
       "4                        NaN                          NaN   \n",
       "5                        NaN                          NaN   \n",
       "8                        NaN                          NaN   \n",
       "\n",
       "title   (Dis)Honesty: The Truth About Lies (2015)  \\\n",
       "userId                                              \n",
       "1                                             NaN   \n",
       "3                                             NaN   \n",
       "4                                             NaN   \n",
       "5                                             NaN   \n",
       "8                                             NaN   \n",
       "\n",
       "title   *batteries not included (1987)  ...  xXx: State of the Union (2005)  \\\n",
       "userId                                  ...                                   \n",
       "1                                  NaN  ...                             NaN   \n",
       "3                                  NaN  ...                             NaN   \n",
       "4                                  NaN  ...                             NaN   \n",
       "5                                  NaN  ...                             NaN   \n",
       "8                                  NaN  ...                             NaN   \n",
       "\n",
       "title   ¡Three Amigos! (1986)  À nos amours (1983)  \\\n",
       "userId                                               \n",
       "1                         NaN                  NaN   \n",
       "3                         NaN                  NaN   \n",
       "4                         NaN                  NaN   \n",
       "5                         NaN                  NaN   \n",
       "8                         NaN                  NaN   \n",
       "\n",
       "title   À nous la liberté (Freedom for Us) (1931)  À propos de Nice (1930)  \\\n",
       "userId                                                                       \n",
       "1                                             NaN                      NaN   \n",
       "3                                             NaN                      NaN   \n",
       "4                                             NaN                      NaN   \n",
       "5                                             NaN                      NaN   \n",
       "8                                             NaN                      NaN   \n",
       "\n",
       "title   Ó Paí, Ó (2007)  Газгольдер: Фильм (2014)  Мартынко (1987)  \\\n",
       "userId                                                               \n",
       "1                   NaN                       NaN              NaN   \n",
       "3                   NaN                       NaN              NaN   \n",
       "4                   NaN                       NaN              NaN   \n",
       "5                   NaN                       NaN              NaN   \n",
       "8                   NaN                       NaN              NaN   \n",
       "\n",
       "title   Пес Барбос и необычный кросс (1961)  貞子3D (2012)  \n",
       "userId                                                    \n",
       "1                                       NaN          NaN  \n",
       "3                                       NaN          NaN  \n",
       "4                                       NaN          NaN  \n",
       "5                                       NaN          NaN  \n",
       "8                                       NaN          NaN  \n",
       "\n",
       "[5 rows x 13186 columns]"
      ]
     },
     "execution_count": 284,
     "metadata": {},
     "output_type": "execute_result"
    }
   ],
   "source": [
    "movieMatrix.head()"
   ]
  },
  {
   "cell_type": "code",
   "execution_count": 285,
   "id": "e1f3a10e",
   "metadata": {},
   "outputs": [
    {
     "data": {
      "text/plain": [
       "Index(['\"Great Performances\" Cats (1998)', ''71 (2014)',\n",
       "       ''Round Midnight (1986)', ''Salem's Lot (2004)',\n",
       "       ''Til There Was You (1997)', ''burbs, The (1989)',\n",
       "       ''night Mother (1986)', '(500) Days of Summer (2009)',\n",
       "       '(Dis)Honesty: The Truth About Lies (2015)',\n",
       "       '*batteries not included (1987)',\n",
       "       ...\n",
       "       'xXx: State of the Union (2005)', '¡Three Amigos! (1986)',\n",
       "       'À nos amours (1983)', 'À nous la liberté (Freedom for Us) (1931)',\n",
       "       'À propos de Nice (1930)', 'Ó Paí, Ó (2007)',\n",
       "       'Газгольдер: Фильм (2014)', 'Мартынко (1987)',\n",
       "       'Пес Барбос и необычный кросс (1961)', '貞子3D (2012)'],\n",
       "      dtype='object', name='title', length=13186)"
      ]
     },
     "execution_count": 285,
     "metadata": {},
     "output_type": "execute_result"
    }
   ],
   "source": [
    "movieMatrix.columns"
   ]
  },
  {
   "cell_type": "code",
   "execution_count": 286,
   "id": "ba88b92c",
   "metadata": {},
   "outputs": [
    {
     "data": {
      "text/plain": [
       "userId\n",
       "1   NaN\n",
       "3   NaN\n",
       "4   NaN\n",
       "5   NaN\n",
       "8   NaN\n",
       "Name: xXx (2002), dtype: float64"
      ]
     },
     "execution_count": 286,
     "metadata": {},
     "output_type": "execute_result"
    }
   ],
   "source": [
    "investigateXXX = movieMatrix['xXx (2002)']\n",
    "investigateXXX.head()"
   ]
  },
  {
   "cell_type": "markdown",
   "id": "2821cbed",
   "metadata": {},
   "source": [
    "<p>We can find similar movies by comparing the column output of the above to the dataset</p>"
   ]
  },
  {
   "cell_type": "code",
   "execution_count": null,
   "id": "501ff27a",
   "metadata": {},
   "outputs": [],
   "source": [
    "moviesSimilar = movieMatrix.corrwith(investigateXXX)\n",
    "moviesSimilar"
   ]
  },
  {
   "cell_type": "markdown",
   "id": "311e6db2",
   "metadata": {},
   "source": [
    "<p>We can see that it is working perfectly because the corralation between the dataset \n",
    "and our data point will always be one. </p>"
   ]
  },
  {
   "cell_type": "code",
   "execution_count": 288,
   "id": "62aca23c",
   "metadata": {},
   "outputs": [
    {
     "data": {
      "image/png": "[encoded data removed]",
      "text/plain": [
       "<Figure size 1008x648 with 2 Axes>"
      ]
     },
     "metadata": {
      "needs_background": "light"
     },
     "output_type": "display_data"
    }
   ],
   "source": [
    "correlationMetrics = newFrame2.corr()\n",
    "\n",
    "fig = plt.figure(figsize = (14, 9))\n",
    "sns.heatmap(correlationMetrics, annot = True, vmax = .9, square = True)\n",
    "plt.show()"
   ]
  },
  {
   "cell_type": "code",
   "execution_count": 289,
   "id": "88428ccd",
   "metadata": {},
   "outputs": [
    {
     "data": {
      "text/html": [
       "<div>\n",
       "<style scoped>\n",
       "    .dataframe tbody tr th:only-of-type {\n",
       "        vertical-align: middle;\n",
       "    }\n",
       "\n",
       "    .dataframe tbody tr th {\n",
       "        vertical-align: top;\n",
       "    }\n",
       "\n",
       "    .dataframe thead th {\n",
       "        text-align: right;\n",
       "    }\n",
       "</style>\n",
       "<table border=\"1\" class=\"dataframe\">\n",
       "  <thead>\n",
       "    <tr style=\"text-align: right;\">\n",
       "      <th></th>\n",
       "      <th>Correlation</th>\n",
       "    </tr>\n",
       "    <tr>\n",
       "      <th>title</th>\n",
       "      <th></th>\n",
       "    </tr>\n",
       "  </thead>\n",
       "  <tbody>\n",
       "    <tr>\n",
       "      <th>300 (2007)</th>\n",
       "      <td>-1.0</td>\n",
       "    </tr>\n",
       "    <tr>\n",
       "      <th>Alexander (2004)</th>\n",
       "      <td>-1.0</td>\n",
       "    </tr>\n",
       "    <tr>\n",
       "      <th>Coyote Ugly (2000)</th>\n",
       "      <td>1.0</td>\n",
       "    </tr>\n",
       "    <tr>\n",
       "      <th>Death Race (2008)</th>\n",
       "      <td>1.0</td>\n",
       "    </tr>\n",
       "    <tr>\n",
       "      <th>French Connection, The (1971)</th>\n",
       "      <td>1.0</td>\n",
       "    </tr>\n",
       "  </tbody>\n",
       "</table>\n",
       "</div>"
      ],
      "text/plain": [
       "                               Correlation\n",
       "title                                     \n",
       "300 (2007)                            -1.0\n",
       "Alexander (2004)                      -1.0\n",
       "Coyote Ugly (2000)                     1.0\n",
       "Death Race (2008)                      1.0\n",
       "French Connection, The (1971)          1.0"
      ]
     },
     "execution_count": 289,
     "metadata": {},
     "output_type": "execute_result"
    }
   ],
   "source": [
    "xxxReturnCorr = pd.DataFrame(moviesSimilar, columns = ['Correlation'])\n",
    "xxxReturnCorr.dropna(inplace = True)\n",
    "xxxReturnCorr.head()"
   ]
  },
  {
   "cell_type": "code",
   "execution_count": 290,
   "id": "4ce49c0b",
   "metadata": {},
   "outputs": [
    {
     "data": {
      "text/html": [
       "<div>\n",
       "<style scoped>\n",
       "    .dataframe tbody tr th:only-of-type {\n",
       "        vertical-align: middle;\n",
       "    }\n",
       "\n",
       "    .dataframe tbody tr th {\n",
       "        vertical-align: top;\n",
       "    }\n",
       "\n",
       "    .dataframe thead th {\n",
       "        text-align: right;\n",
       "    }\n",
       "</style>\n",
       "<table border=\"1\" class=\"dataframe\">\n",
       "  <thead>\n",
       "    <tr style=\"text-align: right;\">\n",
       "      <th></th>\n",
       "      <th>Correlation</th>\n",
       "    </tr>\n",
       "    <tr>\n",
       "      <th>title</th>\n",
       "      <th></th>\n",
       "    </tr>\n",
       "  </thead>\n",
       "  <tbody>\n",
       "    <tr>\n",
       "      <th>Sex and the City 2 (2010)</th>\n",
       "      <td>-1.0</td>\n",
       "    </tr>\n",
       "    <tr>\n",
       "      <th>Spider-Man (2002)</th>\n",
       "      <td>1.0</td>\n",
       "    </tr>\n",
       "    <tr>\n",
       "      <th>Spider-Man 2 (2004)</th>\n",
       "      <td>-1.0</td>\n",
       "    </tr>\n",
       "    <tr>\n",
       "      <th>True Lies (1994)</th>\n",
       "      <td>1.0</td>\n",
       "    </tr>\n",
       "    <tr>\n",
       "      <th>xXx (2002)</th>\n",
       "      <td>1.0</td>\n",
       "    </tr>\n",
       "  </tbody>\n",
       "</table>\n",
       "</div>"
      ],
      "text/plain": [
       "                           Correlation\n",
       "title                                 \n",
       "Sex and the City 2 (2010)         -1.0\n",
       "Spider-Man (2002)                  1.0\n",
       "Spider-Man 2 (2004)               -1.0\n",
       "True Lies (1994)                   1.0\n",
       "xXx (2002)                         1.0"
      ]
     },
     "execution_count": 290,
     "metadata": {},
     "output_type": "execute_result"
    }
   ],
   "source": [
    "xxxReturnCorr.tail()"
   ]
  },
  {
   "cell_type": "markdown",
   "id": "743b238b",
   "metadata": {},
   "source": [
    "<p>From the above, we can see that there are positive and negetive correlations. If we were doing a \n",
    "movie recommendation, then we would iterate over the list of correlations and return the list in \n",
    "descending order.</p>"
   ]
  }
 ],
 "metadata": {
  "kernelspec": {
   "display_name": "Python 3 (ipykernel)",
   "language": "python",
   "name": "python3"
  },
  "language_info": {
   "codemirror_mode": {
    "name": "ipython",
    "version": 3
   },
   "file_extension": ".py",
   "mimetype": "text/x-python",
   "name": "python",
   "nbconvert_exporter": "python",
   "pygments_lexer": "ipython3",
   "version": "3.12.4"
  }
 },
 "nbformat": 4,
 "nbformat_minor": 5
}
