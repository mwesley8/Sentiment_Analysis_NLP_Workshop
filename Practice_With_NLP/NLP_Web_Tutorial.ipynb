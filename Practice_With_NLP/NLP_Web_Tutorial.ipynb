{
 "cells": [
  {
   "cell_type": "code",
   "execution_count": null,
   "id": "efe41eba",
   "metadata": {},
   "outputs": [],
   "source": [
    "#%pip install PyPDF2"
   ]
  },
  {
   "cell_type": "code",
   "execution_count": 3,
   "id": "0fa33275",
   "metadata": {},
   "outputs": [],
   "source": [
    "import PyPDF2"
   ]
  },
  {
   "cell_type": "code",
   "execution_count": 4,
   "id": "3b2a9dc5",
   "metadata": {},
   "outputs": [],
   "source": [
    "# List object\n",
    "data = open('test/TestDiscussion.pdf', 'rb')"
   ]
  },
  {
   "cell_type": "markdown",
   "id": "fe84bc0a",
   "metadata": {},
   "source": [
    "<p>PDF File Reader was removed in an update. Use PdfReader instead</p>"
   ]
  },
  {
   "cell_type": "code",
   "execution_count": 6,
   "id": "9b61211c",
   "metadata": {},
   "outputs": [],
   "source": [
    "# reader object\n",
    "reader = PyPDF2.PdfReader(data)"
   ]
  },
  {
   "cell_type": "code",
   "execution_count": 8,
   "id": "3437e88d",
   "metadata": {},
   "outputs": [
    {
     "name": "stdout",
     "output_type": "stream",
     "text": [
      "2\n"
     ]
    }
   ],
   "source": [
    "print(len(reader.pages))"
   ]
  },
  {
   "cell_type": "markdown",
   "id": "7e6d59ba",
   "metadata": {},
   "source": [
    "<p>getPage(0) is deprecated. Use reader.pages[index] instead</p>"
   ]
  },
  {
   "cell_type": "code",
   "execution_count": 10,
   "id": "dbf9926a",
   "metadata": {},
   "outputs": [],
   "source": [
    "# Creating a page object\n",
    "page = reader.pages[0]"
   ]
  },
  {
   "cell_type": "markdown",
   "id": "41e26cb1",
   "metadata": {},
   "source": [
    "<p>page.extractText() is depreacated. Use extract_text() instead</p>"
   ]
  },
  {
   "cell_type": "code",
   "execution_count": 12,
   "id": "a40d7d8d",
   "metadata": {},
   "outputs": [
    {
     "name": "stdout",
     "output_type": "stream",
     "text": [
      "Hi, \n",
      "My name is Maurice.  I am a data analytics major and I am originally from the south, but I have  \n",
      "been to all the lower 48 states.  One of the many things I have noticed is that it does not matter \n",
      "where I go , it all starts to look the same: corn, people, then more corn.  Of course, this varies \n",
      "depending on geographical location, however the common consensus remains the same.  I work \n",
      "in supply chain logistics.  My aspirations for this course are to help increase my cognitive ability, \n",
      "enhance my knowledge of the gathering and collecting data requirements , and use this course as \n",
      "a foundation as I build th e necessary skill set to become an analyst.  \n",
      "Data analys is appeals to me because it is one of the few avenues available to make a target \n",
      "income with in a target time frame.  Professional educational development is more important to \n",
      "me.  The only thing constant in life is change.  What I am doing today may not be what I am \n",
      "doing tomorrow.  A data analyst is just a stepping stone towards the unknown.  \n",
      "Instead of Murphy’s law “where if something could go wrong then it most likely will1”, I would \n",
      "like to reference the third law of infernal dynamics  where “the energy required to move an object \n",
      "in the correct direction, or put it in the right place, will be more than you wish to expend but not \n",
      "so much as to make the task impossible2”.  This is analogous to being a data analysis and \n",
      "addressing organizational problems. An organization problem can be seen an object moving in \n",
      "the wrong direction or if something can be done wrong then mostly likely it will happen.  \n",
      "Company’s will always need someone to solve a problem because problems are inevitable.  \n",
      "When considering poor communication or a lack of feedback loops, I think of when I worked at \n",
      "a fast -food restaurant  or the fast -food restaurants  that I visit infrequently.   I would enter the order \n",
      "correctly, but the cook would misread the order  or the server would serve the order with missing \n"
     ]
    }
   ],
   "source": [
    "print(page.extract_text())"
   ]
  },
  {
   "cell_type": "code",
   "execution_count": 13,
   "id": "5c04286b",
   "metadata": {},
   "outputs": [],
   "source": [
    "data.close()"
   ]
  },
  {
   "cell_type": "code",
   "execution_count": 14,
   "id": "8cfd470f",
   "metadata": {},
   "outputs": [],
   "source": [
    "data = open('test/Txt_Discussion.txt', 'rb')"
   ]
  },
  {
   "cell_type": "code",
   "execution_count": 15,
   "id": "d1c6f677",
   "metadata": {},
   "outputs": [
    {
     "data": {
      "text/plain": [
       "b\"Hi,\\r\\nMy name is Maurice.  I am a data analytics major and I am originally from the south, but I have been to all the lower 48 states.  One of the many things I have noticed is that it does not matter where I go, it all starts to look the same: corn, people, then more corn.  Of course, this varies depending on geographical location, however the common consensus remains the same.  I work in supply chain logistics.  My aspirations for this course are to help increase my cognitive ability, enhance my knowledge of the gathering and collecting data requirements, and use this course as a foundation as I build the necessary skill set to become an analyst.\\r\\nData analysis appeals to me because it is one of the few avenues available to make a target income within a target time frame.  Professional educational development is more important to me.  The only thing constant in life is change.  What I am doing today may not be what I am doing tomorrow.  A data analyst is just a stepping stone towards the unknown.\\r\\nInstead of Murphy\\xe2\\x80\\x99s law \\xe2\\x80\\x9cwhere if something could go wrong then it most likely will1\\xe2\\x80\\x9d, I would like to reference the third law of infernal dynamics where \\xe2\\x80\\x9cthe energy required to move an object in the correct direction, or put it in the right place, will be more than you wish to expend but not so much as to make the task impossible2\\xe2\\x80\\x9d.  This is analogous to being a data analysis and addressing organizational problems. An organization problem can be seen an object moving in the wrong direction or if something can be done wrong then mostly likely it will happen.  Company\\xe2\\x80\\x99s will always need someone to solve a problem because problems are inevitable.\\r\\nWhen considering poor communication or a lack of feedback loops, I think of when I worked at a fast-food restaurant or the fast-food restaurants that I visit infrequently.  I would enter the order correctly, but the cook would misread the order or the server would serve the order with missing items.  It is almost guaranteed that an order completed in the drive thru will not be served correctly.  Thus, I started going inside to place an order.  I order french fries with no salt.  I have had a remarkable number of orders that came with salt.  Blending various personalities into a unified team appears unobtainable at a fast-food place.  It seems that ignoring various problems have become an acceptable level of productivity.  Data can provide insight into menu creation and efficiency, but ultimately the employee has to be held accountable. Low wages combined with social stigma hampers employee retention which leads to high turnover.  That being said, I would like to reference the first law of infernal dynamics where \\xe2\\x80\\x9can object in motion will be moving in the wrong direction2\\xe2\\x80\\x9d.  Good luck to everyone in class.\\r\\nCitations,\\r\\n1.\\tLaw of infernal dynamics at, Laws of infernal dynamics - Wikipedia (visited on 05/05/2021)\\r\\n2.\\tMurphy\\xe2\\x80\\x99s Law at, Murphy's law - Wikipedia (visited on 05/05/2021)\\r\\n\""
      ]
     },
     "execution_count": 15,
     "metadata": {},
     "output_type": "execute_result"
    }
   ],
   "source": [
    "data.read()"
   ]
  },
  {
   "cell_type": "code",
   "execution_count": 16,
   "id": "4bbf859c",
   "metadata": {},
   "outputs": [],
   "source": [
    "data.close()"
   ]
  },
  {
   "cell_type": "code",
   "execution_count": 17,
   "id": "2f3f6599",
   "metadata": {},
   "outputs": [],
   "source": [
    "import numpy as np\n",
    "import pandas as pd"
   ]
  },
  {
   "cell_type": "code",
   "execution_count": 25,
   "id": "79b899cb",
   "metadata": {},
   "outputs": [],
   "source": [
    "# Create a CSV object using pandas .read and the name of the csv\n",
    "# Put file in working directory\n",
    "data = pd.read_csv('test/reddit_dataset.csv')"
   ]
  },
  {
   "cell_type": "code",
   "execution_count": 26,
   "id": "f346d7c5",
   "metadata": {},
   "outputs": [
    {
     "data": {
      "text/html": [
       "<div>\n",
       "<style scoped>\n",
       "    .dataframe tbody tr th:only-of-type {\n",
       "        vertical-align: middle;\n",
       "    }\n",
       "\n",
       "    .dataframe tbody tr th {\n",
       "        vertical-align: top;\n",
       "    }\n",
       "\n",
       "    .dataframe thead th {\n",
       "        text-align: right;\n",
       "    }\n",
       "</style>\n",
       "<table border=\"1\" class=\"dataframe\">\n",
       "  <thead>\n",
       "    <tr style=\"text-align: right;\">\n",
       "      <th></th>\n",
       "      <th>clean_comment</th>\n",
       "      <th>category</th>\n",
       "    </tr>\n",
       "  </thead>\n",
       "  <tbody>\n",
       "    <tr>\n",
       "      <th>0</th>\n",
       "      <td>family mormon have never tried explain them t...</td>\n",
       "      <td>1</td>\n",
       "    </tr>\n",
       "    <tr>\n",
       "      <th>1</th>\n",
       "      <td>buddhism has very much lot compatible with chr...</td>\n",
       "      <td>1</td>\n",
       "    </tr>\n",
       "    <tr>\n",
       "      <th>2</th>\n",
       "      <td>seriously don say thing first all they won get...</td>\n",
       "      <td>-1</td>\n",
       "    </tr>\n",
       "    <tr>\n",
       "      <th>3</th>\n",
       "      <td>what you have learned yours and only yours wha...</td>\n",
       "      <td>0</td>\n",
       "    </tr>\n",
       "    <tr>\n",
       "      <th>4</th>\n",
       "      <td>for your own benefit you may want read living ...</td>\n",
       "      <td>1</td>\n",
       "    </tr>\n",
       "  </tbody>\n",
       "</table>\n",
       "</div>"
      ],
      "text/plain": [
       "                                       clean_comment  category\n",
       "0   family mormon have never tried explain them t...         1\n",
       "1  buddhism has very much lot compatible with chr...         1\n",
       "2  seriously don say thing first all they won get...        -1\n",
       "3  what you have learned yours and only yours wha...         0\n",
       "4  for your own benefit you may want read living ...         1"
      ]
     },
     "execution_count": 26,
     "metadata": {},
     "output_type": "execute_result"
    }
   ],
   "source": [
    "data.head()"
   ]
  },
  {
   "cell_type": "code",
   "execution_count": 29,
   "id": "4d7f76b7",
   "metadata": {},
   "outputs": [
    {
     "data": {
      "text/plain": [
       "Index(['clean_comment', 'category'], dtype='object')"
      ]
     },
     "execution_count": 29,
     "metadata": {},
     "output_type": "execute_result"
    }
   ],
   "source": [
    "# To check the columns we can use data.columns\n",
    "data.columns"
   ]
  },
  {
   "cell_type": "code",
   "execution_count": 30,
   "id": "852661c8",
   "metadata": {},
   "outputs": [
    {
     "data": {
      "text/plain": [
       "(37249, 2)"
      ]
     },
     "execution_count": 30,
     "metadata": {},
     "output_type": "execute_result"
    }
   ],
   "source": [
    "data.shape"
   ]
  },
  {
   "cell_type": "code",
   "execution_count": 34,
   "id": "64c3d475",
   "metadata": {},
   "outputs": [
    {
     "data": {
      "text/html": [
       "<div>\n",
       "<style scoped>\n",
       "    .dataframe tbody tr th:only-of-type {\n",
       "        vertical-align: middle;\n",
       "    }\n",
       "\n",
       "    .dataframe tbody tr th {\n",
       "        vertical-align: top;\n",
       "    }\n",
       "\n",
       "    .dataframe thead th {\n",
       "        text-align: right;\n",
       "    }\n",
       "</style>\n",
       "<table border=\"1\" class=\"dataframe\">\n",
       "  <thead>\n",
       "    <tr style=\"text-align: right;\">\n",
       "      <th></th>\n",
       "      <th>category</th>\n",
       "    </tr>\n",
       "  </thead>\n",
       "  <tbody>\n",
       "    <tr>\n",
       "      <th>count</th>\n",
       "      <td>37249.000000</td>\n",
       "    </tr>\n",
       "    <tr>\n",
       "      <th>mean</th>\n",
       "      <td>0.202771</td>\n",
       "    </tr>\n",
       "    <tr>\n",
       "      <th>std</th>\n",
       "      <td>0.778515</td>\n",
       "    </tr>\n",
       "    <tr>\n",
       "      <th>min</th>\n",
       "      <td>-1.000000</td>\n",
       "    </tr>\n",
       "    <tr>\n",
       "      <th>25%</th>\n",
       "      <td>0.000000</td>\n",
       "    </tr>\n",
       "    <tr>\n",
       "      <th>50%</th>\n",
       "      <td>0.000000</td>\n",
       "    </tr>\n",
       "    <tr>\n",
       "      <th>75%</th>\n",
       "      <td>1.000000</td>\n",
       "    </tr>\n",
       "    <tr>\n",
       "      <th>max</th>\n",
       "      <td>1.000000</td>\n",
       "    </tr>\n",
       "  </tbody>\n",
       "</table>\n",
       "</div>"
      ],
      "text/plain": [
       "           category\n",
       "count  37249.000000\n",
       "mean       0.202771\n",
       "std        0.778515\n",
       "min       -1.000000\n",
       "25%        0.000000\n",
       "50%        0.000000\n",
       "75%        1.000000\n",
       "max        1.000000"
      ]
     },
     "execution_count": 34,
     "metadata": {},
     "output_type": "execute_result"
    }
   ],
   "source": [
    "# Total count, mean, standard deviation and quartiles of your data\n",
    "data.describe()"
   ]
  },
  {
   "cell_type": "code",
   "execution_count": 35,
   "id": "d1e76e6c",
   "metadata": {},
   "outputs": [
    {
     "data": {
      "text/plain": [
       "clean_comment     True\n",
       "category         False\n",
       "dtype: bool"
      ]
     },
     "execution_count": 35,
     "metadata": {},
     "output_type": "execute_result"
    }
   ],
   "source": [
    "# Now we can check the data to see if we have any null values\n",
    "data.isnull().any()"
   ]
  },
  {
   "cell_type": "code",
   "execution_count": 36,
   "id": "6709b8f7",
   "metadata": {},
   "outputs": [
    {
     "data": {
      "text/plain": [
       "clean_comment    100\n",
       "category           0\n",
       "dtype: int64"
      ]
     },
     "execution_count": 36,
     "metadata": {},
     "output_type": "execute_result"
    }
   ],
   "source": [
    "# We can find the total number of null or not available values in the dataset\n",
    "data.isnull().sum()"
   ]
  },
  {
   "cell_type": "code",
   "execution_count": 37,
   "id": "3724fbb2",
   "metadata": {},
   "outputs": [],
   "source": [
    "# Function call or statement to remove null values\n",
    "data_part = data.dropna()"
   ]
  },
  {
   "cell_type": "code",
   "execution_count": 38,
   "id": "14df1154",
   "metadata": {},
   "outputs": [
    {
     "data": {
      "text/html": [
       "<div>\n",
       "<style scoped>\n",
       "    .dataframe tbody tr th:only-of-type {\n",
       "        vertical-align: middle;\n",
       "    }\n",
       "\n",
       "    .dataframe tbody tr th {\n",
       "        vertical-align: top;\n",
       "    }\n",
       "\n",
       "    .dataframe thead th {\n",
       "        text-align: right;\n",
       "    }\n",
       "</style>\n",
       "<table border=\"1\" class=\"dataframe\">\n",
       "  <thead>\n",
       "    <tr style=\"text-align: right;\">\n",
       "      <th></th>\n",
       "      <th>clean_comment</th>\n",
       "      <th>category</th>\n",
       "    </tr>\n",
       "  </thead>\n",
       "  <tbody>\n",
       "    <tr>\n",
       "      <th>0</th>\n",
       "      <td>family mormon have never tried explain them t...</td>\n",
       "      <td>1</td>\n",
       "    </tr>\n",
       "    <tr>\n",
       "      <th>1</th>\n",
       "      <td>buddhism has very much lot compatible with chr...</td>\n",
       "      <td>1</td>\n",
       "    </tr>\n",
       "    <tr>\n",
       "      <th>2</th>\n",
       "      <td>seriously don say thing first all they won get...</td>\n",
       "      <td>-1</td>\n",
       "    </tr>\n",
       "    <tr>\n",
       "      <th>3</th>\n",
       "      <td>what you have learned yours and only yours wha...</td>\n",
       "      <td>0</td>\n",
       "    </tr>\n",
       "    <tr>\n",
       "      <th>4</th>\n",
       "      <td>for your own benefit you may want read living ...</td>\n",
       "      <td>1</td>\n",
       "    </tr>\n",
       "    <tr>\n",
       "      <th>...</th>\n",
       "      <td>...</td>\n",
       "      <td>...</td>\n",
       "    </tr>\n",
       "    <tr>\n",
       "      <th>37244</th>\n",
       "      <td>jesus</td>\n",
       "      <td>0</td>\n",
       "    </tr>\n",
       "    <tr>\n",
       "      <th>37245</th>\n",
       "      <td>kya bhai pure saal chutiya banaya modi aur jab...</td>\n",
       "      <td>1</td>\n",
       "    </tr>\n",
       "    <tr>\n",
       "      <th>37246</th>\n",
       "      <td>downvote karna tha par upvote hogaya</td>\n",
       "      <td>0</td>\n",
       "    </tr>\n",
       "    <tr>\n",
       "      <th>37247</th>\n",
       "      <td>haha nice</td>\n",
       "      <td>1</td>\n",
       "    </tr>\n",
       "    <tr>\n",
       "      <th>37248</th>\n",
       "      <td>facebook itself now working bjp’ cell</td>\n",
       "      <td>0</td>\n",
       "    </tr>\n",
       "  </tbody>\n",
       "</table>\n",
       "<p>37149 rows × 2 columns</p>\n",
       "</div>"
      ],
      "text/plain": [
       "                                           clean_comment  category\n",
       "0       family mormon have never tried explain them t...         1\n",
       "1      buddhism has very much lot compatible with chr...         1\n",
       "2      seriously don say thing first all they won get...        -1\n",
       "3      what you have learned yours and only yours wha...         0\n",
       "4      for your own benefit you may want read living ...         1\n",
       "...                                                  ...       ...\n",
       "37244                                              jesus         0\n",
       "37245  kya bhai pure saal chutiya banaya modi aur jab...         1\n",
       "37246              downvote karna tha par upvote hogaya          0\n",
       "37247                                         haha nice          1\n",
       "37248             facebook itself now working bjp’ cell          0\n",
       "\n",
       "[37149 rows x 2 columns]"
      ]
     },
     "execution_count": 38,
     "metadata": {},
     "output_type": "execute_result"
    }
   ],
   "source": [
    "data_part"
   ]
  },
  {
   "cell_type": "code",
   "execution_count": 39,
   "id": "382cb3af",
   "metadata": {},
   "outputs": [
    {
     "data": {
      "text/plain": [
       "clean_comment    0\n",
       "category         0\n",
       "dtype: int64"
      ]
     },
     "execution_count": 39,
     "metadata": {},
     "output_type": "execute_result"
    }
   ],
   "source": [
    "# We verify is the null values have been dropped from the table\n",
    "data_part.isnull().sum()"
   ]
  },
  {
   "cell_type": "code",
   "execution_count": 41,
   "id": "050df469",
   "metadata": {},
   "outputs": [
    {
     "data": {
      "text/plain": [
       "(37149, 2)"
      ]
     },
     "execution_count": 41,
     "metadata": {},
     "output_type": "execute_result"
    }
   ],
   "source": [
    "# Function call to return the number of rows and columns\n",
    "data_part.shape"
   ]
  },
  {
   "cell_type": "markdown",
   "id": "5a00b8a0",
   "metadata": {},
   "source": [
    "<h2 align=center>Tokenization</h2>"
   ]
  },
  {
   "cell_type": "markdown",
   "id": "017aec22",
   "metadata": {},
   "source": [
    "<h3>Line Tokenization</h3>\n",
    "<p>We have to do tokenization to understand language</p></brk>"
   ]
  },
  {
   "cell_type": "code",
   "execution_count": null,
   "id": "e6395619",
   "metadata": {},
   "outputs": [],
   "source": [
    "# Import the library for tokenizatoin\n",
    "import nltk\n",
    "\n",
    "# Needed to download punkt for tokenization. Commented out to prevent further downloads\n",
    "#nltk.download('punkt')"
   ]
  },
  {
   "cell_type": "code",
   "execution_count": 52,
   "id": "3f0ef57a",
   "metadata": {},
   "outputs": [
    {
     "name": "stdout",
     "output_type": "stream",
     "text": [
      "['Welcome to your new job!', 'Heres your des!', 'Your phone.', 'Your company car!', 'Good day?']\n"
     ]
    }
   ],
   "source": [
    "data = 'Welcome to your new job! Heres your des! Your phone. Your company car! Good day?'\n",
    "tokens = nltk.sent_tokenize(data)\n",
    "print(tokens)"
   ]
  },
  {
   "cell_type": "markdown",
   "id": "d865ad65",
   "metadata": {},
   "source": [
    "<h3>Word Tokenization</h3>"
   ]
  },
  {
   "cell_type": "code",
   "execution_count": 53,
   "id": "9429d517",
   "metadata": {},
   "outputs": [
    {
     "name": "stdout",
     "output_type": "stream",
     "text": [
      "['Welcome', 'to', 'your', 'new', 'job', '!', '!', 'Please', 'take', 'a', 'moment', 'to', 'explore', 'the', 'area', '.']\n"
     ]
    }
   ],
   "source": [
    "data = \"Welcome to your new job!! Please take a moment to explore the area.\"\n",
    "tokens = nltk.word_tokenize(data)\n",
    "\n",
    "print(tokens)"
   ]
  },
  {
   "cell_type": "code",
   "execution_count": 54,
   "id": "80a55c15",
   "metadata": {},
   "outputs": [
    {
     "data": {
      "text/plain": [
       "16"
      ]
     },
     "execution_count": 54,
     "metadata": {},
     "output_type": "execute_result"
    }
   ],
   "source": [
    "# The data type is a list: type(data). Thus, we use len(data)\n",
    "len(tokens)"
   ]
  },
  {
   "cell_type": "markdown",
   "id": "be5b203d",
   "metadata": {},
   "source": [
    "<h2 align=center>Stemming</h2>\n",
    "</brk>\n",
    "<p>We can remove common prefixes and suffixes from word. Make the dataset more dense</p></br>\n",
    "<p>Runs faster</p>"
   ]
  },
  {
   "cell_type": "code",
   "execution_count": 55,
   "id": "60e1bedc",
   "metadata": {},
   "outputs": [],
   "source": [
    "from nltk.stem import PorterStemmer"
   ]
  },
  {
   "cell_type": "code",
   "execution_count": 56,
   "id": "2dbc5369",
   "metadata": {},
   "outputs": [],
   "source": [
    "ps = PorterStemmer()"
   ]
  },
  {
   "cell_type": "code",
   "execution_count": 57,
   "id": "f35f007a",
   "metadata": {},
   "outputs": [
    {
     "name": "stdout",
     "output_type": "stream",
     "text": [
      "Like : like\n",
      "Liking : like\n",
      "Likes : like\n"
     ]
    }
   ],
   "source": [
    "words = ['Like', 'Liking', 'Likes']\n",
    "\n",
    "for word in words:\n",
    "    print(f'{word} : {ps.stem(word)}')\n"
   ]
  },
  {
   "cell_type": "markdown",
   "id": "c06576b5",
   "metadata": {},
   "source": [
    "<h2 align=center>Lemmantization</h2>\n",
    "</brk>\n",
    "<p>Basically returning a word back to its original form by checking the word</br>\n",
    "against a dictionary. Can be hard to implement. Helping : Help</p>"
   ]
  },
  {
   "cell_type": "code",
   "execution_count": null,
   "id": "1a624e38",
   "metadata": {},
   "outputs": [],
   "source": [
    "# Library needed to perform the operation\n",
    "nltk.download(\"wordnet\")\n",
    "\n",
    "from nltk.stem import WordNetLemmantizer\n",
    "\n",
    "wnl = WordNetLemmantizer()\n",
    "\n",
    "print('socks', wnl.lemmantize('socks'))\n",
    "print('shoes', wnl.lemmantize('shoes'))"
   ]
  },
  {
   "cell_type": "markdown",
   "id": "f3304f7d",
   "metadata": {},
   "source": [
    "<h2 align=center>Stop Word Removal</h2></br>\n",
    "<p>Makes the predictions more accurate</p>"
   ]
  },
  {
   "cell_type": "code",
   "execution_count": null,
   "id": "01b8e7ac",
   "metadata": {},
   "outputs": [],
   "source": [
    "# Import nl tokenizer library\n",
    "import nltk\n",
    "\n",
    "# Retrieve the stopwords vocabulary\n",
    "from nltk.corpus import stopwords\n",
    "\n",
    "# Place vocabulary in working directory\n",
    "# nltk.download('stopwords')"
   ]
  },
  {
   "cell_type": "code",
   "execution_count": 2,
   "id": "161873dd",
   "metadata": {},
   "outputs": [
    {
     "name": "stdout",
     "output_type": "stream",
     "text": [
      "['ثمنمئة', 'تسعمئة', 'مائة', 'ثلاثمائة', 'أربعمائة', 'خمسمائة', 'ستمائة', 'سبعمائة', 'ثمانمئة', 'تسعمائة', 'عشرون', 'ثلاثون', 'اربعون', 'خمسون', 'ستون', 'سبعون', 'ثمانون', 'تسعون', 'عشرين', 'ثلاثين', 'اربعين', 'خمسين', 'ستين', 'سبعين', 'ثمانين', 'تسعين', 'بضع', 'نيف', 'أجمع', 'جميع', 'عامة', 'عين', 'نفس', 'لا سيما', 'أصلا', 'أهلا', 'أيضا', 'بؤسا', 'بعدا', 'بغتة', 'تعسا', 'حقا', 'حمدا', 'خلافا', 'خاصة', 'دواليك', 'سحقا', 'سرا', 'سمعا', 'صبرا', 'صدقا', 'صراحة', 'طرا', 'عجبا', 'عيانا', 'غالبا', 'فرادى', 'فضلا', 'قاطبة', 'كثيرا']\n"
     ]
    }
   ],
   "source": [
    "data = \"I am slowly learning NLP. Hopefully, my sincerity will lead to positive rewards.\"\n",
    "\n",
    "# Create a vocabulary with english stop words\n",
    "stop_word = set(stopwords.words('english'))\n",
    "\n",
    "# Print the entire object /or insert the list range of english values\n",
    "print(stopwords.words() [620:680])"
   ]
  },
  {
   "cell_type": "code",
   "execution_count": 3,
   "id": "48399d55",
   "metadata": {},
   "outputs": [],
   "source": [
    "# Word tokenize the data into a list of values\n",
    "data = nltk.word_tokenize(data)"
   ]
  },
  {
   "cell_type": "code",
   "execution_count": 4,
   "id": "7380e3be",
   "metadata": {},
   "outputs": [
    {
     "name": "stdout",
     "output_type": "stream",
     "text": [
      "['I', 'am', 'slowly', 'learning', 'NLP', '.', 'Hopefully', ',', 'my', 'sincerity', 'will', 'lead', 'to', 'positive', 'rewards', '.']\n"
     ]
    }
   ],
   "source": [
    "print(data)"
   ]
  },
  {
   "cell_type": "code",
   "execution_count": 6,
   "id": "42aa2dda",
   "metadata": {},
   "outputs": [
    {
     "name": "stdout",
     "output_type": "stream",
     "text": [
      "am\n",
      "my\n",
      "will\n",
      "to\n"
     ]
    }
   ],
   "source": [
    "# Loop to interate over each value in list\n",
    "for word in data:\n",
    "    # Condition to check if word is in vocabulary object\n",
    "    if word in stop_word:\n",
    "        # Output to user\n",
    "        print(word)"
   ]
  },
  {
   "cell_type": "markdown",
   "id": "d4b9dd56",
   "metadata": {},
   "source": [
    "<h2 align=center>Modeling Techniques</h2>"
   ]
  },
  {
   "cell_type": "markdown",
   "id": "aa2ab7ba",
   "metadata": {},
   "source": [
    "<p><b>Bag of Words</b></p>\n",
    "<p>It is a modeling technique that transforms a document into a bag of words and counts the number of most frequently used words. It changes tokens into a set of features.</p>"
   ]
  },
  {
   "cell_type": "markdown",
   "id": "3f4c91c3",
   "metadata": {},
   "source": [
    "<p><b>TF-IDF</b></p></brk>\n",
    "<p>It stands for term frequency and iverse document frequency. It helps determine the relevancy of a word in a document.</p></brk>\n",
    "<p>The process to calculate TF-IDF is to multiply two metrics. The frequency (of a term devided by the number of terms) times the frequency (total number of documents devided by the total number of documents that have the term) accross all documents. Then take the log of that quotient</p>"
   ]
  },
  {
   "cell_type": "markdown",
   "id": "e0c69a26",
   "metadata": {},
   "source": [
    "<p><b>Word Embedding</b><p></brk>\n",
    "<p>It is the process of converting words as a vector of numbers. It enables the machine to make an inference and establishes a distance between two tokens</p>\n",
    "<ol>\n",
    "    <li>Word2Vec</li>\n",
    "    <li>Glove</li>\n",
    "    <li>FastText</li>\n",
    "</ol>"
   ]
  },
  {
   "cell_type": "markdown",
   "id": "fc824cfc",
   "metadata": {},
   "source": [
    "<h2 align=center>Machine Learning</h2>\n",
    "<p>It is the ablity of a machine to learn and update its policies without human interference.</p>\n",
    "<p>Elements in design:</p>\n",
    "<ol>\n",
    "    <li>Model Building</li>\n",
    "    <li>Test Data</li>\n",
    "    <li>Training Data</li>\n",
    "</ol>"
   ]
  },
  {
   "cell_type": "markdown",
   "id": "6cd89b31",
   "metadata": {},
   "source": [
    "<b>Machine Learning Life Cycle</b></brk>\n",
    "<ol>\n",
    "    <li>Understand the business problem</li>\n",
    "    <li>Data acquisition</li>\n",
    "    <li>Data cleaning: unstructured or semi-structured</li>\n",
    "    <li>Exploratory Data Analysis</li>\n",
    "    <li>Machine learning Algorithm</li>\n",
    "    <li>Predict the model's accuracy</li>\n",
    "</ol>"
   ]
  },
  {
   "cell_type": "markdown",
   "id": "f29e27c4",
   "metadata": {},
   "source": [
    "<b>Types of Machine Learning</b></brk>\n",
    "<ol>\n",
    "    <li>Supervised: There will be a supervisor. The data becomes the supervisor</li>\n",
    "    <ul>\n",
    "        <li>Logistic Regression is used to predict the probability of the target variable.The output is a discrete variable 1 or 0\n",
    "        </li>\n",
    "        <li>It implements the sigmoid function (1/1+e^-value)</li>\n",
    "        <li>1 means success and 0 means unsuccess</li>\n",
    "    </ul>\n",
    "    <p></p>\n",
    "    <li>Unsupervised: Make a cluster</li>\n",
    "    <ul>\n",
    "        <li>Sentiment Analysis</li>\n",
    "        <li>It is a technique used to analyze the positive, negative, or neutral emmotion around a specifc topic</li>\n",
    "        <li>Sentiments in text are given a value between -1 and 1. The process is decribed as polarity</li>\n",
    "    </ul>\n",
    "    <p></p>\n",
    "    <li>Reinforcement: Self driving car. Rewards and Penalties</li>\n",
    "</ol>"
   ]
  },
  {
   "cell_type": "markdown",
   "id": "bc9fb410",
   "metadata": {},
   "source": [
    "<h3 align=center>Sentiment Anaysis Project</h3>"
   ]
  },
  {
   "cell_type": "markdown",
   "id": "281a11c3",
   "metadata": {},
   "source": [
    "Citation:\n",
    "@InProceedings{maas-EtAl:2011:ACL-HLT2011,\n",
    "  author    = {Maas, Andrew L.  and  Daly, Raymond E.  and  Pham, Peter T.  and  Huang, Dan  and  Ng, Andrew Y.  and  Potts, Christopher},\n",
    "  title     = {Learning Word Vectors for Sentiment Analysis},\n",
    "  booktitle = {Proceedings of the 49th Annual Meeting of the Association for Computational Linguistics: Human Language Technologies},\n",
    "  month     = {June},\n",
    "  year      = {2011},\n",
    "  address   = {Portland, Oregon, USA},\n",
    "  publisher = {Association for Computational Linguistics},\n",
    "  pages     = {142--150},\n",
    "  url       = {http://www.aclweb.org/anthology/P11-1015}\n",
    "}"
   ]
  },
  {
   "cell_type": "markdown",
   "id": "cac03223",
   "metadata": {},
   "source": [
    "https://www.kaggle.com/datasets/lakshmi25npathi/imdb-dataset-of-50k-movie-reviews"
   ]
  },
  {
   "cell_type": "code",
   "execution_count": 8,
   "id": "dd25cc40",
   "metadata": {},
   "outputs": [],
   "source": [
    "import numpy as np\n",
    "import pandas as pd\n",
    "\n",
    "# Access subfolder\n",
    "data = pd.read_csv('rawData/IMDB_Dataset.csv')"
   ]
  },
  {
   "cell_type": "code",
   "execution_count": 2,
   "id": "66028a93",
   "metadata": {},
   "outputs": [
    {
     "data": {
      "text/html": [
       "<div>\n",
       "<style scoped>\n",
       "    .dataframe tbody tr th:only-of-type {\n",
       "        vertical-align: middle;\n",
       "    }\n",
       "\n",
       "    .dataframe tbody tr th {\n",
       "        vertical-align: top;\n",
       "    }\n",
       "\n",
       "    .dataframe thead th {\n",
       "        text-align: right;\n",
       "    }\n",
       "</style>\n",
       "<table border=\"1\" class=\"dataframe\">\n",
       "  <thead>\n",
       "    <tr style=\"text-align: right;\">\n",
       "      <th></th>\n",
       "      <th>review</th>\n",
       "      <th>sentiment</th>\n",
       "    </tr>\n",
       "  </thead>\n",
       "  <tbody>\n",
       "    <tr>\n",
       "      <th>0</th>\n",
       "      <td>One of the other reviewers has mentioned that ...</td>\n",
       "      <td>1</td>\n",
       "    </tr>\n",
       "    <tr>\n",
       "      <th>1</th>\n",
       "      <td>A wonderful little production. &lt;br /&gt;&lt;br /&gt;The...</td>\n",
       "      <td>1</td>\n",
       "    </tr>\n",
       "    <tr>\n",
       "      <th>2</th>\n",
       "      <td>I thought this was a wonderful way to spend ti...</td>\n",
       "      <td>1</td>\n",
       "    </tr>\n",
       "    <tr>\n",
       "      <th>3</th>\n",
       "      <td>Basically there's a family where a little boy ...</td>\n",
       "      <td>0</td>\n",
       "    </tr>\n",
       "    <tr>\n",
       "      <th>4</th>\n",
       "      <td>Petter Mattei's \"Love in the Time of Money\" is...</td>\n",
       "      <td>1</td>\n",
       "    </tr>\n",
       "  </tbody>\n",
       "</table>\n",
       "</div>"
      ],
      "text/plain": [
       "                                              review  sentiment\n",
       "0  One of the other reviewers has mentioned that ...          1\n",
       "1  A wonderful little production. <br /><br />The...          1\n",
       "2  I thought this was a wonderful way to spend ti...          1\n",
       "3  Basically there's a family where a little boy ...          0\n",
       "4  Petter Mattei's \"Love in the Time of Money\" is...          1"
      ]
     },
     "execution_count": 2,
     "metadata": {},
     "output_type": "execute_result"
    }
   ],
   "source": [
    "# Data Analysis\n",
    "data.head()"
   ]
  },
  {
   "cell_type": "code",
   "execution_count": 3,
   "id": "670f412e",
   "metadata": {},
   "outputs": [
    {
     "data": {
      "text/html": [
       "<div>\n",
       "<style scoped>\n",
       "    .dataframe tbody tr th:only-of-type {\n",
       "        vertical-align: middle;\n",
       "    }\n",
       "\n",
       "    .dataframe tbody tr th {\n",
       "        vertical-align: top;\n",
       "    }\n",
       "\n",
       "    .dataframe thead th {\n",
       "        text-align: right;\n",
       "    }\n",
       "</style>\n",
       "<table border=\"1\" class=\"dataframe\">\n",
       "  <thead>\n",
       "    <tr style=\"text-align: right;\">\n",
       "      <th></th>\n",
       "      <th>review</th>\n",
       "      <th>sentiment</th>\n",
       "    </tr>\n",
       "  </thead>\n",
       "  <tbody>\n",
       "    <tr>\n",
       "      <th>49995</th>\n",
       "      <td>I thought this movie did a down right good job...</td>\n",
       "      <td>1</td>\n",
       "    </tr>\n",
       "    <tr>\n",
       "      <th>49996</th>\n",
       "      <td>Bad plot, bad dialogue, bad acting, idiotic di...</td>\n",
       "      <td>0</td>\n",
       "    </tr>\n",
       "    <tr>\n",
       "      <th>49997</th>\n",
       "      <td>I am a Catholic taught in parochial elementary...</td>\n",
       "      <td>0</td>\n",
       "    </tr>\n",
       "    <tr>\n",
       "      <th>49998</th>\n",
       "      <td>I'm going to have to disagree with the previou...</td>\n",
       "      <td>0</td>\n",
       "    </tr>\n",
       "    <tr>\n",
       "      <th>49999</th>\n",
       "      <td>No one expects the Star Trek movies to be high...</td>\n",
       "      <td>0</td>\n",
       "    </tr>\n",
       "  </tbody>\n",
       "</table>\n",
       "</div>"
      ],
      "text/plain": [
       "                                                  review  sentiment\n",
       "49995  I thought this movie did a down right good job...          1\n",
       "49996  Bad plot, bad dialogue, bad acting, idiotic di...          0\n",
       "49997  I am a Catholic taught in parochial elementary...          0\n",
       "49998  I'm going to have to disagree with the previou...          0\n",
       "49999  No one expects the Star Trek movies to be high...          0"
      ]
     },
     "execution_count": 3,
     "metadata": {},
     "output_type": "execute_result"
    }
   ],
   "source": [
    "# Data Analysis\n",
    "data.tail()"
   ]
  },
  {
   "cell_type": "code",
   "execution_count": 4,
   "id": "bfc939d7",
   "metadata": {},
   "outputs": [
    {
     "data": {
      "text/plain": [
       "Index(['review', 'sentiment'], dtype='object')"
      ]
     },
     "execution_count": 4,
     "metadata": {},
     "output_type": "execute_result"
    }
   ],
   "source": [
    "# Data analysis\n",
    "data.columns"
   ]
  },
  {
   "cell_type": "code",
   "execution_count": 5,
   "id": "91de3c69",
   "metadata": {},
   "outputs": [
    {
     "data": {
      "text/plain": [
       "review       False\n",
       "sentiment    False\n",
       "dtype: bool"
      ]
     },
     "execution_count": 5,
     "metadata": {},
     "output_type": "execute_result"
    }
   ],
   "source": [
    "data.isnull().any()"
   ]
  },
  {
   "cell_type": "code",
   "execution_count": 6,
   "id": "1396afa7",
   "metadata": {},
   "outputs": [
    {
     "data": {
      "text/html": [
       "<div>\n",
       "<style scoped>\n",
       "    .dataframe tbody tr th:only-of-type {\n",
       "        vertical-align: middle;\n",
       "    }\n",
       "\n",
       "    .dataframe tbody tr th {\n",
       "        vertical-align: top;\n",
       "    }\n",
       "\n",
       "    .dataframe thead th {\n",
       "        text-align: right;\n",
       "    }\n",
       "</style>\n",
       "<table border=\"1\" class=\"dataframe\">\n",
       "  <thead>\n",
       "    <tr style=\"text-align: right;\">\n",
       "      <th></th>\n",
       "      <th>sentiment</th>\n",
       "    </tr>\n",
       "  </thead>\n",
       "  <tbody>\n",
       "    <tr>\n",
       "      <th>count</th>\n",
       "      <td>50000.000000</td>\n",
       "    </tr>\n",
       "    <tr>\n",
       "      <th>mean</th>\n",
       "      <td>0.500000</td>\n",
       "    </tr>\n",
       "    <tr>\n",
       "      <th>std</th>\n",
       "      <td>0.500005</td>\n",
       "    </tr>\n",
       "    <tr>\n",
       "      <th>min</th>\n",
       "      <td>0.000000</td>\n",
       "    </tr>\n",
       "    <tr>\n",
       "      <th>25%</th>\n",
       "      <td>0.000000</td>\n",
       "    </tr>\n",
       "    <tr>\n",
       "      <th>50%</th>\n",
       "      <td>0.500000</td>\n",
       "    </tr>\n",
       "    <tr>\n",
       "      <th>75%</th>\n",
       "      <td>1.000000</td>\n",
       "    </tr>\n",
       "    <tr>\n",
       "      <th>max</th>\n",
       "      <td>1.000000</td>\n",
       "    </tr>\n",
       "  </tbody>\n",
       "</table>\n",
       "</div>"
      ],
      "text/plain": [
       "          sentiment\n",
       "count  50000.000000\n",
       "mean       0.500000\n",
       "std        0.500005\n",
       "min        0.000000\n",
       "25%        0.000000\n",
       "50%        0.500000\n",
       "75%        1.000000\n",
       "max        1.000000"
      ]
     },
     "execution_count": 6,
     "metadata": {},
     "output_type": "execute_result"
    }
   ],
   "source": [
    "data.describe()"
   ]
  },
  {
   "cell_type": "code",
   "execution_count": 7,
   "id": "fb5c3282",
   "metadata": {},
   "outputs": [
    {
     "data": {
      "text/plain": [
       "1    25000\n",
       "0    25000\n",
       "Name: sentiment, dtype: int64"
      ]
     },
     "execution_count": 7,
     "metadata": {},
     "output_type": "execute_result"
    }
   ],
   "source": [
    "# Data Analysis\n",
    "data['sentiment'].value_counts()"
   ]
  },
  {
   "cell_type": "markdown",
   "id": "0f7fb410",
   "metadata": {},
   "source": [
    "<b>Ran as administrator</b></brk>\n",
    "<ol>\n",
    "    <li>conda update --all</li>\n",
    "    <li>pip install -U scikit-learn</li>\n",
    "    <li>pip install wordcloud</li>\n",
    "    <li>pip install spacy</li>\n",
    "    <li>pip install textblob</li>\n",
    "    <li>pip install tensorflow==2.14</li>\n",
    "    <li>automatically installs keras==2.14.0</li>\n",
    "    <li>pip install PyQt5==5.12.3</li>\n",
    "    <li>pip install pyqtwebengine==5.12.1</li>\n",
    "</ol>"
   ]
  },
  {
   "cell_type": "markdown",
   "id": "fb08042a",
   "metadata": {},
   "source": [
    "<p>No module name preprocessing. Commented out and continuing</p>"
   ]
  },
  {
   "cell_type": "code",
   "execution_count": null,
   "id": "01585064",
   "metadata": {},
   "outputs": [],
   "source": [
    "import seaborn as sns\n",
    "import matplotlib.pyplot as plt\n",
    "import nltk\n",
    "from sklearn.feature_extraction.text import CountVectorizer\n",
    "from sklearn.feature_extraction.text import TfidfVectorizer\n",
    "#from sklearn.preprocesssing import LabelBinarizer\n",
    "from nltk.corpus import stopwords\n",
    "from nltk.stem import PorterStemmer\n",
    "from wordcloud import WordCloud,STOPWORDS\n",
    "from nltk.stem import WordNetLemmatizer\n",
    "from nltk.tokenize import word_tokenize, sent_tokenize"
   ]
  },
  {
   "cell_type": "code",
   "execution_count": 9,
   "id": "490afc08",
   "metadata": {},
   "outputs": [],
   "source": [
    "import spacy\n",
    "import re, string, unicodedata\n",
    "from nltk.tokenize.toktok import ToktokTokenizer\n",
    "from nltk.stem import LancasterStemmer, WordNetLemmatizer\n",
    "from sklearn.linear_model import LogisticRegression,SGDClassifier\n",
    "from sklearn.naive_bayes import MultinomialNB\n",
    "from sklearn.svm import SVC\n",
    "from textblob import TextBlob\n",
    "from textblob import Word\n",
    "from sklearn.metrics import classification_report,confusion_matrix,accuracy_score\n",
    "from bs4 import BeautifulSoup"
   ]
  },
  {
   "cell_type": "code",
   "execution_count": null,
   "id": "7b18b99e",
   "metadata": {},
   "outputs": [],
   "source": [
    "# Only need to download once\n",
    "#nltk.download('stopwords')\n",
    "#print(stopwords.words())"
   ]
  },
  {
   "cell_type": "markdown",
   "id": "06db23b9",
   "metadata": {},
   "source": [
    "<h2 align=center>Tokenization</h2>"
   ]
  },
  {
   "cell_type": "code",
   "execution_count": 10,
   "id": "8a47f761",
   "metadata": {},
   "outputs": [],
   "source": [
    "# Used to tokenize text\n",
    "tokenizer = ToktokTokenizer\n",
    "\n",
    "# Configure english stop words\n",
    "stopWords = nltk.corpus.stopwords.words('english')"
   ]
  },
  {
   "cell_type": "code",
   "execution_count": 11,
   "id": "f7e586eb",
   "metadata": {},
   "outputs": [],
   "source": [
    "# Function to remove noise with soup\n",
    "def removeNoiseTXT(text):\n",
    "    soup = BeautifulSoup(text, 'html.parser')\n",
    "    text = soup.getText()\n",
    "    # Remove special characters\n",
    "    text = re.sub('\\[[^]]*\\]', '', text)\n",
    "    return text"
   ]
  },
  {
   "cell_type": "code",
   "execution_count": 12,
   "id": "2c449760",
   "metadata": {},
   "outputs": [],
   "source": [
    "import numpy as np\n",
    "import pandas as pd\n",
    "\n",
    "# Access subfolder\n",
    "data = pd.read_csv('rawData/IMDB_Dataset.csv')"
   ]
  },
  {
   "cell_type": "code",
   "execution_count": 13,
   "id": "d96fb550",
   "metadata": {},
   "outputs": [
    {
     "data": {
      "text/html": [
       "<div>\n",
       "<style scoped>\n",
       "    .dataframe tbody tr th:only-of-type {\n",
       "        vertical-align: middle;\n",
       "    }\n",
       "\n",
       "    .dataframe tbody tr th {\n",
       "        vertical-align: top;\n",
       "    }\n",
       "\n",
       "    .dataframe thead th {\n",
       "        text-align: right;\n",
       "    }\n",
       "</style>\n",
       "<table border=\"1\" class=\"dataframe\">\n",
       "  <thead>\n",
       "    <tr style=\"text-align: right;\">\n",
       "      <th></th>\n",
       "      <th>review</th>\n",
       "      <th>sentiment</th>\n",
       "    </tr>\n",
       "  </thead>\n",
       "  <tbody>\n",
       "    <tr>\n",
       "      <th>0</th>\n",
       "      <td>One of the other reviewers has mentioned that ...</td>\n",
       "      <td>1</td>\n",
       "    </tr>\n",
       "    <tr>\n",
       "      <th>1</th>\n",
       "      <td>A wonderful little production. &lt;br /&gt;&lt;br /&gt;The...</td>\n",
       "      <td>1</td>\n",
       "    </tr>\n",
       "    <tr>\n",
       "      <th>2</th>\n",
       "      <td>I thought this was a wonderful way to spend ti...</td>\n",
       "      <td>1</td>\n",
       "    </tr>\n",
       "    <tr>\n",
       "      <th>3</th>\n",
       "      <td>Basically there's a family where a little boy ...</td>\n",
       "      <td>0</td>\n",
       "    </tr>\n",
       "    <tr>\n",
       "      <th>4</th>\n",
       "      <td>Petter Mattei's \"Love in the Time of Money\" is...</td>\n",
       "      <td>1</td>\n",
       "    </tr>\n",
       "  </tbody>\n",
       "</table>\n",
       "</div>"
      ],
      "text/plain": [
       "                                              review  sentiment\n",
       "0  One of the other reviewers has mentioned that ...          1\n",
       "1  A wonderful little production. <br /><br />The...          1\n",
       "2  I thought this was a wonderful way to spend ti...          1\n",
       "3  Basically there's a family where a little boy ...          0\n",
       "4  Petter Mattei's \"Love in the Time of Money\" is...          1"
      ]
     },
     "execution_count": 13,
     "metadata": {},
     "output_type": "execute_result"
    }
   ],
   "source": [
    "data.head()"
   ]
  },
  {
   "cell_type": "code",
   "execution_count": 14,
   "id": "0d60ea99",
   "metadata": {},
   "outputs": [],
   "source": [
    "# Apply the function to the text column\n",
    "data['review']=data['review'].apply(removeNoiseTXT)"
   ]
  },
  {
   "cell_type": "code",
   "execution_count": 15,
   "id": "519bfe90",
   "metadata": {},
   "outputs": [
    {
     "data": {
      "text/html": [
       "<div>\n",
       "<style scoped>\n",
       "    .dataframe tbody tr th:only-of-type {\n",
       "        vertical-align: middle;\n",
       "    }\n",
       "\n",
       "    .dataframe tbody tr th {\n",
       "        vertical-align: top;\n",
       "    }\n",
       "\n",
       "    .dataframe thead th {\n",
       "        text-align: right;\n",
       "    }\n",
       "</style>\n",
       "<table border=\"1\" class=\"dataframe\">\n",
       "  <thead>\n",
       "    <tr style=\"text-align: right;\">\n",
       "      <th></th>\n",
       "      <th>review</th>\n",
       "      <th>sentiment</th>\n",
       "    </tr>\n",
       "  </thead>\n",
       "  <tbody>\n",
       "    <tr>\n",
       "      <th>0</th>\n",
       "      <td>One of the other reviewers has mentioned that ...</td>\n",
       "      <td>1</td>\n",
       "    </tr>\n",
       "    <tr>\n",
       "      <th>1</th>\n",
       "      <td>A wonderful little production. The filming tec...</td>\n",
       "      <td>1</td>\n",
       "    </tr>\n",
       "    <tr>\n",
       "      <th>2</th>\n",
       "      <td>I thought this was a wonderful way to spend ti...</td>\n",
       "      <td>1</td>\n",
       "    </tr>\n",
       "    <tr>\n",
       "      <th>3</th>\n",
       "      <td>Basically there's a family where a little boy ...</td>\n",
       "      <td>0</td>\n",
       "    </tr>\n",
       "    <tr>\n",
       "      <th>4</th>\n",
       "      <td>Petter Mattei's \"Love in the Time of Money\" is...</td>\n",
       "      <td>1</td>\n",
       "    </tr>\n",
       "  </tbody>\n",
       "</table>\n",
       "</div>"
      ],
      "text/plain": [
       "                                              review  sentiment\n",
       "0  One of the other reviewers has mentioned that ...          1\n",
       "1  A wonderful little production. The filming tec...          1\n",
       "2  I thought this was a wonderful way to spend ti...          1\n",
       "3  Basically there's a family where a little boy ...          0\n",
       "4  Petter Mattei's \"Love in the Time of Money\" is...          1"
      ]
     },
     "execution_count": 15,
     "metadata": {},
     "output_type": "execute_result"
    }
   ],
   "source": [
    "data.head()"
   ]
  },
  {
   "cell_type": "markdown",
   "id": "7b7fedfa",
   "metadata": {},
   "source": [
    "<h2 align=center>Stemming</h2>"
   ]
  },
  {
   "cell_type": "code",
   "execution_count": 16,
   "id": "43298896",
   "metadata": {},
   "outputs": [],
   "source": [
    "# Function for stemming text\n",
    "def stemText(text):\n",
    "    ps = nltk.porter.PorterStemmer()\n",
    "    text = ' '.join([ps.stem(word) for word in text.split()])\n",
    "    return text"
   ]
  },
  {
   "cell_type": "code",
   "execution_count": 17,
   "id": "48c73dd6",
   "metadata": {},
   "outputs": [],
   "source": [
    "# Apply the function to the text column\n",
    "data['review']=data['review'].apply(stemText)"
   ]
  },
  {
   "cell_type": "code",
   "execution_count": 18,
   "id": "60abebc0",
   "metadata": {},
   "outputs": [
    {
     "data": {
      "text/html": [
       "<div>\n",
       "<style scoped>\n",
       "    .dataframe tbody tr th:only-of-type {\n",
       "        vertical-align: middle;\n",
       "    }\n",
       "\n",
       "    .dataframe tbody tr th {\n",
       "        vertical-align: top;\n",
       "    }\n",
       "\n",
       "    .dataframe thead th {\n",
       "        text-align: right;\n",
       "    }\n",
       "</style>\n",
       "<table border=\"1\" class=\"dataframe\">\n",
       "  <thead>\n",
       "    <tr style=\"text-align: right;\">\n",
       "      <th></th>\n",
       "      <th>review</th>\n",
       "      <th>sentiment</th>\n",
       "    </tr>\n",
       "  </thead>\n",
       "  <tbody>\n",
       "    <tr>\n",
       "      <th>0</th>\n",
       "      <td>one of the other review ha mention that after ...</td>\n",
       "      <td>1</td>\n",
       "    </tr>\n",
       "    <tr>\n",
       "      <th>1</th>\n",
       "      <td>a wonder littl production. the film techniqu i...</td>\n",
       "      <td>1</td>\n",
       "    </tr>\n",
       "    <tr>\n",
       "      <th>2</th>\n",
       "      <td>i thought thi wa a wonder way to spend time on...</td>\n",
       "      <td>1</td>\n",
       "    </tr>\n",
       "    <tr>\n",
       "      <th>3</th>\n",
       "      <td>basic there' a famili where a littl boy (jake)...</td>\n",
       "      <td>0</td>\n",
       "    </tr>\n",
       "    <tr>\n",
       "      <th>4</th>\n",
       "      <td>petter mattei' \"love in the time of money\" is ...</td>\n",
       "      <td>1</td>\n",
       "    </tr>\n",
       "  </tbody>\n",
       "</table>\n",
       "</div>"
      ],
      "text/plain": [
       "                                              review  sentiment\n",
       "0  one of the other review ha mention that after ...          1\n",
       "1  a wonder littl production. the film techniqu i...          1\n",
       "2  i thought thi wa a wonder way to spend time on...          1\n",
       "3  basic there' a famili where a littl boy (jake)...          0\n",
       "4  petter mattei' \"love in the time of money\" is ...          1"
      ]
     },
     "execution_count": 18,
     "metadata": {},
     "output_type": "execute_result"
    }
   ],
   "source": [
    "data.head()"
   ]
  },
  {
   "cell_type": "markdown",
   "id": "9d68d34f",
   "metadata": {},
   "source": [
    "<h2 align=center>Stop Word Removal</h2>"
   ]
  },
  {
   "cell_type": "code",
   "execution_count": 19,
   "id": "5c01ee5b",
   "metadata": {},
   "outputs": [],
   "source": [
    "# Function to remove the Stop Words\n",
    "def removeStopWords(text, isLowerCase=False):\n",
    "    # Text Tokenization\n",
    "    tokenizer = ToktokTokenizer()\n",
    "    tokens = tokenizer.tokenize(text)\n",
    "    tokens = [i.strip() for i in tokens]\n",
    "    if isLowerCase:\n",
    "        filteredTokens = [i for i in tokens if i not in stopWords]\n",
    "    else:\n",
    "        filteredTokens = [i for i in tokens if i.lower() not in stopWords]\n",
    "    filteredText = ' '.join(filteredTokens)\n",
    "    return filteredText"
   ]
  },
  {
   "cell_type": "code",
   "execution_count": 20,
   "id": "96b39257",
   "metadata": {},
   "outputs": [],
   "source": [
    "data['review'] = data['review'].apply(removeStopWords)"
   ]
  },
  {
   "cell_type": "code",
   "execution_count": 21,
   "id": "5860ba45",
   "metadata": {},
   "outputs": [
    {
     "data": {
      "text/html": [
       "<div>\n",
       "<style scoped>\n",
       "    .dataframe tbody tr th:only-of-type {\n",
       "        vertical-align: middle;\n",
       "    }\n",
       "\n",
       "    .dataframe tbody tr th {\n",
       "        vertical-align: top;\n",
       "    }\n",
       "\n",
       "    .dataframe thead th {\n",
       "        text-align: right;\n",
       "    }\n",
       "</style>\n",
       "<table border=\"1\" class=\"dataframe\">\n",
       "  <thead>\n",
       "    <tr style=\"text-align: right;\">\n",
       "      <th></th>\n",
       "      <th>review</th>\n",
       "      <th>sentiment</th>\n",
       "    </tr>\n",
       "  </thead>\n",
       "  <tbody>\n",
       "    <tr>\n",
       "      <th>0</th>\n",
       "      <td>one review ha mention watch 1 oz episod ' hook...</td>\n",
       "      <td>1</td>\n",
       "    </tr>\n",
       "    <tr>\n",
       "      <th>1</th>\n",
       "      <td>wonder littl production. film techniqu veri un...</td>\n",
       "      <td>1</td>\n",
       "    </tr>\n",
       "    <tr>\n",
       "      <th>2</th>\n",
       "      <td>thought thi wa wonder way spend time hot summe...</td>\n",
       "      <td>1</td>\n",
       "    </tr>\n",
       "    <tr>\n",
       "      <th>3</th>\n",
       "      <td>basic ' famili littl boy ( jake ) think ' zomb...</td>\n",
       "      <td>0</td>\n",
       "    </tr>\n",
       "    <tr>\n",
       "      <th>4</th>\n",
       "      <td>petter mattei ' \" love time money \" visual stu...</td>\n",
       "      <td>1</td>\n",
       "    </tr>\n",
       "  </tbody>\n",
       "</table>\n",
       "</div>"
      ],
      "text/plain": [
       "                                              review  sentiment\n",
       "0  one review ha mention watch 1 oz episod ' hook...          1\n",
       "1  wonder littl production. film techniqu veri un...          1\n",
       "2  thought thi wa wonder way spend time hot summe...          1\n",
       "3  basic ' famili littl boy ( jake ) think ' zomb...          0\n",
       "4  petter mattei ' \" love time money \" visual stu...          1"
      ]
     },
     "execution_count": 21,
     "metadata": {},
     "output_type": "execute_result"
    }
   ],
   "source": [
    "data.head()"
   ]
  },
  {
   "cell_type": "markdown",
   "id": "93a433d8",
   "metadata": {},
   "source": [
    "<b>Train test split</b>"
   ]
  },
  {
   "cell_type": "code",
   "execution_count": 22,
   "id": "bb562871",
   "metadata": {},
   "outputs": [],
   "source": [
    "# The dataset needs to be split in half\n",
    "# Training dataset\n",
    "trainReviewsData = data.review[:30000]\n",
    "\n",
    "# Test Dataset\n",
    "testReviewsData = data.review[30000:]"
   ]
  },
  {
   "cell_type": "markdown",
   "id": "245dc0b2",
   "metadata": {},
   "source": [
    "<h2 align=center>Bag Of Words</h2>"
   ]
  },
  {
   "cell_type": "code",
   "execution_count": 23,
   "id": "f3dcfbb6",
   "metadata": {},
   "outputs": [
    {
     "name": "stdout",
     "output_type": "stream",
     "text": [
      "Bag Of Words train: (30000, 4954389)\n",
      "Bag Of Words train: (20000, 4954389)\n"
     ]
    }
   ],
   "source": [
    "# Count vectorizer for Bag Of Word Model\n",
    "cv = CountVectorizer(min_df = 0, max_df = 1, binary = False, ngram_range =(1,3))\n",
    "\n",
    "# Transform Training Reviews Data\n",
    "cvTrain = cv.fit_transform(trainReviewsData)\n",
    "\n",
    "# Transform Test Reviews Data\n",
    "cvTest = cv.transform(testReviewsData)\n",
    "\n",
    "print(f'Bag Of Words train: {cvTrain.shape}')\n",
    "print(f'Bag Of Words train: {cvTest.shape}')\n",
    "\n",
    "# To get the feature name\n",
    "#voc = cntVect.get_feature_names()\n"
   ]
  },
  {
   "cell_type": "markdown",
   "id": "b82648c7",
   "metadata": {},
   "source": [
    "<h2 align=center>TF IDF</h2>"
   ]
  },
  {
   "cell_type": "code",
   "execution_count": 24,
   "id": "5d8f637e",
   "metadata": {},
   "outputs": [
    {
     "name": "stdout",
     "output_type": "stream",
     "text": [
      "Tfidf Train: (30000, 4954389)\n",
      "Tfidf Test: (20000, 4954389)\n"
     ]
    }
   ],
   "source": [
    "# Term Frequency Inverse Document Frequency Model\n",
    "tf = TfidfVectorizer(min_df = 0, max_df = 1, use_idf = True, ngram_range = (1,3))\n",
    "\n",
    "# Transform the Training Reviews Data\n",
    "tfTrain = tf.fit_transform(trainReviewsData)\n",
    "\n",
    "# Transform the Test Reviews Data\n",
    "tfTest = tf.transform(testReviewsData)\n",
    "\n",
    "print(f'Tfidf Train: {tfTrain.shape}')\n",
    "print(f'Tfidf Test: {tfTest.shape}')"
   ]
  },
  {
   "cell_type": "markdown",
   "id": "f855a6a6",
   "metadata": {},
   "source": [
    "<b>Label Encoding</b>"
   ]
  },
  {
   "cell_type": "code",
   "execution_count": null,
   "id": "44f650fd",
   "metadata": {},
   "outputs": [],
   "source": [
    "# Labeling the sentiment data\n",
    "# Run Cell if using nltk.preprocessing\n",
    "#label = LabelBinarizer()\n",
    "\n",
    "#transform the sentiment data\n",
    "#sentiment_data = label.fit_transform(data['sentiment'])\n",
    "\n",
    "#print(sentiment_data.shape)"
   ]
  },
  {
   "cell_type": "code",
   "execution_count": 25,
   "id": "e1458ebf",
   "metadata": {},
   "outputs": [],
   "source": [
    "trainData = data.sentiment[:30000]\n",
    "testData = data.sentiment[30000:]"
   ]
  },
  {
   "cell_type": "markdown",
   "id": "9b1898ff",
   "metadata": {},
   "source": [
    "<h3 align=center>Sigmoid Function (Logistic Regression)</h3>"
   ]
  },
  {
   "cell_type": "code",
   "execution_count": 31,
   "id": "6bb6b18a",
   "metadata": {},
   "outputs": [
    {
     "name": "stdout",
     "output_type": "stream",
     "text": [
      "LogisticRegression(C=1, max_iter=500, penalty='none', random_state=42)\n",
      "LogisticRegression(C=1, max_iter=500, penalty='none', random_state=42)\n"
     ]
    }
   ],
   "source": [
    "# Train the Model\n",
    "logistic = LogisticRegression(penalty = 'none', max_iter = 500, C = 1, random_state = 42)\n",
    "\n",
    "#Fitting Model for Bag Of Words\n",
    "lrBOW = logistic.fit(cvTrain, trainData)\n",
    "\n",
    "print(lrBOW)\n",
    "\n",
    "# Fitting model for TF IDF\n",
    "lrTFIDF = logistic.fit(tfTrain, trainData)\n",
    "\n",
    "print(lrTFIDF)"
   ]
  },
  {
   "cell_type": "code",
   "execution_count": 32,
   "id": "6949be54",
   "metadata": {},
   "outputs": [
    {
     "name": "stdout",
     "output_type": "stream",
     "text": [
      "[0 0 1 ... 0 1 1]\n"
     ]
    }
   ],
   "source": [
    "# Predicting the models accuracy\n",
    "lrBowPredict = logistic.predict(cvTest)\n",
    "\n",
    "print(lrBowPredict)"
   ]
  },
  {
   "cell_type": "code",
   "execution_count": 34,
   "id": "e290d139",
   "metadata": {},
   "outputs": [
    {
     "name": "stdout",
     "output_type": "stream",
     "text": [
      "0.71535\n"
     ]
    }
   ],
   "source": [
    "# Calculate Accuracy for BOW\n",
    "lrBowScore = accuracy_score(testData, lrBowPredict)\n",
    "print(lrBowScore)"
   ]
  },
  {
   "cell_type": "code",
   "execution_count": 35,
   "id": "642b35ef",
   "metadata": {},
   "outputs": [
    {
     "name": "stdout",
     "output_type": "stream",
     "text": [
      "[0 0 1 ... 0 1 1]\n"
     ]
    }
   ],
   "source": [
    "# Predicting the models accuracy\n",
    "lrTfidfPredict = logistic.predict(tfTest)\n",
    "\n",
    "print(lrTfidfPredict)"
   ]
  },
  {
   "cell_type": "code",
   "execution_count": 36,
   "id": "2d7d3f8b",
   "metadata": {},
   "outputs": [
    {
     "name": "stdout",
     "output_type": "stream",
     "text": [
      "0.71535\n"
     ]
    }
   ],
   "source": [
    "# Calculate Accuracy for TF IDF\n",
    "lrTdifScore = accuracy_score(testData, lrTfidfPredict)\n",
    "print(lrBowScore)"
   ]
  },
  {
   "cell_type": "markdown",
   "id": "5d8cf26b",
   "metadata": {},
   "source": [
    "<h2 align=center>What is Textblob</h2>\n",
    "<ol>\n",
    "    <li>Open source Python Library</li>\n",
    "    <li>Funtionallity for:</li>\n",
    "    <ul>\n",
    "        <li>Lemmatization and Stemming</li>\n",
    "        <li>Tokenization and Noun Phrase Extraction</li>\n",
    "        <li>POS Tagging and Word Count</li>\n",
    "        <li>Plularization of words and N-grams</li>\n",
    "    </ul>\n",
    "    <li>Does not provide vectorization and dependancy parsing</li>\n",
    "    <li>Commonly used for Text Classification and Sentiment Analysis</li>\n",
    "</ol>"
   ]
  },
  {
   "cell_type": "markdown",
   "id": "2413667d",
   "metadata": {},
   "source": [
    "<b>N-grams</b></brk>\n",
    "<p>Imagine creating a list of words. Uni-gram would be a single element for each entry. 2-gram will combine two contiguous list entries as one element. We can acquire phrases.</p>"
   ]
  },
  {
   "cell_type": "code",
   "execution_count": null,
   "id": "de1dffbc",
   "metadata": {},
   "outputs": [],
   "source": [
    "#nltk.download('popular')\n",
    "# Helps with tagging\n",
    "#nltk.download('averaged_perceptron_tagger')\n",
    "#nltk.download('averaged_perceptron_tagger_eng')\n",
    "# For word count using textblog\n",
    "#nltk.download('punkt_tab')"
   ]
  },
  {
   "cell_type": "markdown",
   "id": "ffb56e9b",
   "metadata": {},
   "source": [
    "<b>Language Detection Benefits</b>\n",
    "<ul>\n",
    "    <li>Text Blob uses Google translate to interpret language</li>\n",
    "    <li>Text Blob can tranlate one language to another</li>\n",
    "</ul>"
   ]
  },
  {
   "cell_type": "code",
   "execution_count": null,
   "id": "ca134748",
   "metadata": {},
   "outputs": [],
   "source": [
    "# Deprecated\n",
    "#from textblob import TextBlob\n",
    "\n",
    "#tblob = TextBlob('What are you learning?')\n",
    "\n",
    "#print(\"The language you are using is\", tblob.detect_language())\n",
    "\n",
    "#print(\"Change user input to Spanish\", tblob.translate(to = 'es'))"
   ]
  },
  {
   "cell_type": "markdown",
   "id": "ef659d21",
   "metadata": {},
   "source": [
    "<b>Spelling Correction with TextBlob</b></brk>"
   ]
  },
  {
   "cell_type": "code",
   "execution_count": 43,
   "id": "1f4d801f",
   "metadata": {},
   "outputs": [
    {
     "name": "stdout",
     "output_type": "stream",
     "text": [
      "A&L's most valuable rresource is wyou!!!\n",
      "A&L's most valuable resource is you!!!\n",
      "has\n"
     ]
    }
   ],
   "source": [
    "text = '''A&L's most valuable rresource is wyou!!!'''\n",
    "print(text)\n",
    "blob = TextBlob(text)\n",
    "spCh = blob.correct()\n",
    "print(spCh)\n",
    "print(TextBlob('hass').correct())\n",
    "# Single words work better"
   ]
  },
  {
   "cell_type": "markdown",
   "id": "50ead588",
   "metadata": {},
   "source": [
    "<b>Word Count</b>"
   ]
  },
  {
   "cell_type": "markdown",
   "id": "2d70afc2",
   "metadata": {},
   "source": [
    "<p>The word count utility allows us to count the frequency of a word or phase in a sentence. If we have words that do not repead, then the word vectors will become very sparse. It would be difficult for the machine to understand, parse, and model.</p>"
   ]
  },
  {
   "cell_type": "code",
   "execution_count": 50,
   "id": "573fb56f",
   "metadata": {},
   "outputs": [
    {
     "name": "stdout",
     "output_type": "stream",
     "text": [
      "0\n",
      "2\n",
      "1\n",
      "1\n"
     ]
    }
   ],
   "source": [
    "# Did not work until I downloaded punkt_tab\n",
    "text = \"Sentitment Analysis is a modeling technique that enalbes us to find the sentiment of a text. Sentiment can be positive or negative.\"\n",
    "blob = TextBlob(text)\n",
    "print(blob.word_counts['Sentiment'])\n",
    "print(blob.word_counts['sentiment'])\n",
    "print(blob.word_counts['technique'])\n",
    "print(blob.word_counts['that'])"
   ]
  },
  {
   "cell_type": "markdown",
   "id": "7ea8b309",
   "metadata": {},
   "source": [
    "<b>POS Tagging</b></brk>\n",
    "<p>The tagging utility allows the programmer to 'tag' the word in a sentence as a noun, pronoun, verb, adverb, and etc.</p>"
   ]
  },
  {
   "cell_type": "code",
   "execution_count": null,
   "id": "b9dcf2d6",
   "metadata": {},
   "outputs": [],
   "source": [
    "# Utility needed for tagging\n",
    "#nltk.download('averaged_perceptron_tagger_eng')"
   ]
  },
  {
   "cell_type": "code",
   "execution_count": 57,
   "id": "b1e3c61b",
   "metadata": {},
   "outputs": [
    {
     "name": "stdout",
     "output_type": "stream",
     "text": [
      "[('My', 'PRP$'), ('name', 'NN'), ('is', 'VBZ'), ('Maurice', 'NNP'), ('I', 'PRP'), ('am', 'VBP'), ('studying', 'VBG'), ('NLP', 'NNP'), ('for', 'IN'), ('a', 'DT'), ('job', 'NN'), ('Hopefully', 'RB'), ('at', 'IN'), ('Amazon', 'NNP')]\n"
     ]
    }
   ],
   "source": [
    "text = TextBlob(\"My name is Maurice. I am studying NLP for a job. Hopefully, at Amazon.\")\n",
    "print(text.tags)"
   ]
  },
  {
   "cell_type": "code",
   "execution_count": 61,
   "id": "8d68eb43",
   "metadata": {},
   "outputs": [
    {
     "name": "stdout",
     "output_type": "stream",
     "text": [
      "[('My', 'PRP$'), ('name', 'NN'), ('is', 'VBZ'), ('Maurice', 'NNP'), ('I', 'PRP'), ('studying', 'VBG'), ('NLP', 'NNP'), ('for', 'IN'), ('a', 'DT'), ('job', 'NN'), ('Hopefully', 'RB'), ('at', 'IN'), ('Amazon', 'NNP')]\n"
     ]
    }
   ],
   "source": [
    "new_TupleList = []\n",
    "for i in text.tags:\n",
    "    if 'VBP' not in i[1]:\n",
    "        new_TupleList.append(i)\n",
    "\n",
    "print(new_list)"
   ]
  },
  {
   "cell_type": "markdown",
   "id": "edb2f033",
   "metadata": {},
   "source": [
    "<b>Tokenization Revisted</b></brk>\n",
    "<ul>\n",
    "    <li>Corpus: it is a collection of text data</li>\n",
    "    <li>Token: It is the total number of words in a sentence or corpus obtained by converting a sentence into a list</li>\n",
    "    <li>Tokenization is the conversion process</li>\n",
    "    <li>Can be tokenized by spacial character, word, or sentence</li>\n",
    "</ul>"
   ]
  },
  {
   "cell_type": "code",
   "execution_count": 70,
   "id": "002d70bb",
   "metadata": {},
   "outputs": [
    {
     "name": "stdout",
     "output_type": "stream",
     "text": [
      "['How', 'are', 'you', 'today', 'Thank', 'you', 'for', 'joining', 'me']\n",
      "[Sentence(\"How are you today.\"), Sentence(\"Thank you for joining me!\")]\n"
     ]
    }
   ],
   "source": [
    "# Practice with Tokenization\n",
    "text = TextBlob(\"How are you today. Thank you for joining me!\")\n",
    "textTokens = text.words\n",
    "textSentences = text.sentences\n",
    "print(textTokens)\n",
    "print(textSentences)"
   ]
  },
  {
   "cell_type": "markdown",
   "id": "a5dde5ba",
   "metadata": {},
   "source": [
    "<p>Pluralization of words using Textblob</p>"
   ]
  },
  {
   "cell_type": "code",
   "execution_count": 72,
   "id": "e0cf3fc2",
   "metadata": {},
   "outputs": [
    {
     "name": "stdout",
     "output_type": "stream",
     "text": [
      "Platforms\n",
      "Platformss\n"
     ]
    }
   ],
   "source": [
    "#from textblob import Word\n",
    "w = Word('Platform')\n",
    "print(w.pluralize())\n",
    "\n",
    "z = Word('Platforms')\n",
    "print(z.pluralize())"
   ]
  },
  {
   "cell_type": "code",
   "execution_count": 74,
   "id": "bc411402",
   "metadata": {},
   "outputs": [
    {
     "name": "stdout",
     "output_type": "stream",
     "text": [
      "todays\n"
     ]
    }
   ],
   "source": [
    "blob = TextBlob(\"How are you today. Thank you for joining me!\")\n",
    "for word, pos in blob.tags:\n",
    "    if pos == 'NN':\n",
    "        print(word.pluralize())\n"
   ]
  },
  {
   "cell_type": "markdown",
   "id": "5430924d",
   "metadata": {},
   "source": [
    "<b>Lemmatization using Textblob</b>"
   ]
  },
  {
   "cell_type": "code",
   "execution_count": 76,
   "id": "cb1ae1c1",
   "metadata": {},
   "outputs": [
    {
     "name": "stdout",
     "output_type": "stream",
     "text": [
      "Original: Studying | Lem: Studying | Stem: studi\n",
      "Original: NLP | Lem: NLP | Stem: nlp\n",
      "Original: is | Lem: is | Stem: is\n",
      "Original: a | Lem: a | Stem: a\n",
      "Original: great | Lem: great | Stem: great\n",
      "Original: way | Lem: way | Stem: way\n",
      "Original: to | Lem: to | Stem: to\n",
      "Original: do | Lem: do | Stem: do\n",
      "Original: interview | Lem: interview | Stem: interview\n",
      "Original: prep | Lem: prep | Stem: prep\n",
      "Original: Great | Lem: Great | Stem: great\n",
      "Original: Learning | Lem: Learning | Stem: learn\n",
      "Original: is | Lem: is | Stem: is\n",
      "Original: a | Lem: a | Stem: a\n",
      "Original: wonderful | Lem: wonderful | Stem: wonder\n",
      "Original: free | Lem: free | Stem: free\n",
      "Original: resource | Lem: resource | Stem: resourc\n"
     ]
    }
   ],
   "source": [
    "blob = TextBlob(\"Studying NLP is a great way to do interview prep. Great Learning is a wonderful free resource.\")\n",
    "\n",
    "wordList = blob.words\n",
    "\n",
    "for word in wordList:\n",
    "    print(\"Original:\", word, \"| Lem:\", word.lemmatize(), \"| Stem:\", word.stem())"
   ]
  },
  {
   "cell_type": "code",
   "execution_count": 79,
   "id": "31840080",
   "metadata": {},
   "outputs": [
    {
     "name": "stdout",
     "output_type": "stream",
     "text": [
      "learning\n",
      "learn\n",
      "people\n"
     ]
    }
   ],
   "source": [
    "w = Word('learning')\n",
    "## n here signifies a noun\n",
    "print(w.lemmatize(\"n\"))\n",
    "\n",
    "w = Word('learning')\n",
    "## v here signifies a verb\n",
    "print(w.lemmatize(\"v\"))\n",
    "\n",
    "w = Word(\"peoples\")\n",
    "## n here signifies a noun\n",
    "print(w.lemmatize(\"n\"))"
   ]
  },
  {
   "cell_type": "markdown",
   "id": "311af6bc",
   "metadata": {},
   "source": [
    "<b>n-gram in Textblob</b>\n",
    "\n",
    "<p>N-gram stands for the N number of sequences in a single position of an array. Example: uni, bi, and tri are (word), (word word), and (word word word) respectively.</p>\n"
   ]
  },
  {
   "cell_type": "code",
   "execution_count": 81,
   "id": "b54547cb",
   "metadata": {},
   "outputs": [
    {
     "name": "stdout",
     "output_type": "stream",
     "text": [
      "[WordList(['Studying']), WordList(['NLP']), WordList(['is']), WordList(['a']), WordList(['great']), WordList(['way']), WordList(['to']), WordList(['do']), WordList(['interview']), WordList(['prep']), WordList(['Great']), WordList(['Learning']), WordList(['is']), WordList(['a']), WordList(['wonderful']), WordList(['free']), WordList(['resource'])]\n"
     ]
    }
   ],
   "source": [
    "print(blob.ngrams(n = 1))"
   ]
  },
  {
   "cell_type": "code",
   "execution_count": 83,
   "id": "b11427f2",
   "metadata": {},
   "outputs": [
    {
     "name": "stdout",
     "output_type": "stream",
     "text": [
      "[WordList(['Studying', 'NLP']), WordList(['NLP', 'is']), WordList(['is', 'a']), WordList(['a', 'great']), WordList(['great', 'way']), WordList(['way', 'to']), WordList(['to', 'do']), WordList(['do', 'interview']), WordList(['interview', 'prep']), WordList(['prep', 'Great']), WordList(['Great', 'Learning']), WordList(['Learning', 'is']), WordList(['is', 'a']), WordList(['a', 'wonderful']), WordList(['wonderful', 'free']), WordList(['free', 'resource'])]\n"
     ]
    }
   ],
   "source": [
    "print(blob.ngrams(n = 2))"
   ]
  },
  {
   "cell_type": "markdown",
   "id": "8ae74c02",
   "metadata": {},
   "source": [
    "<h3 align=center>Sentiment Analysis Using TextBlob</h3>"
   ]
  },
  {
   "cell_type": "code",
   "execution_count": 71,
   "id": "5b62aa76",
   "metadata": {},
   "outputs": [
    {
     "name": "stdout",
     "output_type": "stream",
     "text": [
      "Sentiment(polarity=0.9099999999999999, subjectivity=0.7800000000000001)\n",
      "Sentiment(polarity=-0.35, subjectivity=0.6000000000000001)\n",
      "Sentiment(polarity=-0.4, subjectivity=0.6)\n"
     ]
    }
   ],
   "source": [
    "# Ran in Conda \n",
    "#python -m spacy download en_core_web_sm\n",
    "import re\n",
    "import numpy as np\n",
    "import pandas as pd\n",
    "import nltk\n",
    "import spacy\n",
    "import string\n",
    "from textblob import TextBlob\n",
    "from nltk.tokenize.toktok import ToktokTokenizer\n",
    "from bs4 import BeautifulSoup\n",
    "from sklearn.utils import shuffle\n",
    "\n",
    "\n",
    "# Create tokenizer object\n",
    "tokenizer = ToktokTokenizer()\n",
    "# Create small Spacy NLP model\n",
    "nlp = spacy.load('en_core_web_sm', disable = ['ner'])\n",
    "\n",
    "print(TextBlob(\"she is very good girl\").sentiment)\n",
    "print(TextBlob('she is not a good girl').sentiment)\n",
    "print(TextBlob('everybody stated she is poor').sentiment)"
   ]
  },
  {
   "cell_type": "markdown",
   "id": "e75feded",
   "metadata": {},
   "source": [
    "<b>Data Pre Processing</b>"
   ]
  },
  {
   "cell_type": "code",
   "execution_count": 72,
   "id": "58c78704",
   "metadata": {},
   "outputs": [],
   "source": [
    "# Used to tokenize text\n",
    "tokenizer = ToktokTokenizer\n",
    "\n",
    "# Configure english stop words\n",
    "stopWords = nltk.corpus.stopwords.words('english')"
   ]
  },
  {
   "cell_type": "code",
   "execution_count": 73,
   "id": "115de652",
   "metadata": {},
   "outputs": [],
   "source": [
    "# Function to remove noise with soup\n",
    "def removeNoiseTXT(text):\n",
    "    soup = BeautifulSoup(text, 'html.parser')\n",
    "    text = soup.getText()\n",
    "    # Remove special characters\n",
    "    text = re.sub('\\[[^]]*\\]', '', text)\n",
    "    return text"
   ]
  },
  {
   "cell_type": "code",
   "execution_count": 74,
   "id": "a5166269",
   "metadata": {},
   "outputs": [],
   "source": [
    "# Access subfolder\n",
    "data = pd.read_csv('rawData/IMDB_Dataset.csv')\n",
    "\n",
    "# Apply the function to the text column\n",
    "data['review']=data['review'].apply(removeNoiseTXT)"
   ]
  },
  {
   "cell_type": "code",
   "execution_count": 75,
   "id": "3bb802a7",
   "metadata": {},
   "outputs": [],
   "source": [
    "# Function for stemming text\n",
    "def stemText(text):\n",
    "    ps = nltk.porter.PorterStemmer()\n",
    "    text = ' '.join([ps.stem(word) for word in text.split()])\n",
    "    return text"
   ]
  },
  {
   "cell_type": "code",
   "execution_count": 76,
   "id": "8f899192",
   "metadata": {},
   "outputs": [],
   "source": [
    "# Apply the function to the text column\n",
    "data['review']=data['review'].apply(stemText)"
   ]
  },
  {
   "cell_type": "markdown",
   "id": "a75afb47",
   "metadata": {},
   "source": [
    "<p>Stop words are use case dependant. Some stop words may need to be removed for the list</p>"
   ]
  },
  {
   "cell_type": "code",
   "execution_count": 77,
   "id": "00cab66b",
   "metadata": {},
   "outputs": [],
   "source": [
    "# Function to remove the Stop Words\n",
    "def removeStopWords(text, isLowerCase=False):\n",
    "    # Text Tokenization\n",
    "    tokenizer = ToktokTokenizer()\n",
    "    tokens = tokenizer.tokenize(text)\n",
    "    tokens = [i.strip() for i in tokens]\n",
    "    if isLowerCase:\n",
    "        filteredTokens = [i for i in tokens if i not in stopWords]\n",
    "    else:\n",
    "        filteredTokens = [i for i in tokens if i.lower() not in stopWords]\n",
    "    filteredText = ' '.join(filteredTokens)\n",
    "    return filteredText\n",
    "\n",
    "data['review'] = data['review'].apply(removeStopWords)"
   ]
  },
  {
   "cell_type": "code",
   "execution_count": 78,
   "id": "98e1e7c5",
   "metadata": {},
   "outputs": [],
   "source": [
    "# The dataset can be split in half\n",
    "# Training dataset\n",
    "trainReviewsData = data.review[:40000]\n",
    "# Test Dataset\n",
    "testReviewsData = data.review[40000:]\n",
    "\n",
    "trainData = data.sentiment[:40000]\n",
    "testData = data.sentiment[40000:]"
   ]
  },
  {
   "cell_type": "markdown",
   "id": "4d5e9db0",
   "metadata": {},
   "source": [
    "<b>Polarity and Subjectivity</b></brk>\n",
    "<p>Polarity: classifies a sentence as positive or negative with an interval range of [-1, 1].\n",
    "1 means positive and 0 means negative. The label binarizer is deprecated and I manually change the values\n",
    "in the dataset.</p></brk>\n",
    "<p>Subjectivity: observation based on personal opinions or emotions. Also given an interval range of [-1, 1]. Closer\n",
    "to one generally indicates public opinion.</p>"
   ]
  },
  {
   "cell_type": "code",
   "execution_count": 102,
   "id": "a33c81ca",
   "metadata": {},
   "outputs": [
    {
     "data": {
      "text/html": [
       "<div>\n",
       "<style scoped>\n",
       "    .dataframe tbody tr th:only-of-type {\n",
       "        vertical-align: middle;\n",
       "    }\n",
       "\n",
       "    .dataframe tbody tr th {\n",
       "        vertical-align: top;\n",
       "    }\n",
       "\n",
       "    .dataframe thead th {\n",
       "        text-align: right;\n",
       "    }\n",
       "</style>\n",
       "<table border=\"1\" class=\"dataframe\">\n",
       "  <thead>\n",
       "    <tr style=\"text-align: right;\">\n",
       "      <th></th>\n",
       "      <th>review</th>\n",
       "      <th>sentiment</th>\n",
       "    </tr>\n",
       "  </thead>\n",
       "  <tbody>\n",
       "    <tr>\n",
       "      <th>0</th>\n",
       "      <td>one review ha mention watch 1 oz episod ' hook...</td>\n",
       "      <td>1</td>\n",
       "    </tr>\n",
       "    <tr>\n",
       "      <th>1</th>\n",
       "      <td>wonder littl production. film techniqu veri un...</td>\n",
       "      <td>1</td>\n",
       "    </tr>\n",
       "    <tr>\n",
       "      <th>2</th>\n",
       "      <td>thought thi wa wonder way spend time hot summe...</td>\n",
       "      <td>1</td>\n",
       "    </tr>\n",
       "    <tr>\n",
       "      <th>3</th>\n",
       "      <td>basic ' famili littl boy ( jake ) think ' zomb...</td>\n",
       "      <td>0</td>\n",
       "    </tr>\n",
       "    <tr>\n",
       "      <th>4</th>\n",
       "      <td>petter mattei ' \" love time money \" visual stu...</td>\n",
       "      <td>1</td>\n",
       "    </tr>\n",
       "    <tr>\n",
       "      <th>...</th>\n",
       "      <td>...</td>\n",
       "      <td>...</td>\n",
       "    </tr>\n",
       "    <tr>\n",
       "      <th>49995</th>\n",
       "      <td>thought thi movi right good job. ' creativ ori...</td>\n",
       "      <td>1</td>\n",
       "    </tr>\n",
       "    <tr>\n",
       "      <th>49996</th>\n",
       "      <td>bad plot , bad dialogue , bad acting , idiot d...</td>\n",
       "      <td>0</td>\n",
       "    </tr>\n",
       "    <tr>\n",
       "      <th>49997</th>\n",
       "      <td>cathol taught parochi elementari school nuns ,...</td>\n",
       "      <td>0</td>\n",
       "    </tr>\n",
       "    <tr>\n",
       "      <th>49998</th>\n",
       "      <td>' go disagre previou comment side maltin thi o...</td>\n",
       "      <td>0</td>\n",
       "    </tr>\n",
       "    <tr>\n",
       "      <th>49999</th>\n",
       "      <td>one expect star trek movi high art , fan expec...</td>\n",
       "      <td>0</td>\n",
       "    </tr>\n",
       "  </tbody>\n",
       "</table>\n",
       "<p>50000 rows × 2 columns</p>\n",
       "</div>"
      ],
      "text/plain": [
       "                                                  review  sentiment\n",
       "0      one review ha mention watch 1 oz episod ' hook...          1\n",
       "1      wonder littl production. film techniqu veri un...          1\n",
       "2      thought thi wa wonder way spend time hot summe...          1\n",
       "3      basic ' famili littl boy ( jake ) think ' zomb...          0\n",
       "4      petter mattei ' \" love time money \" visual stu...          1\n",
       "...                                                  ...        ...\n",
       "49995  thought thi movi right good job. ' creativ ori...          1\n",
       "49996  bad plot , bad dialogue , bad acting , idiot d...          0\n",
       "49997  cathol taught parochi elementari school nuns ,...          0\n",
       "49998  ' go disagre previou comment side maltin thi o...          0\n",
       "49999  one expect star trek movi high art , fan expec...          0\n",
       "\n",
       "[50000 rows x 2 columns]"
      ]
     },
     "execution_count": 102,
     "metadata": {},
     "output_type": "execute_result"
    }
   ],
   "source": [
    "train = data[:50000]\n",
    "train"
   ]
  },
  {
   "cell_type": "code",
   "execution_count": 103,
   "id": "d798daf6",
   "metadata": {},
   "outputs": [],
   "source": [
    "sentiment_0 = train[train['sentiment'] == 0].sample(n = 5000)\n",
    "sentiment_1 = train[train['sentiment'] == 1].sample(n = 5000)"
   ]
  },
  {
   "cell_type": "code",
   "execution_count": 104,
   "id": "975af02d",
   "metadata": {},
   "outputs": [],
   "source": [
    "train = pd.concat([sentiment_1, sentiment_0])\n",
    "\n",
    "train = shuffle(train)"
   ]
  },
  {
   "cell_type": "code",
   "execution_count": 105,
   "id": "41ec2a0d",
   "metadata": {},
   "outputs": [
    {
     "data": {
      "text/html": [
       "<div>\n",
       "<style scoped>\n",
       "    .dataframe tbody tr th:only-of-type {\n",
       "        vertical-align: middle;\n",
       "    }\n",
       "\n",
       "    .dataframe tbody tr th {\n",
       "        vertical-align: top;\n",
       "    }\n",
       "\n",
       "    .dataframe thead th {\n",
       "        text-align: right;\n",
       "    }\n",
       "</style>\n",
       "<table border=\"1\" class=\"dataframe\">\n",
       "  <thead>\n",
       "    <tr style=\"text-align: right;\">\n",
       "      <th></th>\n",
       "      <th>review</th>\n",
       "      <th>sentiment</th>\n",
       "    </tr>\n",
       "  </thead>\n",
       "  <tbody>\n",
       "    <tr>\n",
       "      <th>49293</th>\n",
       "      <td>independ film score well reason high product v...</td>\n",
       "      <td>1</td>\n",
       "    </tr>\n",
       "    <tr>\n",
       "      <th>11683</th>\n",
       "      <td>' movi like make wish never pick nerd grow sch...</td>\n",
       "      <td>1</td>\n",
       "    </tr>\n",
       "    <tr>\n",
       "      <th>9273</th>\n",
       "      <td>child 1980s , grew numer educ well diversionar...</td>\n",
       "      <td>0</td>\n",
       "    </tr>\n",
       "    <tr>\n",
       "      <th>34676</th>\n",
       "      <td>saw thi film histori channel today ( 2006 ) . ...</td>\n",
       "      <td>0</td>\n",
       "    </tr>\n",
       "    <tr>\n",
       "      <th>26523</th>\n",
       "      <td>okay , hell thi suppos ? famili fantasi movi c...</td>\n",
       "      <td>0</td>\n",
       "    </tr>\n",
       "    <tr>\n",
       "      <th>...</th>\n",
       "      <td>...</td>\n",
       "      <td>...</td>\n",
       "    </tr>\n",
       "    <tr>\n",
       "      <th>37148</th>\n",
       "      <td>\" columbo \" see fatal occur right beginning. f...</td>\n",
       "      <td>1</td>\n",
       "    </tr>\n",
       "    <tr>\n",
       "      <th>13129</th>\n",
       "      <td>would like know con produc thi movi pay produc...</td>\n",
       "      <td>0</td>\n",
       "    </tr>\n",
       "    <tr>\n",
       "      <th>20693</th>\n",
       "      <td>word one great movi public campaign came concl...</td>\n",
       "      <td>1</td>\n",
       "    </tr>\n",
       "    <tr>\n",
       "      <th>38946</th>\n",
       "      <td>robert florey jame wong gave thi frightening ,...</td>\n",
       "      <td>1</td>\n",
       "    </tr>\n",
       "    <tr>\n",
       "      <th>49921</th>\n",
       "      <td>antonio margheriti ' \" danza macabra \" aka. \" ...</td>\n",
       "      <td>1</td>\n",
       "    </tr>\n",
       "  </tbody>\n",
       "</table>\n",
       "<p>10000 rows × 2 columns</p>\n",
       "</div>"
      ],
      "text/plain": [
       "                                                  review  sentiment\n",
       "49293  independ film score well reason high product v...          1\n",
       "11683  ' movi like make wish never pick nerd grow sch...          1\n",
       "9273   child 1980s , grew numer educ well diversionar...          0\n",
       "34676  saw thi film histori channel today ( 2006 ) . ...          0\n",
       "26523  okay , hell thi suppos ? famili fantasi movi c...          0\n",
       "...                                                  ...        ...\n",
       "37148  \" columbo \" see fatal occur right beginning. f...          1\n",
       "13129  would like know con produc thi movi pay produc...          0\n",
       "20693  word one great movi public campaign came concl...          1\n",
       "38946  robert florey jame wong gave thi frightening ,...          1\n",
       "49921  antonio margheriti ' \" danza macabra \" aka. \" ...          1\n",
       "\n",
       "[10000 rows x 2 columns]"
      ]
     },
     "execution_count": 105,
     "metadata": {},
     "output_type": "execute_result"
    }
   ],
   "source": [
    "train"
   ]
  },
  {
   "cell_type": "code",
   "execution_count": 106,
   "id": "755d4401",
   "metadata": {},
   "outputs": [
    {
     "data": {
      "text/plain": [
       "review       0\n",
       "sentiment    0\n",
       "dtype: int64"
      ]
     },
     "execution_count": 106,
     "metadata": {},
     "output_type": "execute_result"
    }
   ],
   "source": [
    "train.isnull().sum()"
   ]
  },
  {
   "cell_type": "code",
   "execution_count": 107,
   "id": "de0d4449",
   "metadata": {},
   "outputs": [],
   "source": [
    "# Using numpy to remove special characters\n",
    "train.replace(r'^\\s*$', np.nan, regex = True, inplace = True)\n",
    "\n",
    "# Stem the front and rear of each word\n",
    "train.dropna(axis = 0, how = 'any', inplace = True)"
   ]
  },
  {
   "cell_type": "code",
   "execution_count": 108,
   "id": "687f965a",
   "metadata": {},
   "outputs": [
    {
     "name": "stdout",
     "output_type": "stream",
     "text": [
      "ESC sequence removed\n"
     ]
    }
   ],
   "source": [
    "# Remove any sequences such as tabs, returns, or new lines\n",
    "train.replace([r\"\\\\t|\\\\n|\\\\r\", \"\\t|\\n|\\r\"], value = [\"\",\"\"], regex = True, inplace = True)\n",
    "\n",
    "print('ESC sequence removed')"
   ]
  },
  {
   "cell_type": "code",
   "execution_count": 109,
   "id": "6da44cf3",
   "metadata": {},
   "outputs": [
    {
     "name": "stdout",
     "output_type": "stream",
     "text": [
      "Non-ASCII data removed\n"
     ]
    }
   ],
   "source": [
    "# Remove any non ascii characters from the dataset\n",
    "train['review'] = train['review'].str.encode('ascii','ignore').str.decode('ascii')\n",
    "\n",
    "print('Non-ASCII data removed')"
   ]
  },
  {
   "cell_type": "code",
   "execution_count": 110,
   "id": "875370db",
   "metadata": {},
   "outputs": [
    {
     "data": {
      "text/plain": [
       "'!\"#$%&\\'()*+,-./:;<=>?@[\\\\]^_`{|}~'"
      ]
     },
     "execution_count": 110,
     "metadata": {},
     "output_type": "execute_result"
    }
   ],
   "source": [
    "string.punctuation"
   ]
  },
  {
   "cell_type": "code",
   "execution_count": 111,
   "id": "6033c395",
   "metadata": {},
   "outputs": [],
   "source": [
    "def removePunctuations(text):\n",
    "    #import string\n",
    "    for punctuation in string.punctuation:\n",
    "        text = text.replace(punctuation, '')\n",
    "    return text"
   ]
  },
  {
   "cell_type": "code",
   "execution_count": 112,
   "id": "f790b31c",
   "metadata": {},
   "outputs": [],
   "source": [
    "train['review'] = train['review'].apply(removePunctuations)"
   ]
  },
  {
   "cell_type": "code",
   "execution_count": 113,
   "id": "ff77482c",
   "metadata": {},
   "outputs": [
    {
     "data": {
      "text/html": [
       "<div>\n",
       "<style scoped>\n",
       "    .dataframe tbody tr th:only-of-type {\n",
       "        vertical-align: middle;\n",
       "    }\n",
       "\n",
       "    .dataframe tbody tr th {\n",
       "        vertical-align: top;\n",
       "    }\n",
       "\n",
       "    .dataframe thead th {\n",
       "        text-align: right;\n",
       "    }\n",
       "</style>\n",
       "<table border=\"1\" class=\"dataframe\">\n",
       "  <thead>\n",
       "    <tr style=\"text-align: right;\">\n",
       "      <th></th>\n",
       "      <th>review</th>\n",
       "      <th>sentiment</th>\n",
       "    </tr>\n",
       "  </thead>\n",
       "  <tbody>\n",
       "    <tr>\n",
       "      <th>49293</th>\n",
       "      <td>independ film score well reason high product v...</td>\n",
       "      <td>1</td>\n",
       "    </tr>\n",
       "    <tr>\n",
       "      <th>11683</th>\n",
       "      <td>movi like make wish never pick nerd grow scho...</td>\n",
       "      <td>1</td>\n",
       "    </tr>\n",
       "    <tr>\n",
       "      <th>9273</th>\n",
       "      <td>child 1980s  grew numer educ well diversionari...</td>\n",
       "      <td>0</td>\n",
       "    </tr>\n",
       "    <tr>\n",
       "      <th>34676</th>\n",
       "      <td>saw thi film histori channel today  2006   fir...</td>\n",
       "      <td>0</td>\n",
       "    </tr>\n",
       "    <tr>\n",
       "      <th>26523</th>\n",
       "      <td>okay  hell thi suppos  famili fantasi movi cas...</td>\n",
       "      <td>0</td>\n",
       "    </tr>\n",
       "    <tr>\n",
       "      <th>...</th>\n",
       "      <td>...</td>\n",
       "      <td>...</td>\n",
       "    </tr>\n",
       "    <tr>\n",
       "      <th>37148</th>\n",
       "      <td>columbo  see fatal occur right beginning foll...</td>\n",
       "      <td>1</td>\n",
       "    </tr>\n",
       "    <tr>\n",
       "      <th>13129</th>\n",
       "      <td>would like know con produc thi movi pay produc...</td>\n",
       "      <td>0</td>\n",
       "    </tr>\n",
       "    <tr>\n",
       "      <th>20693</th>\n",
       "      <td>word one great movi public campaign came concl...</td>\n",
       "      <td>1</td>\n",
       "    </tr>\n",
       "    <tr>\n",
       "      <th>38946</th>\n",
       "      <td>robert florey jame wong gave thi frightening  ...</td>\n",
       "      <td>1</td>\n",
       "    </tr>\n",
       "    <tr>\n",
       "      <th>49921</th>\n",
       "      <td>antonio margheriti   danza macabra  aka  castl...</td>\n",
       "      <td>1</td>\n",
       "    </tr>\n",
       "  </tbody>\n",
       "</table>\n",
       "<p>10000 rows × 2 columns</p>\n",
       "</div>"
      ],
      "text/plain": [
       "                                                  review  sentiment\n",
       "49293  independ film score well reason high product v...          1\n",
       "11683   movi like make wish never pick nerd grow scho...          1\n",
       "9273   child 1980s  grew numer educ well diversionari...          0\n",
       "34676  saw thi film histori channel today  2006   fir...          0\n",
       "26523  okay  hell thi suppos  famili fantasi movi cas...          0\n",
       "...                                                  ...        ...\n",
       "37148   columbo  see fatal occur right beginning foll...          1\n",
       "13129  would like know con produc thi movi pay produc...          0\n",
       "20693  word one great movi public campaign came concl...          1\n",
       "38946  robert florey jame wong gave thi frightening  ...          1\n",
       "49921  antonio margheriti   danza macabra  aka  castl...          1\n",
       "\n",
       "[10000 rows x 2 columns]"
      ]
     },
     "execution_count": 113,
     "metadata": {},
     "output_type": "execute_result"
    }
   ],
   "source": [
    "train"
   ]
  },
  {
   "cell_type": "markdown",
   "id": "e04e01bd",
   "metadata": {},
   "source": [
    "<p>Stop words are use case dependant. Some stop words may need to be removed for the list</p>"
   ]
  },
  {
   "cell_type": "code",
   "execution_count": 114,
   "id": "1ad63490",
   "metadata": {},
   "outputs": [
    {
     "name": "stdout",
     "output_type": "stream",
     "text": [
      "['i', 'me', 'my', 'myself', 'we', 'our', 'ours', 'ourselves', 'you', \"you're\", \"you've\", \"you'll\", \"you'd\", 'your', 'yours', 'yourself', 'yourselves', 'he', 'him', 'his', 'himself', 'she', \"she's\", 'her', 'hers', 'herself', 'it', \"it's\", 'its', 'itself', 'they', 'them', 'their', 'theirs', 'themselves', 'what', 'which', 'who', 'whom', 'this', 'that', \"that'll\", 'these', 'those', 'am', 'is', 'are', 'was', 'were', 'be', 'been', 'being', 'have', 'has', 'had', 'having', 'do', 'does', 'did', 'doing', 'a', 'an', 'the', 'and', 'but', 'if', 'or', 'because', 'as', 'until', 'while', 'of', 'at', 'by', 'for', 'with', 'about', 'against', 'between', 'into', 'through', 'during', 'before', 'after', 'above', 'below', 'to', 'from', 'up', 'down', 'in', 'out', 'on', 'off', 'over', 'under', 'again', 'further', 'then', 'once', 'here', 'there', 'when', 'where', 'why', 'how', 'all', 'any', 'both', 'each', 'few', 'more', 'most', 'other', 'some', 'such', 'nor', 'only', 'own', 'same', 'so', 'than', 'too', 'very', 's', 't', 'can', 'will', 'just', 'don', \"don't\", 'should', \"should've\", 'now', 'd', 'll', 'm', 'o', 're', 've', 'y', 'ain', 'aren', \"aren't\", 'couldn', \"couldn't\", 'didn', \"didn't\", 'doesn', \"doesn't\", 'hadn', \"hadn't\", 'hasn', \"hasn't\", 'haven', \"haven't\", 'isn', \"isn't\", 'ma', 'mightn', \"mightn't\", 'mustn', \"mustn't\", 'needn', \"needn't\", 'shan', \"shan't\", 'shouldn', \"shouldn't\", 'wasn', \"wasn't\", 'weren', \"weren't\", 'won', \"won't\", 'wouldn', \"wouldn't\"]\n"
     ]
    }
   ],
   "source": [
    "print(stopWords)"
   ]
  },
  {
   "cell_type": "code",
   "execution_count": null,
   "id": "79f23cca",
   "metadata": {},
   "outputs": [],
   "source": [
    "#Example\n",
    "stopWords.remove('no')\n",
    "stopWords.remove('not')"
   ]
  },
  {
   "cell_type": "code",
   "execution_count": 116,
   "id": "4d485ea9",
   "metadata": {},
   "outputs": [],
   "source": [
    "# Function to remove Special Characters\n",
    "def removeSpecialCharacters(text):\n",
    "    # Using a regular expression\n",
    "    text = re.sub('[^a-zA-z0-9\\s]', '', text)\n",
    "    return text\n",
    "\n",
    "train['review'] = train['review'].apply(removeSpecialCharacters)"
   ]
  },
  {
   "cell_type": "code",
   "execution_count": 117,
   "id": "9e95e80d",
   "metadata": {},
   "outputs": [
    {
     "data": {
      "text/html": [
       "<div>\n",
       "<style scoped>\n",
       "    .dataframe tbody tr th:only-of-type {\n",
       "        vertical-align: middle;\n",
       "    }\n",
       "\n",
       "    .dataframe tbody tr th {\n",
       "        vertical-align: top;\n",
       "    }\n",
       "\n",
       "    .dataframe thead th {\n",
       "        text-align: right;\n",
       "    }\n",
       "</style>\n",
       "<table border=\"1\" class=\"dataframe\">\n",
       "  <thead>\n",
       "    <tr style=\"text-align: right;\">\n",
       "      <th></th>\n",
       "      <th>review</th>\n",
       "      <th>sentiment</th>\n",
       "    </tr>\n",
       "  </thead>\n",
       "  <tbody>\n",
       "    <tr>\n",
       "      <th>49293</th>\n",
       "      <td>independ film score well reason high product v...</td>\n",
       "      <td>1</td>\n",
       "    </tr>\n",
       "    <tr>\n",
       "      <th>11683</th>\n",
       "      <td>movi like make wish never pick nerd grow scho...</td>\n",
       "      <td>1</td>\n",
       "    </tr>\n",
       "    <tr>\n",
       "      <th>9273</th>\n",
       "      <td>child 1980s  grew numer educ well diversionari...</td>\n",
       "      <td>0</td>\n",
       "    </tr>\n",
       "    <tr>\n",
       "      <th>34676</th>\n",
       "      <td>saw thi film histori channel today  2006   fir...</td>\n",
       "      <td>0</td>\n",
       "    </tr>\n",
       "    <tr>\n",
       "      <th>26523</th>\n",
       "      <td>okay  hell thi suppos  famili fantasi movi cas...</td>\n",
       "      <td>0</td>\n",
       "    </tr>\n",
       "    <tr>\n",
       "      <th>...</th>\n",
       "      <td>...</td>\n",
       "      <td>...</td>\n",
       "    </tr>\n",
       "    <tr>\n",
       "      <th>37148</th>\n",
       "      <td>columbo  see fatal occur right beginning foll...</td>\n",
       "      <td>1</td>\n",
       "    </tr>\n",
       "    <tr>\n",
       "      <th>13129</th>\n",
       "      <td>would like know con produc thi movi pay produc...</td>\n",
       "      <td>0</td>\n",
       "    </tr>\n",
       "    <tr>\n",
       "      <th>20693</th>\n",
       "      <td>word one great movi public campaign came concl...</td>\n",
       "      <td>1</td>\n",
       "    </tr>\n",
       "    <tr>\n",
       "      <th>38946</th>\n",
       "      <td>robert florey jame wong gave thi frightening  ...</td>\n",
       "      <td>1</td>\n",
       "    </tr>\n",
       "    <tr>\n",
       "      <th>49921</th>\n",
       "      <td>antonio margheriti   danza macabra  aka  castl...</td>\n",
       "      <td>1</td>\n",
       "    </tr>\n",
       "  </tbody>\n",
       "</table>\n",
       "<p>10000 rows × 2 columns</p>\n",
       "</div>"
      ],
      "text/plain": [
       "                                                  review  sentiment\n",
       "49293  independ film score well reason high product v...          1\n",
       "11683   movi like make wish never pick nerd grow scho...          1\n",
       "9273   child 1980s  grew numer educ well diversionari...          0\n",
       "34676  saw thi film histori channel today  2006   fir...          0\n",
       "26523  okay  hell thi suppos  famili fantasi movi cas...          0\n",
       "...                                                  ...        ...\n",
       "37148   columbo  see fatal occur right beginning foll...          1\n",
       "13129  would like know con produc thi movi pay produc...          0\n",
       "20693  word one great movi public campaign came concl...          1\n",
       "38946  robert florey jame wong gave thi frightening  ...          1\n",
       "49921  antonio margheriti   danza macabra  aka  castl...          1\n",
       "\n",
       "[10000 rows x 2 columns]"
      ]
     },
     "execution_count": 117,
     "metadata": {},
     "output_type": "execute_result"
    }
   ],
   "source": [
    "train"
   ]
  },
  {
   "cell_type": "code",
   "execution_count": 118,
   "id": "9493aee7",
   "metadata": {},
   "outputs": [],
   "source": [
    "# Function to remove HTML\n",
    "def removeHTML(text):\n",
    "    # Consider using BeautifulSoup's utility: BeautifulSoup(text, 'html.parser')\n",
    "    # Create an object containing characters\n",
    "    htmlPattern = re.compile('<.*?>')\n",
    "    # iterate over text and substitute the characters with a space\n",
    "    return htmlPattern.sub(r' ', text)\n",
    "\n",
    "train['review'] = train['review'].apply(removeHTML)"
   ]
  },
  {
   "cell_type": "code",
   "execution_count": 119,
   "id": "76513ab1",
   "metadata": {},
   "outputs": [
    {
     "data": {
      "text/html": [
       "<div>\n",
       "<style scoped>\n",
       "    .dataframe tbody tr th:only-of-type {\n",
       "        vertical-align: middle;\n",
       "    }\n",
       "\n",
       "    .dataframe tbody tr th {\n",
       "        vertical-align: top;\n",
       "    }\n",
       "\n",
       "    .dataframe thead th {\n",
       "        text-align: right;\n",
       "    }\n",
       "</style>\n",
       "<table border=\"1\" class=\"dataframe\">\n",
       "  <thead>\n",
       "    <tr style=\"text-align: right;\">\n",
       "      <th></th>\n",
       "      <th>review</th>\n",
       "      <th>sentiment</th>\n",
       "    </tr>\n",
       "  </thead>\n",
       "  <tbody>\n",
       "    <tr>\n",
       "      <th>49293</th>\n",
       "      <td>independ film score well reason high product v...</td>\n",
       "      <td>1</td>\n",
       "    </tr>\n",
       "    <tr>\n",
       "      <th>11683</th>\n",
       "      <td>movi like make wish never pick nerd grow scho...</td>\n",
       "      <td>1</td>\n",
       "    </tr>\n",
       "    <tr>\n",
       "      <th>9273</th>\n",
       "      <td>child 1980s  grew numer educ well diversionari...</td>\n",
       "      <td>0</td>\n",
       "    </tr>\n",
       "    <tr>\n",
       "      <th>34676</th>\n",
       "      <td>saw thi film histori channel today  2006   fir...</td>\n",
       "      <td>0</td>\n",
       "    </tr>\n",
       "    <tr>\n",
       "      <th>26523</th>\n",
       "      <td>okay  hell thi suppos  famili fantasi movi cas...</td>\n",
       "      <td>0</td>\n",
       "    </tr>\n",
       "    <tr>\n",
       "      <th>...</th>\n",
       "      <td>...</td>\n",
       "      <td>...</td>\n",
       "    </tr>\n",
       "    <tr>\n",
       "      <th>37148</th>\n",
       "      <td>columbo  see fatal occur right beginning foll...</td>\n",
       "      <td>1</td>\n",
       "    </tr>\n",
       "    <tr>\n",
       "      <th>13129</th>\n",
       "      <td>would like know con produc thi movi pay produc...</td>\n",
       "      <td>0</td>\n",
       "    </tr>\n",
       "    <tr>\n",
       "      <th>20693</th>\n",
       "      <td>word one great movi public campaign came concl...</td>\n",
       "      <td>1</td>\n",
       "    </tr>\n",
       "    <tr>\n",
       "      <th>38946</th>\n",
       "      <td>robert florey jame wong gave thi frightening  ...</td>\n",
       "      <td>1</td>\n",
       "    </tr>\n",
       "    <tr>\n",
       "      <th>49921</th>\n",
       "      <td>antonio margheriti   danza macabra  aka  castl...</td>\n",
       "      <td>1</td>\n",
       "    </tr>\n",
       "  </tbody>\n",
       "</table>\n",
       "<p>10000 rows × 2 columns</p>\n",
       "</div>"
      ],
      "text/plain": [
       "                                                  review  sentiment\n",
       "49293  independ film score well reason high product v...          1\n",
       "11683   movi like make wish never pick nerd grow scho...          1\n",
       "9273   child 1980s  grew numer educ well diversionari...          0\n",
       "34676  saw thi film histori channel today  2006   fir...          0\n",
       "26523  okay  hell thi suppos  famili fantasi movi cas...          0\n",
       "...                                                  ...        ...\n",
       "37148   columbo  see fatal occur right beginning foll...          1\n",
       "13129  would like know con produc thi movi pay produc...          0\n",
       "20693  word one great movi public campaign came concl...          1\n",
       "38946  robert florey jame wong gave thi frightening  ...          1\n",
       "49921  antonio margheriti   danza macabra  aka  castl...          1\n",
       "\n",
       "[10000 rows x 2 columns]"
      ]
     },
     "execution_count": 119,
     "metadata": {},
     "output_type": "execute_result"
    }
   ],
   "source": [
    "train"
   ]
  },
  {
   "cell_type": "code",
   "execution_count": 120,
   "id": "f60d3d12",
   "metadata": {},
   "outputs": [],
   "source": [
    "# Function to remove URL\n",
    "def removeURL(text):\n",
    "    url = re.sub('https?://\\$+|www\\.\\S+', ' ', text)\n",
    "    return url\n",
    "\n",
    "train['review'] = train['review'].apply(removeURL)"
   ]
  },
  {
   "cell_type": "code",
   "execution_count": 121,
   "id": "a3ee9270",
   "metadata": {},
   "outputs": [
    {
     "data": {
      "text/html": [
       "<div>\n",
       "<style scoped>\n",
       "    .dataframe tbody tr th:only-of-type {\n",
       "        vertical-align: middle;\n",
       "    }\n",
       "\n",
       "    .dataframe tbody tr th {\n",
       "        vertical-align: top;\n",
       "    }\n",
       "\n",
       "    .dataframe thead th {\n",
       "        text-align: right;\n",
       "    }\n",
       "</style>\n",
       "<table border=\"1\" class=\"dataframe\">\n",
       "  <thead>\n",
       "    <tr style=\"text-align: right;\">\n",
       "      <th></th>\n",
       "      <th>review</th>\n",
       "      <th>sentiment</th>\n",
       "    </tr>\n",
       "  </thead>\n",
       "  <tbody>\n",
       "    <tr>\n",
       "      <th>49293</th>\n",
       "      <td>independ film score well reason high product v...</td>\n",
       "      <td>1</td>\n",
       "    </tr>\n",
       "    <tr>\n",
       "      <th>11683</th>\n",
       "      <td>movi like make wish never pick nerd grow scho...</td>\n",
       "      <td>1</td>\n",
       "    </tr>\n",
       "    <tr>\n",
       "      <th>9273</th>\n",
       "      <td>child 1980s  grew numer educ well diversionari...</td>\n",
       "      <td>0</td>\n",
       "    </tr>\n",
       "    <tr>\n",
       "      <th>34676</th>\n",
       "      <td>saw thi film histori channel today  2006   fir...</td>\n",
       "      <td>0</td>\n",
       "    </tr>\n",
       "    <tr>\n",
       "      <th>26523</th>\n",
       "      <td>okay  hell thi suppos  famili fantasi movi cas...</td>\n",
       "      <td>0</td>\n",
       "    </tr>\n",
       "    <tr>\n",
       "      <th>...</th>\n",
       "      <td>...</td>\n",
       "      <td>...</td>\n",
       "    </tr>\n",
       "    <tr>\n",
       "      <th>37148</th>\n",
       "      <td>columbo  see fatal occur right beginning foll...</td>\n",
       "      <td>1</td>\n",
       "    </tr>\n",
       "    <tr>\n",
       "      <th>13129</th>\n",
       "      <td>would like know con produc thi movi pay produc...</td>\n",
       "      <td>0</td>\n",
       "    </tr>\n",
       "    <tr>\n",
       "      <th>20693</th>\n",
       "      <td>word one great movi public campaign came concl...</td>\n",
       "      <td>1</td>\n",
       "    </tr>\n",
       "    <tr>\n",
       "      <th>38946</th>\n",
       "      <td>robert florey jame wong gave thi frightening  ...</td>\n",
       "      <td>1</td>\n",
       "    </tr>\n",
       "    <tr>\n",
       "      <th>49921</th>\n",
       "      <td>antonio margheriti   danza macabra  aka  castl...</td>\n",
       "      <td>1</td>\n",
       "    </tr>\n",
       "  </tbody>\n",
       "</table>\n",
       "<p>10000 rows × 2 columns</p>\n",
       "</div>"
      ],
      "text/plain": [
       "                                                  review  sentiment\n",
       "49293  independ film score well reason high product v...          1\n",
       "11683   movi like make wish never pick nerd grow scho...          1\n",
       "9273   child 1980s  grew numer educ well diversionari...          0\n",
       "34676  saw thi film histori channel today  2006   fir...          0\n",
       "26523  okay  hell thi suppos  famili fantasi movi cas...          0\n",
       "...                                                  ...        ...\n",
       "37148   columbo  see fatal occur right beginning foll...          1\n",
       "13129  would like know con produc thi movi pay produc...          0\n",
       "20693  word one great movi public campaign came concl...          1\n",
       "38946  robert florey jame wong gave thi frightening  ...          1\n",
       "49921  antonio margheriti   danza macabra  aka  castl...          1\n",
       "\n",
       "[10000 rows x 2 columns]"
      ]
     },
     "execution_count": 121,
     "metadata": {},
     "output_type": "execute_result"
    }
   ],
   "source": [
    "train"
   ]
  },
  {
   "cell_type": "code",
   "execution_count": 122,
   "id": "18b6b896",
   "metadata": {},
   "outputs": [],
   "source": [
    "# Function to remove numbers\n",
    "def removeNumbers(text):\n",
    "    # Remove Integers with List comprehension\n",
    "    text = ''.join([t for t in text if not t.isdigit()])\n",
    "    return text\n",
    "\n",
    "train['review'] = train['review'].apply(removeNumbers)"
   ]
  },
  {
   "cell_type": "code",
   "execution_count": 123,
   "id": "592b7aac",
   "metadata": {},
   "outputs": [
    {
     "data": {
      "text/html": [
       "<div>\n",
       "<style scoped>\n",
       "    .dataframe tbody tr th:only-of-type {\n",
       "        vertical-align: middle;\n",
       "    }\n",
       "\n",
       "    .dataframe tbody tr th {\n",
       "        vertical-align: top;\n",
       "    }\n",
       "\n",
       "    .dataframe thead th {\n",
       "        text-align: right;\n",
       "    }\n",
       "</style>\n",
       "<table border=\"1\" class=\"dataframe\">\n",
       "  <thead>\n",
       "    <tr style=\"text-align: right;\">\n",
       "      <th></th>\n",
       "      <th>review</th>\n",
       "      <th>sentiment</th>\n",
       "    </tr>\n",
       "  </thead>\n",
       "  <tbody>\n",
       "    <tr>\n",
       "      <th>49293</th>\n",
       "      <td>independ film score well reason high product v...</td>\n",
       "      <td>1</td>\n",
       "    </tr>\n",
       "    <tr>\n",
       "      <th>11683</th>\n",
       "      <td>movi like make wish never pick nerd grow scho...</td>\n",
       "      <td>1</td>\n",
       "    </tr>\n",
       "    <tr>\n",
       "      <th>9273</th>\n",
       "      <td>child s  grew numer educ well diversionari pro...</td>\n",
       "      <td>0</td>\n",
       "    </tr>\n",
       "    <tr>\n",
       "      <th>34676</th>\n",
       "      <td>saw thi film histori channel today     first  ...</td>\n",
       "      <td>0</td>\n",
       "    </tr>\n",
       "    <tr>\n",
       "      <th>26523</th>\n",
       "      <td>okay  hell thi suppos  famili fantasi movi cas...</td>\n",
       "      <td>0</td>\n",
       "    </tr>\n",
       "    <tr>\n",
       "      <th>...</th>\n",
       "      <td>...</td>\n",
       "      <td>...</td>\n",
       "    </tr>\n",
       "    <tr>\n",
       "      <th>37148</th>\n",
       "      <td>columbo  see fatal occur right beginning foll...</td>\n",
       "      <td>1</td>\n",
       "    </tr>\n",
       "    <tr>\n",
       "      <th>13129</th>\n",
       "      <td>would like know con produc thi movi pay produc...</td>\n",
       "      <td>0</td>\n",
       "    </tr>\n",
       "    <tr>\n",
       "      <th>20693</th>\n",
       "      <td>word one great movi public campaign came concl...</td>\n",
       "      <td>1</td>\n",
       "    </tr>\n",
       "    <tr>\n",
       "      <th>38946</th>\n",
       "      <td>robert florey jame wong gave thi frightening  ...</td>\n",
       "      <td>1</td>\n",
       "    </tr>\n",
       "    <tr>\n",
       "      <th>49921</th>\n",
       "      <td>antonio margheriti   danza macabra  aka  castl...</td>\n",
       "      <td>1</td>\n",
       "    </tr>\n",
       "  </tbody>\n",
       "</table>\n",
       "<p>10000 rows × 2 columns</p>\n",
       "</div>"
      ],
      "text/plain": [
       "                                                  review  sentiment\n",
       "49293  independ film score well reason high product v...          1\n",
       "11683   movi like make wish never pick nerd grow scho...          1\n",
       "9273   child s  grew numer educ well diversionari pro...          0\n",
       "34676  saw thi film histori channel today     first  ...          0\n",
       "26523  okay  hell thi suppos  famili fantasi movi cas...          0\n",
       "...                                                  ...        ...\n",
       "37148   columbo  see fatal occur right beginning foll...          1\n",
       "13129  would like know con produc thi movi pay produc...          0\n",
       "20693  word one great movi public campaign came concl...          1\n",
       "38946  robert florey jame wong gave thi frightening  ...          1\n",
       "49921  antonio margheriti   danza macabra  aka  castl...          1\n",
       "\n",
       "[10000 rows x 2 columns]"
      ]
     },
     "execution_count": 123,
     "metadata": {},
     "output_type": "execute_result"
    }
   ],
   "source": [
    "train"
   ]
  },
  {
   "cell_type": "code",
   "execution_count": 124,
   "id": "acb951f1",
   "metadata": {},
   "outputs": [],
   "source": [
    "# Function to clean a word\n",
    "def clean(word):\n",
    "    reg = re.compile(r'\\D*\\d')\n",
    "    # Regular expression to check the word agaisnt a set of checks\n",
    "    if reg.match(word):\n",
    "        # if a match is found then return empty string\n",
    "        return ''\n",
    "    # No match then return the word\n",
    "    return word\n",
    "\n",
    "# Function to remove alpha numberic\n",
    "def removeAlphaNumeric(strings):\n",
    "    # List comprehension to create a list of strings\n",
    "    numString = [\" \".join(filter(None, (\n",
    "    # Function call to clean the word when iterating over each word in the string\n",
    "    clean(word) for word in string.split())))\n",
    "    # Loop to interate over each string in a list of strings\n",
    "    for string in strings.split()]\n",
    "    # Statement to rejoin the strings\n",
    "    resStr = ' '.join(numString)\n",
    "    # output to user\n",
    "    return resStr\n",
    "\n",
    "train['review'] = train['review'].apply(removeAlphaNumeric)"
   ]
  },
  {
   "cell_type": "code",
   "execution_count": 125,
   "id": "6d6734b9",
   "metadata": {},
   "outputs": [
    {
     "data": {
      "text/html": [
       "<div>\n",
       "<style scoped>\n",
       "    .dataframe tbody tr th:only-of-type {\n",
       "        vertical-align: middle;\n",
       "    }\n",
       "\n",
       "    .dataframe tbody tr th {\n",
       "        vertical-align: top;\n",
       "    }\n",
       "\n",
       "    .dataframe thead th {\n",
       "        text-align: right;\n",
       "    }\n",
       "</style>\n",
       "<table border=\"1\" class=\"dataframe\">\n",
       "  <thead>\n",
       "    <tr style=\"text-align: right;\">\n",
       "      <th></th>\n",
       "      <th>review</th>\n",
       "      <th>sentiment</th>\n",
       "    </tr>\n",
       "  </thead>\n",
       "  <tbody>\n",
       "    <tr>\n",
       "      <th>49293</th>\n",
       "      <td>independ film score well reason high product v...</td>\n",
       "      <td>1</td>\n",
       "    </tr>\n",
       "    <tr>\n",
       "      <th>11683</th>\n",
       "      <td>movi like make wish never pick nerd grow schoo...</td>\n",
       "      <td>1</td>\n",
       "    </tr>\n",
       "    <tr>\n",
       "      <th>9273</th>\n",
       "      <td>child s grew numer educ well diversionari prog...</td>\n",
       "      <td>0</td>\n",
       "    </tr>\n",
       "    <tr>\n",
       "      <th>34676</th>\n",
       "      <td>saw thi film histori channel today first reali...</td>\n",
       "      <td>0</td>\n",
       "    </tr>\n",
       "    <tr>\n",
       "      <th>26523</th>\n",
       "      <td>okay hell thi suppos famili fantasi movi cash ...</td>\n",
       "      <td>0</td>\n",
       "    </tr>\n",
       "    <tr>\n",
       "      <th>...</th>\n",
       "      <td>...</td>\n",
       "      <td>...</td>\n",
       "    </tr>\n",
       "    <tr>\n",
       "      <th>37148</th>\n",
       "      <td>columbo see fatal occur right beginning follow...</td>\n",
       "      <td>1</td>\n",
       "    </tr>\n",
       "    <tr>\n",
       "      <th>13129</th>\n",
       "      <td>would like know con produc thi movi pay produc...</td>\n",
       "      <td>0</td>\n",
       "    </tr>\n",
       "    <tr>\n",
       "      <th>20693</th>\n",
       "      <td>word one great movi public campaign came concl...</td>\n",
       "      <td>1</td>\n",
       "    </tr>\n",
       "    <tr>\n",
       "      <th>38946</th>\n",
       "      <td>robert florey jame wong gave thi frightening e...</td>\n",
       "      <td>1</td>\n",
       "    </tr>\n",
       "    <tr>\n",
       "      <th>49921</th>\n",
       "      <td>antonio margheriti danza macabra aka castl blo...</td>\n",
       "      <td>1</td>\n",
       "    </tr>\n",
       "  </tbody>\n",
       "</table>\n",
       "<p>10000 rows × 2 columns</p>\n",
       "</div>"
      ],
      "text/plain": [
       "                                                  review  sentiment\n",
       "49293  independ film score well reason high product v...          1\n",
       "11683  movi like make wish never pick nerd grow schoo...          1\n",
       "9273   child s grew numer educ well diversionari prog...          0\n",
       "34676  saw thi film histori channel today first reali...          0\n",
       "26523  okay hell thi suppos famili fantasi movi cash ...          0\n",
       "...                                                  ...        ...\n",
       "37148  columbo see fatal occur right beginning follow...          1\n",
       "13129  would like know con produc thi movi pay produc...          0\n",
       "20693  word one great movi public campaign came concl...          1\n",
       "38946  robert florey jame wong gave thi frightening e...          1\n",
       "49921  antonio margheriti danza macabra aka castl blo...          1\n",
       "\n",
       "[10000 rows x 2 columns]"
      ]
     },
     "execution_count": 125,
     "metadata": {},
     "output_type": "execute_result"
    }
   ],
   "source": [
    "train"
   ]
  },
  {
   "cell_type": "code",
   "execution_count": 127,
   "id": "c87918d4",
   "metadata": {},
   "outputs": [],
   "source": [
    "def lemmatizeText(text):\n",
    "    text = nlp(text)\n",
    "    # For each word in text, Lemmatize the word if != pron otherwise get the text version\n",
    "    text = ' '.join([word.lemma_ if word.lemma_ != '-PRON-' else word.text for word in text])\n",
    "    return text\n",
    "\n",
    "train['review'] = train['review'].apply(lemmatizeText)"
   ]
  },
  {
   "cell_type": "code",
   "execution_count": 128,
   "id": "376a0ae4",
   "metadata": {},
   "outputs": [
    {
     "data": {
      "text/html": [
       "<div>\n",
       "<style scoped>\n",
       "    .dataframe tbody tr th:only-of-type {\n",
       "        vertical-align: middle;\n",
       "    }\n",
       "\n",
       "    .dataframe tbody tr th {\n",
       "        vertical-align: top;\n",
       "    }\n",
       "\n",
       "    .dataframe thead th {\n",
       "        text-align: right;\n",
       "    }\n",
       "</style>\n",
       "<table border=\"1\" class=\"dataframe\">\n",
       "  <thead>\n",
       "    <tr style=\"text-align: right;\">\n",
       "      <th></th>\n",
       "      <th>review</th>\n",
       "      <th>sentiment</th>\n",
       "    </tr>\n",
       "  </thead>\n",
       "  <tbody>\n",
       "    <tr>\n",
       "      <th>49293</th>\n",
       "      <td>independ film score well reason high product v...</td>\n",
       "      <td>1</td>\n",
       "    </tr>\n",
       "    <tr>\n",
       "      <th>11683</th>\n",
       "      <td>movi like make wish never pick nerd grow schoo...</td>\n",
       "      <td>1</td>\n",
       "    </tr>\n",
       "    <tr>\n",
       "      <th>9273</th>\n",
       "      <td>child s grow numer educ well diversionari prog...</td>\n",
       "      <td>0</td>\n",
       "    </tr>\n",
       "    <tr>\n",
       "      <th>34676</th>\n",
       "      <td>see thi film histori channel today first reali...</td>\n",
       "      <td>0</td>\n",
       "    </tr>\n",
       "    <tr>\n",
       "      <th>26523</th>\n",
       "      <td>okay hell thi suppos famili fantasi movi cash ...</td>\n",
       "      <td>0</td>\n",
       "    </tr>\n",
       "    <tr>\n",
       "      <th>...</th>\n",
       "      <td>...</td>\n",
       "      <td>...</td>\n",
       "    </tr>\n",
       "    <tr>\n",
       "      <th>37148</th>\n",
       "      <td>columbo see fatal occur right beginning follow...</td>\n",
       "      <td>1</td>\n",
       "    </tr>\n",
       "    <tr>\n",
       "      <th>13129</th>\n",
       "      <td>would like know con produc thi movi pay produc...</td>\n",
       "      <td>0</td>\n",
       "    </tr>\n",
       "    <tr>\n",
       "      <th>20693</th>\n",
       "      <td>word one great movi public campaign come concl...</td>\n",
       "      <td>1</td>\n",
       "    </tr>\n",
       "    <tr>\n",
       "      <th>38946</th>\n",
       "      <td>robert florey jame wong gave thi frightening e...</td>\n",
       "      <td>1</td>\n",
       "    </tr>\n",
       "    <tr>\n",
       "      <th>49921</th>\n",
       "      <td>antonio margheriti danza macabra aka castl blo...</td>\n",
       "      <td>1</td>\n",
       "    </tr>\n",
       "  </tbody>\n",
       "</table>\n",
       "<p>10000 rows × 2 columns</p>\n",
       "</div>"
      ],
      "text/plain": [
       "                                                  review  sentiment\n",
       "49293  independ film score well reason high product v...          1\n",
       "11683  movi like make wish never pick nerd grow schoo...          1\n",
       "9273   child s grow numer educ well diversionari prog...          0\n",
       "34676  see thi film histori channel today first reali...          0\n",
       "26523  okay hell thi suppos famili fantasi movi cash ...          0\n",
       "...                                                  ...        ...\n",
       "37148  columbo see fatal occur right beginning follow...          1\n",
       "13129  would like know con produc thi movi pay produc...          0\n",
       "20693  word one great movi public campaign come concl...          1\n",
       "38946  robert florey jame wong gave thi frightening e...          1\n",
       "49921  antonio margheriti danza macabra aka castl blo...          1\n",
       "\n",
       "[10000 rows x 2 columns]"
      ]
     },
     "execution_count": 128,
     "metadata": {},
     "output_type": "execute_result"
    }
   ],
   "source": [
    "train"
   ]
  },
  {
   "cell_type": "code",
   "execution_count": 130,
   "id": "0c7a6034",
   "metadata": {},
   "outputs": [
    {
     "data": {
      "text/html": [
       "<div>\n",
       "<style scoped>\n",
       "    .dataframe tbody tr th:only-of-type {\n",
       "        vertical-align: middle;\n",
       "    }\n",
       "\n",
       "    .dataframe tbody tr th {\n",
       "        vertical-align: top;\n",
       "    }\n",
       "\n",
       "    .dataframe thead th {\n",
       "        text-align: right;\n",
       "    }\n",
       "</style>\n",
       "<table border=\"1\" class=\"dataframe\">\n",
       "  <thead>\n",
       "    <tr style=\"text-align: right;\">\n",
       "      <th></th>\n",
       "      <th>review</th>\n",
       "      <th>sentiment</th>\n",
       "      <th>emmotion</th>\n",
       "    </tr>\n",
       "  </thead>\n",
       "  <tbody>\n",
       "    <tr>\n",
       "      <th>49293</th>\n",
       "      <td>independ film score well reason high product v...</td>\n",
       "      <td>1</td>\n",
       "      <td>(0.18850000000000003, 0.30650000000000005)</td>\n",
       "    </tr>\n",
       "    <tr>\n",
       "      <th>11683</th>\n",
       "      <td>movi like make wish never pick nerd grow schoo...</td>\n",
       "      <td>1</td>\n",
       "      <td>(0.09006410256410255, 0.45715811965811964)</td>\n",
       "    </tr>\n",
       "    <tr>\n",
       "      <th>9273</th>\n",
       "      <td>child s grow numer educ well diversionari prog...</td>\n",
       "      <td>0</td>\n",
       "      <td>(0.0736759581881533, 0.4462717770034843)</td>\n",
       "    </tr>\n",
       "    <tr>\n",
       "      <th>34676</th>\n",
       "      <td>see thi film histori channel today first reali...</td>\n",
       "      <td>0</td>\n",
       "      <td>(-0.026726190476190494, 0.4856812169312169)</td>\n",
       "    </tr>\n",
       "    <tr>\n",
       "      <th>26523</th>\n",
       "      <td>okay hell thi suppos famili fantasi movi cash ...</td>\n",
       "      <td>0</td>\n",
       "      <td>(0.11188884644767001, 0.5934757236227823)</td>\n",
       "    </tr>\n",
       "    <tr>\n",
       "      <th>...</th>\n",
       "      <td>...</td>\n",
       "      <td>...</td>\n",
       "      <td>...</td>\n",
       "    </tr>\n",
       "    <tr>\n",
       "      <th>37148</th>\n",
       "      <td>columbo see fatal occur right beginning follow...</td>\n",
       "      <td>1</td>\n",
       "      <td>(0.31696428571428564, 0.550297619047619)</td>\n",
       "    </tr>\n",
       "    <tr>\n",
       "      <th>13129</th>\n",
       "      <td>would like know con produc thi movi pay produc...</td>\n",
       "      <td>0</td>\n",
       "      <td>(-0.135, 0.5866666666666667)</td>\n",
       "    </tr>\n",
       "    <tr>\n",
       "      <th>20693</th>\n",
       "      <td>word one great movi public campaign come concl...</td>\n",
       "      <td>1</td>\n",
       "      <td>(0.28474747474747475, 0.4418181818181818)</td>\n",
       "    </tr>\n",
       "    <tr>\n",
       "      <th>38946</th>\n",
       "      <td>robert florey jame wong gave thi frightening e...</td>\n",
       "      <td>1</td>\n",
       "      <td>(0.23012820512820517, 0.8378205128205128)</td>\n",
       "    </tr>\n",
       "    <tr>\n",
       "      <th>49921</th>\n",
       "      <td>antonio margheriti danza macabra aka castl blo...</td>\n",
       "      <td>1</td>\n",
       "      <td>(0.3686813186813186, 0.5738095238095238)</td>\n",
       "    </tr>\n",
       "  </tbody>\n",
       "</table>\n",
       "<p>10000 rows × 3 columns</p>\n",
       "</div>"
      ],
      "text/plain": [
       "                                                  review  sentiment  \\\n",
       "49293  independ film score well reason high product v...          1   \n",
       "11683  movi like make wish never pick nerd grow schoo...          1   \n",
       "9273   child s grow numer educ well diversionari prog...          0   \n",
       "34676  see thi film histori channel today first reali...          0   \n",
       "26523  okay hell thi suppos famili fantasi movi cash ...          0   \n",
       "...                                                  ...        ...   \n",
       "37148  columbo see fatal occur right beginning follow...          1   \n",
       "13129  would like know con produc thi movi pay produc...          0   \n",
       "20693  word one great movi public campaign come concl...          1   \n",
       "38946  robert florey jame wong gave thi frightening e...          1   \n",
       "49921  antonio margheriti danza macabra aka castl blo...          1   \n",
       "\n",
       "                                          emmotion  \n",
       "49293   (0.18850000000000003, 0.30650000000000005)  \n",
       "11683   (0.09006410256410255, 0.45715811965811964)  \n",
       "9273      (0.0736759581881533, 0.4462717770034843)  \n",
       "34676  (-0.026726190476190494, 0.4856812169312169)  \n",
       "26523    (0.11188884644767001, 0.5934757236227823)  \n",
       "...                                            ...  \n",
       "37148     (0.31696428571428564, 0.550297619047619)  \n",
       "13129                 (-0.135, 0.5866666666666667)  \n",
       "20693    (0.28474747474747475, 0.4418181818181818)  \n",
       "38946    (0.23012820512820517, 0.8378205128205128)  \n",
       "49921     (0.3686813186813186, 0.5738095238095238)  \n",
       "\n",
       "[10000 rows x 3 columns]"
      ]
     },
     "execution_count": 130,
     "metadata": {},
     "output_type": "execute_result"
    }
   ],
   "source": [
    "# Each word will be assigned to post and passed to TextBlob for the sentiment\n",
    "train['emmotion'] = train['review'].apply(lambda post: TextBlob(post).sentiment)\n",
    "train"
   ]
  },
  {
   "cell_type": "markdown",
   "id": "4ba047eb",
   "metadata": {},
   "source": [
    "<p>The sentiment tuple returned will contain the polarity (left) and the subjectivity (right)</p>"
   ]
  },
  {
   "cell_type": "code",
   "execution_count": 131,
   "id": "be4e3ee2",
   "metadata": {},
   "outputs": [],
   "source": [
    "sentimentSeries = train['emmotion'].tolist()"
   ]
  },
  {
   "cell_type": "code",
   "execution_count": 133,
   "id": "4e797c3a",
   "metadata": {},
   "outputs": [],
   "source": [
    "columns = ['polarity', 'subjectivity']\n",
    "mydf = pd.DataFrame(sentimentSeries, columns = columns, index = train.index)"
   ]
  },
  {
   "cell_type": "code",
   "execution_count": 137,
   "id": "7d94df65",
   "metadata": {},
   "outputs": [],
   "source": [
    "result = pd.concat([train, mydf], axis = 1)\n",
    "result.drop(['emmotion'], axis = 1, inplace = True)\n",
    "result.loc[result['polarity'] >= 0.3, 'Derived_Sentiment'] = \"Positive\"\n",
    "result.loc[result['polarity'] < 0.3, 'Derived_Sentiment'] = \"Negative\""
   ]
  },
  {
   "cell_type": "code",
   "execution_count": 138,
   "id": "327f0298",
   "metadata": {},
   "outputs": [
    {
     "data": {
      "text/html": [
       "<div>\n",
       "<style scoped>\n",
       "    .dataframe tbody tr th:only-of-type {\n",
       "        vertical-align: middle;\n",
       "    }\n",
       "\n",
       "    .dataframe tbody tr th {\n",
       "        vertical-align: top;\n",
       "    }\n",
       "\n",
       "    .dataframe thead th {\n",
       "        text-align: right;\n",
       "    }\n",
       "</style>\n",
       "<table border=\"1\" class=\"dataframe\">\n",
       "  <thead>\n",
       "    <tr style=\"text-align: right;\">\n",
       "      <th></th>\n",
       "      <th>review</th>\n",
       "      <th>sentiment</th>\n",
       "      <th>polarity</th>\n",
       "      <th>subjectivity</th>\n",
       "      <th>Derived_Sentiment</th>\n",
       "    </tr>\n",
       "  </thead>\n",
       "  <tbody>\n",
       "    <tr>\n",
       "      <th>49293</th>\n",
       "      <td>independ film score well reason high product v...</td>\n",
       "      <td>1</td>\n",
       "      <td>0.188500</td>\n",
       "      <td>0.306500</td>\n",
       "      <td>Negative</td>\n",
       "    </tr>\n",
       "    <tr>\n",
       "      <th>11683</th>\n",
       "      <td>movi like make wish never pick nerd grow schoo...</td>\n",
       "      <td>1</td>\n",
       "      <td>0.090064</td>\n",
       "      <td>0.457158</td>\n",
       "      <td>Negative</td>\n",
       "    </tr>\n",
       "    <tr>\n",
       "      <th>9273</th>\n",
       "      <td>child s grow numer educ well diversionari prog...</td>\n",
       "      <td>0</td>\n",
       "      <td>0.073676</td>\n",
       "      <td>0.446272</td>\n",
       "      <td>Negative</td>\n",
       "    </tr>\n",
       "    <tr>\n",
       "      <th>34676</th>\n",
       "      <td>see thi film histori channel today first reali...</td>\n",
       "      <td>0</td>\n",
       "      <td>-0.026726</td>\n",
       "      <td>0.485681</td>\n",
       "      <td>Negative</td>\n",
       "    </tr>\n",
       "    <tr>\n",
       "      <th>26523</th>\n",
       "      <td>okay hell thi suppos famili fantasi movi cash ...</td>\n",
       "      <td>0</td>\n",
       "      <td>0.111889</td>\n",
       "      <td>0.593476</td>\n",
       "      <td>Negative</td>\n",
       "    </tr>\n",
       "    <tr>\n",
       "      <th>...</th>\n",
       "      <td>...</td>\n",
       "      <td>...</td>\n",
       "      <td>...</td>\n",
       "      <td>...</td>\n",
       "      <td>...</td>\n",
       "    </tr>\n",
       "    <tr>\n",
       "      <th>37148</th>\n",
       "      <td>columbo see fatal occur right beginning follow...</td>\n",
       "      <td>1</td>\n",
       "      <td>0.316964</td>\n",
       "      <td>0.550298</td>\n",
       "      <td>Positive</td>\n",
       "    </tr>\n",
       "    <tr>\n",
       "      <th>13129</th>\n",
       "      <td>would like know con produc thi movi pay produc...</td>\n",
       "      <td>0</td>\n",
       "      <td>-0.135000</td>\n",
       "      <td>0.586667</td>\n",
       "      <td>Negative</td>\n",
       "    </tr>\n",
       "    <tr>\n",
       "      <th>20693</th>\n",
       "      <td>word one great movi public campaign come concl...</td>\n",
       "      <td>1</td>\n",
       "      <td>0.284747</td>\n",
       "      <td>0.441818</td>\n",
       "      <td>Negative</td>\n",
       "    </tr>\n",
       "    <tr>\n",
       "      <th>38946</th>\n",
       "      <td>robert florey jame wong gave thi frightening e...</td>\n",
       "      <td>1</td>\n",
       "      <td>0.230128</td>\n",
       "      <td>0.837821</td>\n",
       "      <td>Negative</td>\n",
       "    </tr>\n",
       "    <tr>\n",
       "      <th>49921</th>\n",
       "      <td>antonio margheriti danza macabra aka castl blo...</td>\n",
       "      <td>1</td>\n",
       "      <td>0.368681</td>\n",
       "      <td>0.573810</td>\n",
       "      <td>Positive</td>\n",
       "    </tr>\n",
       "  </tbody>\n",
       "</table>\n",
       "<p>10000 rows × 5 columns</p>\n",
       "</div>"
      ],
      "text/plain": [
       "                                                  review  sentiment  polarity  \\\n",
       "49293  independ film score well reason high product v...          1  0.188500   \n",
       "11683  movi like make wish never pick nerd grow schoo...          1  0.090064   \n",
       "9273   child s grow numer educ well diversionari prog...          0  0.073676   \n",
       "34676  see thi film histori channel today first reali...          0 -0.026726   \n",
       "26523  okay hell thi suppos famili fantasi movi cash ...          0  0.111889   \n",
       "...                                                  ...        ...       ...   \n",
       "37148  columbo see fatal occur right beginning follow...          1  0.316964   \n",
       "13129  would like know con produc thi movi pay produc...          0 -0.135000   \n",
       "20693  word one great movi public campaign come concl...          1  0.284747   \n",
       "38946  robert florey jame wong gave thi frightening e...          1  0.230128   \n",
       "49921  antonio margheriti danza macabra aka castl blo...          1  0.368681   \n",
       "\n",
       "       subjectivity Derived_Sentiment  \n",
       "49293      0.306500          Negative  \n",
       "11683      0.457158          Negative  \n",
       "9273       0.446272          Negative  \n",
       "34676      0.485681          Negative  \n",
       "26523      0.593476          Negative  \n",
       "...             ...               ...  \n",
       "37148      0.550298          Positive  \n",
       "13129      0.586667          Negative  \n",
       "20693      0.441818          Negative  \n",
       "38946      0.837821          Negative  \n",
       "49921      0.573810          Positive  \n",
       "\n",
       "[10000 rows x 5 columns]"
      ]
     },
     "execution_count": 138,
     "metadata": {},
     "output_type": "execute_result"
    }
   ],
   "source": [
    "result"
   ]
  },
  {
   "cell_type": "code",
   "execution_count": 139,
   "id": "b897fdc1",
   "metadata": {},
   "outputs": [],
   "source": [
    "result.loc[result['sentiment'] == 1, 'Sentiment_Label'] = 1\n",
    "result.loc[result['sentiment'] == 0, 'Sentiment_Label'] = 0"
   ]
  },
  {
   "cell_type": "code",
   "execution_count": 140,
   "id": "21e36b6f",
   "metadata": {},
   "outputs": [
    {
     "data": {
      "text/html": [
       "<div>\n",
       "<style scoped>\n",
       "    .dataframe tbody tr th:only-of-type {\n",
       "        vertical-align: middle;\n",
       "    }\n",
       "\n",
       "    .dataframe tbody tr th {\n",
       "        vertical-align: top;\n",
       "    }\n",
       "\n",
       "    .dataframe thead th {\n",
       "        text-align: right;\n",
       "    }\n",
       "</style>\n",
       "<table border=\"1\" class=\"dataframe\">\n",
       "  <thead>\n",
       "    <tr style=\"text-align: right;\">\n",
       "      <th></th>\n",
       "      <th>review</th>\n",
       "      <th>sentiment</th>\n",
       "      <th>polarity</th>\n",
       "      <th>subjectivity</th>\n",
       "      <th>Derived_Sentiment</th>\n",
       "      <th>Sentiment_Label</th>\n",
       "    </tr>\n",
       "  </thead>\n",
       "  <tbody>\n",
       "    <tr>\n",
       "      <th>49293</th>\n",
       "      <td>independ film score well reason high product v...</td>\n",
       "      <td>1</td>\n",
       "      <td>0.188500</td>\n",
       "      <td>0.306500</td>\n",
       "      <td>Negative</td>\n",
       "      <td>1.0</td>\n",
       "    </tr>\n",
       "    <tr>\n",
       "      <th>11683</th>\n",
       "      <td>movi like make wish never pick nerd grow schoo...</td>\n",
       "      <td>1</td>\n",
       "      <td>0.090064</td>\n",
       "      <td>0.457158</td>\n",
       "      <td>Negative</td>\n",
       "      <td>1.0</td>\n",
       "    </tr>\n",
       "    <tr>\n",
       "      <th>9273</th>\n",
       "      <td>child s grow numer educ well diversionari prog...</td>\n",
       "      <td>0</td>\n",
       "      <td>0.073676</td>\n",
       "      <td>0.446272</td>\n",
       "      <td>Negative</td>\n",
       "      <td>0.0</td>\n",
       "    </tr>\n",
       "    <tr>\n",
       "      <th>34676</th>\n",
       "      <td>see thi film histori channel today first reali...</td>\n",
       "      <td>0</td>\n",
       "      <td>-0.026726</td>\n",
       "      <td>0.485681</td>\n",
       "      <td>Negative</td>\n",
       "      <td>0.0</td>\n",
       "    </tr>\n",
       "    <tr>\n",
       "      <th>26523</th>\n",
       "      <td>okay hell thi suppos famili fantasi movi cash ...</td>\n",
       "      <td>0</td>\n",
       "      <td>0.111889</td>\n",
       "      <td>0.593476</td>\n",
       "      <td>Negative</td>\n",
       "      <td>0.0</td>\n",
       "    </tr>\n",
       "    <tr>\n",
       "      <th>...</th>\n",
       "      <td>...</td>\n",
       "      <td>...</td>\n",
       "      <td>...</td>\n",
       "      <td>...</td>\n",
       "      <td>...</td>\n",
       "      <td>...</td>\n",
       "    </tr>\n",
       "    <tr>\n",
       "      <th>37148</th>\n",
       "      <td>columbo see fatal occur right beginning follow...</td>\n",
       "      <td>1</td>\n",
       "      <td>0.316964</td>\n",
       "      <td>0.550298</td>\n",
       "      <td>Positive</td>\n",
       "      <td>1.0</td>\n",
       "    </tr>\n",
       "    <tr>\n",
       "      <th>13129</th>\n",
       "      <td>would like know con produc thi movi pay produc...</td>\n",
       "      <td>0</td>\n",
       "      <td>-0.135000</td>\n",
       "      <td>0.586667</td>\n",
       "      <td>Negative</td>\n",
       "      <td>0.0</td>\n",
       "    </tr>\n",
       "    <tr>\n",
       "      <th>20693</th>\n",
       "      <td>word one great movi public campaign come concl...</td>\n",
       "      <td>1</td>\n",
       "      <td>0.284747</td>\n",
       "      <td>0.441818</td>\n",
       "      <td>Negative</td>\n",
       "      <td>1.0</td>\n",
       "    </tr>\n",
       "    <tr>\n",
       "      <th>38946</th>\n",
       "      <td>robert florey jame wong gave thi frightening e...</td>\n",
       "      <td>1</td>\n",
       "      <td>0.230128</td>\n",
       "      <td>0.837821</td>\n",
       "      <td>Negative</td>\n",
       "      <td>1.0</td>\n",
       "    </tr>\n",
       "    <tr>\n",
       "      <th>49921</th>\n",
       "      <td>antonio margheriti danza macabra aka castl blo...</td>\n",
       "      <td>1</td>\n",
       "      <td>0.368681</td>\n",
       "      <td>0.573810</td>\n",
       "      <td>Positive</td>\n",
       "      <td>1.0</td>\n",
       "    </tr>\n",
       "  </tbody>\n",
       "</table>\n",
       "<p>10000 rows × 6 columns</p>\n",
       "</div>"
      ],
      "text/plain": [
       "                                                  review  sentiment  polarity  \\\n",
       "49293  independ film score well reason high product v...          1  0.188500   \n",
       "11683  movi like make wish never pick nerd grow schoo...          1  0.090064   \n",
       "9273   child s grow numer educ well diversionari prog...          0  0.073676   \n",
       "34676  see thi film histori channel today first reali...          0 -0.026726   \n",
       "26523  okay hell thi suppos famili fantasi movi cash ...          0  0.111889   \n",
       "...                                                  ...        ...       ...   \n",
       "37148  columbo see fatal occur right beginning follow...          1  0.316964   \n",
       "13129  would like know con produc thi movi pay produc...          0 -0.135000   \n",
       "20693  word one great movi public campaign come concl...          1  0.284747   \n",
       "38946  robert florey jame wong gave thi frightening e...          1  0.230128   \n",
       "49921  antonio margheriti danza macabra aka castl blo...          1  0.368681   \n",
       "\n",
       "       subjectivity Derived_Sentiment  Sentiment_Label  \n",
       "49293      0.306500          Negative              1.0  \n",
       "11683      0.457158          Negative              1.0  \n",
       "9273       0.446272          Negative              0.0  \n",
       "34676      0.485681          Negative              0.0  \n",
       "26523      0.593476          Negative              0.0  \n",
       "...             ...               ...              ...  \n",
       "37148      0.550298          Positive              1.0  \n",
       "13129      0.586667          Negative              0.0  \n",
       "20693      0.441818          Negative              1.0  \n",
       "38946      0.837821          Negative              1.0  \n",
       "49921      0.573810          Positive              1.0  \n",
       "\n",
       "[10000 rows x 6 columns]"
      ]
     },
     "execution_count": 140,
     "metadata": {},
     "output_type": "execute_result"
    }
   ],
   "source": [
    "result"
   ]
  },
  {
   "cell_type": "markdown",
   "id": "a6677ada",
   "metadata": {},
   "source": [
    "<h3 align=center>Semmantic Segmantation</h3>\n",
    "<p>We reduce the image by layers. The process is called encoding. Used for storage or an application that recreates something. They\n",
    "are auto-encoders. Compression and Decompression. Encoding and Decoding. How is this possible?</p></brk>\n",
    "\n",
    "<p>Semmantic Segmantation: It is the process of apply color to similar objects. Sky, cars, and roads.<p></p> \n",
    "Instance Segmantation: Similar objects are classified as different objects. \n",
    "Need a good corpus (vacabulary) and good training data.</p></brk>\n",
    "\n",
    "<p>The U-Net Architecture Has Two Paths</p>\n",
    "<ol>\n",
    "    <li>The contraction path captures the context within an image with the encoder being a stack of convulotional and pooling layers</li>\n",
    "    <li>The symmetric expanding enables precision localization through transposed convolutions. A fully convolutional network does not have any dense layers. It can take an image of any size.</li>\n",
    "</ol>"
   ]
  },
  {
   "cell_type": "code",
   "execution_count": null,
   "id": "bdfd3b74",
   "metadata": {},
   "outputs": [],
   "source": [
    "Unable to complete because of deprecated libraries."
   ]
  }
 ],
 "metadata": {
  "kernelspec": {
   "display_name": "Python 3 (ipykernel)",
   "language": "python",
   "name": "python3"
  },
  "language_info": {
   "codemirror_mode": {
    "name": "ipython",
    "version": 3
   },
   "file_extension": ".py",
   "mimetype": "text/x-python",
   "name": "python",
   "nbconvert_exporter": "python",
   "pygments_lexer": "ipython3",
   "version": "3.12.4"
  }
 },
 "nbformat": 4,
 "nbformat_minor": 5
}
